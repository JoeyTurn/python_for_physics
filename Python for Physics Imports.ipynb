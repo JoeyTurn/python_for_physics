{
 "cells": [
  {
   "cell_type": "markdown",
   "metadata": {},
   "source": [
    "<a id='topcell'></a>\n",
    "<h1> An Introduction to Python for Physics Students </h1><hr>\n",
    "This notebook is for students in the physical sciences who are seeking to learn about scripting for scientific purposes. The language of choice will be Python as it is the easiest language to work with and requires the least amount of knowledge of computer science fundamentals in order to use effectively.\n",
    "\n",
    "Questions can be sent to the below contacts: <br>\n",
    "joeyturn@uw.edu (may be inactive past Summer 2023, if that is the case, refer to the github link which has an updated address).<br>\n",
    "https://github.com/JoeyTurn\n",
    "<br>\n",
    "\n",
    "Some parts of this notebook will not be all that applicable to physics-based projects, I'll mark these by having a <b>NP</b> (non-physics) tag in front of them. They'll still be included in the case they are necessary to a project or to those who are more curious about the more programming-heavy aspects."
   ]
  },
  {
   "cell_type": "markdown",
   "metadata": {},
   "source": [
    "<a id=\"imports\"></a>\n",
    "<h2>Imports</h2>"
   ]
  },
  {
   "cell_type": "markdown",
   "metadata": {},
   "source": [
    "Imports are extremely powerful tools that we have at our disposal, allowing us access to tools base Python doesn't include, such as randomness, scientific constants, and mathematical functions to name a few. Using an import will give a program access to the functions and variables stored inside a different file, meaning they were written by other people.\n",
    "\n",
    "In general, this doesn't consitute for plagarism as most of the main imports (the ones we'll be looking at) are open-source and as long as the source code isn't modified and redistributed without the copyright, then we're good. (If you're curious about specifics, the specific clause is the \"BSD 3-clause,\" though I'm no lawperson and will not pretend to know about it).\n",
    "\n",
    "NOTE: If an import cannot be found for some reason, please navigate to [Other Imports](#other) to learn about downloading the import!"
   ]
  },
  {
   "cell_type": "markdown",
   "metadata": {},
   "source": [
    "<h3> Imports Topics </h3>\n",
    "\n",
    "1: [NumPy](#numpy)<br>\n",
    "&ensp;1.1: [NumPy Random](#nprand)<br>\n",
    "2: [SciPy](#scipy)<br>\n",
    "3: [Matplotlib](#matplotlib)<br>\n",
    "4: [Math](#math)<br>\n",
    "5: [Other Imports](#other)<br>\n",
    "6: [AstroPy & Units](#astro)<br>\n",
    "7: [Imports Example Solutions](#importssol)"
   ]
  },
  {
   "cell_type": "markdown",
   "metadata": {},
   "source": [
    "To use an import, simply type <code>import *name*</code> where <code>*name*</code> is replaced by the name of what you want to import, like so:"
   ]
  },
  {
   "cell_type": "code",
   "execution_count": null,
   "metadata": {},
   "outputs": [],
   "source": [
    "import numpy"
   ]
  },
  {
   "cell_type": "markdown",
   "metadata": {},
   "source": [
    "In general, imports don't need to be commented, though that rule becomes a bit fuzzy if you're working with less commonly used imports.<br>\n",
    "We can also rename imports to something shorter using <code>import *name* as *shorter_name*</code>, the usefulness of such which we'll show later, as well as only importing one function/variable from the import using <code>from *name* import *function/variable*</code>, which reduces the memory usage of your device. If possible, it's always recommended to <code>import ... from</code>."
   ]
  },
  {
   "cell_type": "code",
   "execution_count": null,
   "metadata": {},
   "outputs": [],
   "source": [
    "import numpy as np\n",
    "from scipy import optimize"
   ]
  },
  {
   "cell_type": "markdown",
   "metadata": {},
   "source": [
    "To then access this import is quite simple, just refer to what it was named as (or its standard imported name if no <code>as</code> was provided, and type <code>.</code> followed by the wanted function or variable. An example will be provided below, giving us an array of length 5 of <code>1.</code> floats.<br>\n",
    "Note that if we use a <code>from *name* import ...</code> statement, it is often not required to use the name of the function with a <code>.</code> before using the function."
   ]
  },
  {
   "cell_type": "code",
   "execution_count": null,
   "metadata": {},
   "outputs": [],
   "source": [
    "ones = np.ones(5)\n",
    "print(ones)\n",
    "\n",
    "#don't test scipy.optimize; despite being imported from scipy, it is not a function, but rather a class (to learn about later)\n",
    "\n",
    "#to do below: check type of ones. is this suprising given what was printed?\n"
   ]
  },
  {
   "cell_type": "markdown",
   "metadata": {},
   "source": [
    "Before moving onto the actual functionality of specific imports, one of the most important things to learn about imports is how to read documentation to find the functions provided in the import. I'll provide quick links to the tools we'll be using, if you have the time, try to look through them for functions which may be useful. In the future, you may be required to make your own documentation for any programs you write, so make sure to have a general idea of documentation structure.<br>\n",
    "NumPy/SciPy Documentation: https://docs.scipy.org/doc/ <br>\n",
    "Matplotlib Documentation: https://matplotlib.org/stable/users/index.html"
   ]
  },
  {
   "cell_type": "markdown",
   "metadata": {},
   "source": [
    "<a id=\"numpy\"></a>\n",
    "<h3>NumPy</h3>\n",
    "\n",
    "https://docs.scipy.org/doc/\n"
   ]
  },
  {
   "cell_type": "markdown",
   "metadata": {},
   "source": [
    "Since we've now imported numpy and briefly used it, let's take a look at what we can do with it. NumPy is useful for almost every scientific task, specifically for it's functionality to give us arrays.<br>\n",
    "Also to note, numpy is almost always imported under the name <code>np</code> as its a shorter name for us to write."
   ]
  },
  {
   "cell_type": "code",
   "execution_count": null,
   "metadata": {},
   "outputs": [],
   "source": [
    "#remember to import at the top of any program you write\n",
    "import numpy as np\n",
    "\n",
    "np.arange(2, 3, 0.1)"
   ]
  },
  {
   "cell_type": "markdown",
   "metadata": {},
   "source": [
    "We can see from the above code that we get an extremely easy way to get a \"list\" of numbers between two points at a specific interval, something that would've taken many more lines to do with something like a <code>for</code> loop. The <code>for</code> loop comparison aside, we have much more functionality with numpy arrays than we would have in a typical Python list. See if you can try to decypher the following code simply by the numpy commands before actually running the code below."
   ]
  },
  {
   "cell_type": "code",
   "execution_count": null,
   "metadata": {},
   "outputs": [],
   "source": [
    "topleft = np.ones((3, 3))\n",
    "topright = np.eye(3, 3) #this might be tricky to get based on looks alone (no pun intended), try to sound it out\n",
    "bottomleft = np.zeros((3, 3))\n",
    "bottomright = np.diag((1, 4, 7))\n",
    "full = np.block([[topleft, topright], [bottomleft, bottomright]])\n",
    "full"
   ]
  },
  {
   "cell_type": "markdown",
   "metadata": {},
   "source": [
    "Something interesting here happens when we include <code>print()</code> around the last <code>full</code> statement, try adding it and see what happens. What changed in the output?<br><br>\n",
    "If everything went correctly, the <code>array()</code> will have been dropped from the output, the reasoning behind being only important to those who want to dive deeper in classes and dunder methods (something we'll go over later). For now, just think of Python only being able to <code>print()</code> things that it knows, so no data types like arrays from imports are outputted.<br><br>\n",
    "We can also take certain sections of arrays and manipulate them in the same way we would manipulate lists:"
   ]
  },
  {
   "cell_type": "code",
   "execution_count": null,
   "metadata": {},
   "outputs": [],
   "source": [
    "full_subsection = full[2:6, 2:6].copy()\n",
    "full_subsection += 5\n",
    "print(full_subsection)"
   ]
  },
  {
   "cell_type": "markdown",
   "metadata": {},
   "source": [
    "Note that it is VERY important to include the <code>.copy()</code> call after the section of the list you want to modify, or else modifying the subsection will modify the subsection EVERYWHERE, including the original array.<br><br>\n",
    "There are a few other interesting things we can do with arrays, like rolling the array, arrays of random numbers, and other array manipulation/special array creation."
   ]
  },
  {
   "cell_type": "code",
   "execution_count": null,
   "metadata": {},
   "outputs": [],
   "source": [
    "#special arrays like linspaces become more important when working with other imports, like matplotlib\n",
    "#linspace makes an array of linear points between the first and second value with a spacing of the third\n",
    "x = np.linspace(0, 10, 100)\n",
    "print(x)\n",
    "#logspace is linspace... but with logs\n",
    "xlogs = np.logspace(1, 10, 100, base = np.e)\n",
    "print(xlogs)\n",
    "\n",
    "#zeros and ones are arrays that can be used for things like Ising models\n",
    "#zeros makes a [m, n] array of \"zero\"-valued elements (0 for int, False for bool, ...)\n",
    "z = np.zeros([2, 2], bool)\n",
    "print(z)\n",
    "#ones is the same as zeros but with \"one\"-valued elements\n",
    "o = np.ones([2, 2], bool)\n",
    "print(o)"
   ]
  },
  {
   "cell_type": "markdown",
   "metadata": {},
   "source": [
    "There are also some basic statistic functionality in numpy, the implementation of which being fairly easy to guess, so I'll include a few short lines to show some of the possible functions."
   ]
  },
  {
   "cell_type": "code",
   "execution_count": null,
   "metadata": {},
   "outputs": [],
   "source": [
    "import numpy as np\n",
    "arr = np.array([1, 2, 3, 10, 6, 2, 5, 7, 1, 5, 8, 1])\n",
    "print(np.mean(arr), np.std(arr))\n",
    "arr2 = np.array([[1, 2, 3, 10, 6, 2, 5, 7, 1, 5, 8, 1], [3, 5, 1, 15, 9, 5, 9, 12, 3, 8, 14, 5]])\n",
    "print(np.cov(arr, arr2))"
   ]
  },
  {
   "cell_type": "markdown",
   "metadata": {},
   "source": [
    "The conversion of lists to arrays will be extremely useful in physics applications, such as looking at columns of data instead of rows, extra functionality, etc."
   ]
  },
  {
   "cell_type": "code",
   "execution_count": null,
   "metadata": {},
   "outputs": [],
   "source": [
    "print(arr2[1]) #gets the second row\n",
    "print(arr2[:, 1]) #gets the second column"
   ]
  },
  {
   "cell_type": "markdown",
   "metadata": {},
   "source": [
    "NumPy also has the <code>gradient</code> function, which let's us very technically take derivatives; though it should be noted, these won't be analytic derivatives, but instead just the values of a derivative at specific dx values, so don't think Python alone will be able to replace the needs of a derivative calculator."
   ]
  },
  {
   "cell_type": "code",
   "execution_count": null,
   "metadata": {},
   "outputs": [],
   "source": [
    "import numpy as np\n",
    "x = np.linspace(0,10,1000)\n",
    "dx = x[1]-x[0]\n",
    "y = x**3 - 3*x**2 + 5\n",
    "yprime = np.gradient(y, dx)"
   ]
  },
  {
   "cell_type": "markdown",
   "metadata": {},
   "source": [
    "The actual <code>yprime</code> variable we get is just a list of numbers just like we let <code>x</code> be, not a mathematical equation, so to get any real use out of the list, we would probably need to graph it, something we will find out how to do later on with a different import. Other than that, it's possible to find the derivative at one point provided you find the location of that value in the <code>x</code> list.\n",
    "\n",
    "In addition to everything listed above (and everything that I omitted for time), we can also use numpy to read in data from external sources. Often data will be stored in a .dat file, or a .csv file (CSV files are essentially basic Excel files with less functionality but greater compatibility with non-Excel services); if using a .dat file, we can use numpy fairly easily using <code>np.loadtxt(\"filename\")</code>, while from a .csv dile, we would usually use another import, pandas, through <code>pd.read_csv(\"filename\")</code> (where pandas is usually imported as pd). \n",
    "\n",
    "If trying to read in the files and python throws errors, it might be because the file is located in another location and not in the root of the program, in this case, make sure to include the full file path inside the filename.\n",
    "\n",
    "There's tons more to numpy, but a lot of it is very case-specific (ie the gradient function), so feel free to follow the documentation or look things up if looking for a specific function."
   ]
  },
  {
   "cell_type": "markdown",
   "metadata": {},
   "source": [
    "[Return to Imports](#imports)"
   ]
  },
  {
   "cell_type": "markdown",
   "metadata": {},
   "source": [
    "<a id=\"nprand\"></a>\n",
    "<h4>NumPy Random</h4>\n",
    "\n",
    "Randomness can often be used in simulations and monte-carlo methods. Luckily for us, this can all be done in python! This will be the first of the imports that isn't directly from a class, yet is from a part of a class, so we'll need to import that specifically, like this:"
   ]
  },
  {
   "cell_type": "code",
   "execution_count": null,
   "metadata": {},
   "outputs": [],
   "source": [
    "import numpy.random as rand"
   ]
  },
  {
   "cell_type": "markdown",
   "metadata": {},
   "source": [
    "Where we see the <code>.</code> being used to go \"one-level down\" in the class, but instead of getting a function or an attribute we get another class.<br>\n",
    "\n",
    "Now that we have the random import, let's set up a seed so that all of the results are still random, yet consistant for everyone who uses the seed."
   ]
  },
  {
   "cell_type": "code",
   "execution_count": null,
   "metadata": {},
   "outputs": [],
   "source": [
    "rand.seed(123)"
   ]
  },
  {
   "cell_type": "markdown",
   "metadata": {},
   "source": [
    "Now that we set the seed, we'll be getting the same numbers, even though the numbers will be truly random. The functionality of random numbers can be all essentially traced to a few functions which I'll list below, but try to read through the numpy docstring to see if there are some interesting ones you want to play around with."
   ]
  },
  {
   "cell_type": "code",
   "execution_count": null,
   "metadata": {},
   "outputs": [],
   "source": [
    "print(rand.random(10)) #gives 10 random numbers between 0 and 1\n",
    "print(rand.randint(0, 10, 10)) # gives 10 random integers between 0 and 9\n",
    "print(rand.poisson(1, 10)) #gives 10 numbers sampled from a poisson distribution\n",
    "print(rand.normal(0, 1, 10)) #gives 10 random numbers sampled from a normal distrib with mean 0 and std 1"
   ]
  },
  {
   "cell_type": "markdown",
   "metadata": {},
   "source": [
    "Every time you run the above code, different random numbers will appear except if you rerun the <code>rand.seed(123)</code> which resets the \"position\" of the seed back to its initial state."
   ]
  },
  {
   "cell_type": "markdown",
   "metadata": {},
   "source": [
    "[Return to Imports](#imports)"
   ]
  },
  {
   "cell_type": "markdown",
   "metadata": {},
   "source": [
    "<a id=\"scipy\"></a>\n",
    "<h3>SciPy</h3>\n",
    "    \n",
    "https://docs.scipy.org/doc/"
   ]
  },
  {
   "cell_type": "markdown",
   "metadata": {},
   "source": [
    "SciPy is, as it's name might suggest, important if we want to use scientific tools like physical constants, integration, and Fourier transforms.<br>\n",
    "Also before we start, scipy has no abbreviation for importing, so please don't write <code>import scipy as sp/sc</code> as other people working on the project might get mixed up when trying to use scipy.\n",
    "\n",
    "To start with the most simple part of scipy; I'll leave the link to the constants below, and type out some of the most useful ones, but they should be relatively easy to guess nonetheless.\n",
    "https://docs.scipy.org/doc/scipy/reference/constants.html"
   ]
  },
  {
   "cell_type": "code",
   "execution_count": null,
   "metadata": {},
   "outputs": [],
   "source": [
    "import scipy.constants as const\n",
    "\n",
    "print(const.G, const.g, const.pi, const.c, const.k, const.m_e, const.hbar)"
   ]
  },
  {
   "cell_type": "markdown",
   "metadata": {},
   "source": [
    "There are a few other things which are entry-level enough for here, so let's go over the Fourier transform next (and yes, Fourier transforms are entry-level compared to some of the other modules in scipy)."
   ]
  },
  {
   "cell_type": "code",
   "execution_count": null,
   "metadata": {},
   "outputs": [],
   "source": [
    "from scipy.fft import fft, ifft\n",
    "x = np.array([0, 1, 2, -1, 0])\n",
    "xf = fft(x)\n",
    "print(xf)\n",
    "xif = ifft(xf)\n",
    "print(xif) #this is just x"
   ]
  },
  {
   "cell_type": "markdown",
   "metadata": {},
   "source": [
    "We can do Fourier transforms on their own, but it might be more useful to visualize it using an import we'll learn more about later... don't pay too much attention to the <code>plt</code> code, but instead focus on the y formula and the peaks of the frequencies in the graph."
   ]
  },
  {
   "cell_type": "code",
   "execution_count": null,
   "metadata": {},
   "outputs": [],
   "source": [
    "from scipy.fft import fft, ifft, fftfreq\n",
    "import numpy as np\n",
    "\n",
    "N = 600 #number of points\n",
    "T = 1/800 #spacing\n",
    "\n",
    "x = np.linspace(0.0, N*T, N)\n",
    "y = .3*np.sin(100 * 2.0*np.pi*x) + .5*np.sin(80.0 * 2.0*np.pi*x)\n",
    "xf = fftfreq(N, T)[0:N//2]\n",
    "yf = fft(y)\n",
    "\n",
    "import matplotlib.pyplot as plt\n",
    "plt.plot(xf, 2.0/N * np.abs(yf[0:N//2]))\n",
    "plt.show()"
   ]
  },
  {
   "cell_type": "markdown",
   "metadata": {},
   "source": [
    "The last part of scipy I want to cover was already slightly introduced in the numpy section: linear algebra. Numpy's linear algebra is actually just the more used parts of scipy's linalg, but to be quick let's look at what scipy can do."
   ]
  },
  {
   "cell_type": "code",
   "execution_count": null,
   "metadata": {},
   "outputs": [],
   "source": [
    "import numpy as np\n",
    "from scipy import linalg\n",
    "\n",
    "A = np.array([[1,2,4],[4,5,6],[7,8,9]]) #don't change to 123456789, the determinant is 0\n",
    "print(A)\n",
    "print(linalg.inv(A)) #the determinant is incredibly small, so extremely large values \n",
    "print(A.dot(linalg.inv(A)))\n",
    "\n",
    "B = np.array([2, 4, 1])\n",
    "print(A.dot(B.T))\n",
    "print(B.T.dot(A))"
   ]
  },
  {
   "cell_type": "markdown",
   "metadata": {},
   "source": [
    "[Return to Imports](#imports)"
   ]
  },
  {
   "cell_type": "markdown",
   "metadata": {},
   "source": [
    "<a id=\"matplotlib\"></a>\n",
    "<h3>MatPlotLib</h3>\n",
    "\n",
    "https://matplotlib.org/stable/users/index.html"
   ]
  },
  {
   "cell_type": "markdown",
   "metadata": {},
   "source": [
    "MatPlotLib is probably the second most used import for physics-based applications besides numpy (placed below scipy, however, due to scipy's similarities with numpy). Even though it's extremely important, it's also conveniently extremely easy to use.\n",
    "\n",
    "Matplotlib is often used mostly for it's one subclass of pyplot, which allows us to create basic plots in Python! It'll be a lot easier to show with an example, so I'll set one up and explain it after."
   ]
  },
  {
   "cell_type": "code",
   "execution_count": null,
   "metadata": {},
   "outputs": [],
   "source": [
    "import matplotlib.pyplot as plt\n",
    "import numpy as np\n",
    "\n",
    "x = np.sort(np.random.randint(0, 1000, 100))\n",
    "y = x + np.random.normal(0, 10, 100)\n",
    "\n",
    "plt.plot(x, y)\n",
    "plt.title(\"Random Linear Graph with Added Computer Noise\")\n",
    "plt.xlabel(\"Random X Axis\")\n",
    "plt.ylabel(\"Random Y Axis\")\n",
    "plt.show()"
   ]
  },
  {
   "cell_type": "markdown",
   "metadata": {},
   "source": [
    "The main portion of matlab is just the bottom part of the cell, where we can easily use <code>plot(x, y)</code> and follow that up with some labels and a title to give any potential viewers more information about what the graph represents.\n",
    "\n",
    "I would normally have more to say about such an important import, and while this is partially true for simulations where we can use matplotlib's animation package, this should, in all honesty, be satisfactory for now."
   ]
  },
  {
   "cell_type": "markdown",
   "metadata": {},
   "source": [
    "[Return to Imports](#imports)"
   ]
  },
  {
   "cell_type": "markdown",
   "metadata": {},
   "source": [
    "<a id=\"math\"></a>\n",
    "<h3>Math</h3>\n",
    "\n",
    "https://docs.python.org/3/library/math.html"
   ]
  },
  {
   "cell_type": "markdown",
   "metadata": {},
   "source": [
    "The math import was actually programmed by the Python developers, though it's use was limited enough that it isn't automatically imported. There is quite a bit of overlap between math and numpy, but it's not uncommon to see math used in combination with numpy. There isn't any specific class that's bound to math (in contrast to numpy's arrays, matplotlib's plots), so it's probably easiest to list off some common uses for the math import."
   ]
  },
  {
   "cell_type": "code",
   "execution_count": null,
   "metadata": {},
   "outputs": [],
   "source": [
    "import math\n",
    "\n",
    "print(math.cos(180)) #math.cos/sin/tan takes values in radians\n",
    "print(math.cos(math.radians(180)))\n",
    "print(math.exp(1)) #since e**1 will produce an error unless e is defined elsewhere\n",
    "print(math.e) #...like here\n",
    "print(math.factorial(4))\n",
    "print(math.log(10, 2))"
   ]
  },
  {
   "cell_type": "markdown",
   "metadata": {},
   "source": [
    "[Return to Imports](#imports)"
   ]
  },
  {
   "cell_type": "markdown",
   "metadata": {},
   "source": [
    "<a id=\"other\"></a>\n",
    "<h3>Other Imports</h3>"
   ]
  },
  {
   "cell_type": "markdown",
   "metadata": {},
   "source": [
    "Occasionally you'll find yourself wanting to import a custom imports, ones which are made from-scratch for a more specific purpose than you would find in something like numpy/scipy/matplotlib. Since the functions from these imports are specific to the packge you want to download, I won't be able to go over them but hopefully you'll know how to find which functions are needed by now.\n",
    "\n",
    "To actually download the packages, we'll need to go over the console, which is difficult to do within a notebook, so please follow along carefully. The commands I'll use will be lead with a <kbd>%</kbd> symbol which tells the notebook to execute a console command, but it is far easier to go back to the Jupyter tree (the tab from which you opened this notebook), select the top-right <kbd>New</kbd> button and select <kbd>Terminal</kbd> in the <kbd>Other</kbd> section. Once this terminal is open, you can copy any commands in front of the <kbd>%</kbd> and paste them into a terminal.\n",
    "\n",
    "To begin, we'll quickly go over some commands within the terminal which will help you access different parts of your computer, the first of them being <code>%ls</code>."
   ]
  },
  {
   "cell_type": "code",
   "execution_count": null,
   "metadata": {},
   "outputs": [],
   "source": [
    "%ls"
   ]
  },
  {
   "cell_type": "markdown",
   "metadata": {},
   "source": [
    "You should be have gotten a spew of a lot of files, which lets you see which files can be accessed (easily) from your current directory. Let's make a dummy folder to move into, by using the <code>%mkdir</code> command."
   ]
  },
  {
   "cell_type": "code",
   "execution_count": null,
   "metadata": {},
   "outputs": [],
   "source": [
    "%mkdir \"Intro Python Dummy Folder\""
   ]
  },
  {
   "cell_type": "markdown",
   "metadata": {},
   "source": [
    "Of course, you can call this whatever you like, but just to make it easy, let's stick with this folder name. To get into the folder, we can use the <code>%cd </code> command."
   ]
  },
  {
   "cell_type": "code",
   "execution_count": null,
   "metadata": {},
   "outputs": [],
   "source": [
    "%cd \"Intro Python Dummy Folder\"\n",
    "%ls"
   ]
  },
  {
   "cell_type": "markdown",
   "metadata": {},
   "source": [
    "We should now be inside the new dummy folder, as shown by the lack of options of files inside the folder. To back out of it, we can use <code>%cd ../</code>. We can also re-check where we are by using <code>%pwd</code>."
   ]
  },
  {
   "cell_type": "code",
   "execution_count": null,
   "metadata": {},
   "outputs": [],
   "source": [
    "%cd ../\n",
    "%pwd"
   ]
  },
  {
   "cell_type": "markdown",
   "metadata": {},
   "source": [
    "Now that we have that out of the way, we can get to installing actual imports. A lot of common imports can be gotten through <code>%pip install ....</code> with the <kbd>....</kbd> being replaced with the name of the import. Note that if we do this within the JupyterNotebook, you may have another program pop-up which is due to the fact that the <code>%</code> work-around to get console commands inside a notebook isn't perfect. "
   ]
  },
  {
   "cell_type": "code",
   "execution_count": null,
   "metadata": {},
   "outputs": [],
   "source": [
    "#only run in the notebook if you're fine knowing it likely won't work without you running another program\n",
    "#installing tensorflow from the notebook might work fine, but trying it with something like git might not\n",
    "%pip install tensorflow"
   ]
  },
  {
   "cell_type": "markdown",
   "metadata": {},
   "source": [
    "The <code>%pip</code> command works fine for most things, but there a few others that prove to be useful, the first of which being <code>%conda install/upgrade ....</code>. This should be use if there are problems with the pip command, but know that <code>%conda</code> is specific to the ana/mini-conda programs (from which you likely downloaded Jupyter) and that the commands have even less functionality within notebooks."
   ]
  },
  {
   "cell_type": "code",
   "execution_count": null,
   "metadata": {},
   "outputs": [],
   "source": [
    "%conda install torch"
   ]
  },
  {
   "cell_type": "markdown",
   "metadata": {},
   "source": [
    "The last command to \"get\" is git (I'm hilarious, I know), which is the command to use when a package hasn't been uploaded to be pip'd. For <code>%git</code>, we truly do need the console for this, as there is no <code>%git</code> functionality in the notebook. You may have to download git if none of the commands work within the console, but this should be easy to find after a quick google search of \"git download.\"\n",
    "\n",
    "The first <code>%git</code> command to know is <code>%git clone link.git</code> where the <kbd>link</kbd> is a link to the github site from which you want to download. As an example, let's use the github link \"https://github.com/4kbt/NewtonianEotWashToolkit\" which is a toolkit used for/by the Eöt-Wash group at the UW. The command to \"git\" this is:"
   ]
  },
  {
   "cell_type": "code",
   "execution_count": null,
   "metadata": {},
   "outputs": [],
   "source": [
    "%git clone https://github.com/4kbt/NewtonianEotWashToolkit.git"
   ]
  },
  {
   "cell_type": "markdown",
   "metadata": {},
   "source": [
    "If things have gone smoothly, the file should now have been downloaded in whichever directory you're in (which can be checked with <code>pwd</code>). The import likely still won't work though, (you can check for yourself by putting a new code cell below and using <code>import newt</code>) which is somewhat intended as there's another step with most git'd imports. There typically is a <kbd>setup.py</kbd> file within the folder you've downloaded which we'll navigate towards. If using the notebook for this portion, you'll need to find where the github repository was cloned to (typically the Documents folder), and finally navigate until you're in the folder \"NewtonianEotWashToolkit\". Once there, you'll want to use the command <code>pip install .</code> which will finally allow the import to be accessed:"
   ]
  },
  {
   "cell_type": "code",
   "execution_count": null,
   "metadata": {},
   "outputs": [],
   "source": [
    "#assuming you're inside the \"NewtonianEotWashToolkit\" folder,\n",
    "%pip install ."
   ]
  },
  {
   "cell_type": "code",
   "execution_count": null,
   "metadata": {},
   "outputs": [],
   "source": [
    "import newt"
   ]
  },
  {
   "cell_type": "markdown",
   "metadata": {},
   "source": [
    "Just one last thing to mention, if <code>%pip clone</code> isn't working for whatever reason, you can click on the green <kbd>Code</kbd> button within the github and click on the <kbd>Download ZIP</kbd> option. You may need to unzip the file, but after that installing with <code>%pip install .</code> is the exact same (if you're in the folder with setup.py in it).\n",
    "\n",
    "This should be all for custom imports!"
   ]
  },
  {
   "cell_type": "markdown",
   "metadata": {},
   "source": [
    "[Return to Imports](#imports)"
   ]
  },
  {
   "cell_type": "markdown",
   "metadata": {},
   "source": [
    "<a id=\"astro\"></a>\n",
    "<h3>AstroPy & Units</h3>\n",
    "\n",
    "https://docs.astropy.org/en/stable/index.html"
   ]
  },
  {
   "cell_type": "markdown",
   "metadata": {},
   "source": [
    "AstroPy, as the name might give away, is more focused on astronomy use cases rather than purely physics ones; however, given the close relation between the two subjects and some of the functionality in astropy, I thought it was worth reviewing."
   ]
  },
  {
   "cell_type": "markdown",
   "metadata": {},
   "source": [
    "I will come back to AstroPy & Units later, as I don't do much astrological programming."
   ]
  },
  {
   "cell_type": "code",
   "execution_count": null,
   "metadata": {},
   "outputs": [],
   "source": []
  },
  {
   "cell_type": "markdown",
   "metadata": {},
   "source": [
    "[Return to Imports](#imports)"
   ]
  },
  {
   "cell_type": "markdown",
   "metadata": {},
   "source": [
    "<a id=\"importssol\"></a>\n",
    "<h3>Imports Example Solutions</h3>"
   ]
  },
  {
   "cell_type": "markdown",
   "metadata": {},
   "source": [
    "No examples for now! Come back when the other sections of the notebook are complete!"
   ]
  },
  {
   "cell_type": "code",
   "execution_count": null,
   "metadata": {},
   "outputs": [],
   "source": []
  },
  {
   "cell_type": "markdown",
   "metadata": {},
   "source": [
    "[Return to top](#topcell)"
   ]
  }
 ],
 "metadata": {
  "kernelspec": {
   "display_name": "Python 3",
   "language": "python",
   "name": "python3"
  },
  "language_info": {
   "codemirror_mode": {
    "name": "ipython",
    "version": 3
   },
   "file_extension": ".py",
   "mimetype": "text/x-python",
   "name": "python",
   "nbconvert_exporter": "python",
   "pygments_lexer": "ipython3",
   "version": "3.7.13"
  }
 },
 "nbformat": 4,
 "nbformat_minor": 2
}
