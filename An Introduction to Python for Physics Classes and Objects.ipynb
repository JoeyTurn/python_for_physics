{
 "cells": [
  {
   "cell_type": "markdown",
   "metadata": {},
   "source": [
    "<a id='topcell'></a>\n",
    "<h1> An Introduction to Python for Physics Students </h1><hr>\n",
    "This notebook is for students in the physical sciences who are seeking to learn about scripting for scientific purposes. The language of choice will be Python as it is the easiest language to work with and requires the least amount of knowledge of computer science fundamentals in order to use effectively.\n",
    "\n",
    "Questions can be sent to the below contacts: <br>\n",
    "joeyturn@uw.edu (may be inactive past Summer 2023, if that is the case, refer to the github link which has an updated address).<br>\n",
    "https://github.com/JoeyTurn\n",
    "<br>\n",
    "\n",
    "Some parts of this notebook will not be all that applicable to physics-based projects, I'll mark these by having a <b>NP</b> (non-physics) tag in front of them. They'll still be included in the case they are necessary to a project or to those who are more curious about the more programming-heavy aspects."
   ]
  },
  {
   "cell_type": "markdown",
   "metadata": {},
   "source": [
    "<a id=\"classes\"></a>\n",
    "<h2>Classes and Objects</h2>"
   ]
  },
  {
   "cell_type": "markdown",
   "metadata": {},
   "source": [
    "Classes and Objects are, perhaps, the most fundamental ideas and structures used in programming, though their implementation can take quite a bit more work than other fundamental coding tools such as variables and functions. Now that imports have been introduced and looked at, I believe it's an appropriate time to finally introduce classes and objects.<br><br>\n",
    "As an overview, objects are made of classes, in the exact same way that a phone may be made out of a phone blueprint: each individual phone (object) may have different apps, texts, and other media inside the phone, but the specification for what a phone of this model consists of will be contained inside a blueprint (class). Since we can't mass produce something without a blueprint, let's first look at classes, then move to objects.<br><br>\n",
    "As a quick reminder, <b>NP</b> is the tag for sections that aren't heavily used in physics (that I know of)."
   ]
  },
  {
   "cell_type": "markdown",
   "metadata": {},
   "source": [
    "<h3> Classes and Objects Topics </h3>\n",
    "\n",
    "1: [Classes](#class)<br>\n",
    "&ensp; 1.1 [Class Methods](#classmethods)<br>\n",
    "&ensp; 1.2 <b>NP</b> [Attributes Setters and Getters](#attributes)<br>\n",
    "&ensp; 1.3 <b>NP</b> [Dunder Methods](#dunder)<br>\n",
    "2: [Inheritance and Polymorphism](#inheritance)<br>\n",
    "3: [Objects](#objects)<br>\n",
    "4: <b>NP</b> [Abstract Base and Data Classes](#data)<br>\n",
    "5: [Classes and Objects Example Solutions](#classessol)"
   ]
  },
  {
   "cell_type": "markdown",
   "metadata": {},
   "source": [
    "<a id=\"class\"></a>\n",
    "<h3>Classes</h3>"
   ]
  },
  {
   "cell_type": "markdown",
   "metadata": {},
   "source": [
    "Classes are essentially generalizations of functions; knowing how important functions were, it should be somewhat self-evident that classes are also highly used. Classes allow programmers to group specific functionality of an object, which will be gone over later, into one chunk of code (typically in a program alone) that allows us to access its contents of variables and functions, along with their interaction. If this sounds somewhat familiar, that's good: classes were actually what we were importing in the previous section! With this, let's jump right into setting up a class. I'll set up a class that doesn't do much, but should help to get the basic syntax across."
   ]
  },
  {
   "cell_type": "code",
   "execution_count": null,
   "metadata": {},
   "outputs": [],
   "source": [
    "class Basic_Class:\n",
    "    \"\"\"Just a simple basic class\"\"\"\n",
    "    def __init__(self):\n",
    "        self._class_variable = True\n",
    "    \n",
    "    @property\n",
    "    def class_variable(self) -> bool:\n",
    "        return self._class_variable\n",
    "    \n",
    "    @class_variable.setter\n",
    "    def set_class_variable(self, new_variable: bool):\n",
    "        self._class_variable = new_variable\n",
    "    \n",
    "    def random_method(self):\n",
    "        return (not self.class_variable)"
   ]
  },
  {
   "cell_type": "markdown",
   "metadata": {},
   "source": [
    "The first thing to note is the triple quotes <code>\"\"\" \"\"\"</code> on either side of a string under the class declaration, this acts as the comment for classes, and needs to go under the class declaration. The actual implementation of this isn't important to understand quite yet, it was simply to introduce the structure of a class. We can see from the cell that a <code>class</code> is defined by <code>class Class_Name</code>, which is <b>always</b> specified without the parantheses <code>()</code> that we use in functions, as well as having the name of the class having capatalized first letters (something else that differentiates classes and functions).<br><br>\n",
    "The other things to initially note before getting into the bulk of classes are the <code>\\__init__()</code> method and the <code>self</code> tag. To start with the <code>\\__init__()</code> method, all classes need to have this line in order to properly set up the class. Like the name of the method suggests, the contents of this function will setup the rest of what will be used throughout the class. We can pass inputs into the <code>\\__init__()</code> method in the typical function way by having <code>\\__init__(self, variable_1, variable_2, ...)</code>, but we will also then <b>need</b> to put them into the class itself:"
   ]
  },
  {
   "cell_type": "code",
   "execution_count": null,
   "metadata": {},
   "outputs": [],
   "source": [
    "class Basic_Class_2:\n",
    "    \n",
    "    def __init__(self, input_variable, test_variable):\n",
    "        self.my_variable = input_variable\n",
    "        self.test_variable = test_variable"
   ]
  },
  {
   "cell_type": "markdown",
   "metadata": {},
   "source": [
    "The above code should look somewhat silly, since why would we need to have lines putting the value of a variable into the same variable with the same name but <code>self.</code> attached? We'll get into what the <code>self</code> tag does shortly, but in this context, what the <code>\\__init__(...)</code> method does is it asks us to put in some paramaters when creating an object out of the class, which we'll get into in a few sections, and allows us to use these inputs throughout the entire class, which wouldn't be possible otherwise (since Classes are generally meant to be in their own programs without knowing another program's variables).<br><br>\n",
    "As for the <code>self</code> tag, this is what tells our class that a variable belongs to the class. It is extremely important to remember that inside the functions we define, we write <code>self</code>, and for the actual items we want to use, we write <code>self.</code>, as writing <code>self variable_name</code> or <code>\\__init__(self.)</code> will give an error, but you should be fairly used to this convention with time. Looking in terms of the code block above, the <code>self.my_variable = input_variable</code> is telling the class that it has access to a variable <code>self.my_variable</code> and that this variable is set equal to our input of <code>input_variable</code>. The following line of code simply shows that the variable name inside the code with the <code>self.</code> tag can be exactly the same as the variable we use as an input, something that's actually standard practice. (Technically Python will put a <code>self.</code> tag before any class variables even if we as the coders don't, so the <code>self.</code> are not absolutely required, but doing this is <b>highly</b> discouraged)."
   ]
  },
  {
   "cell_type": "markdown",
   "metadata": {},
   "source": [
    "[Return to Classes and Objects](#classes)"
   ]
  },
  {
   "cell_type": "markdown",
   "metadata": {},
   "source": [
    "<a id=\"classmethods\"></a>\n",
    "<h4>Class Methods</h4>"
   ]
  },
  {
   "cell_type": "markdown",
   "metadata": {},
   "source": [
    "Class methods are the class version of functions. That's about all the text that you need to read in order to understand them, but let's quickly look at how to implement them."
   ]
  },
  {
   "cell_type": "code",
   "execution_count": null,
   "metadata": {},
   "outputs": [],
   "source": [
    "class Basic_Class_3:\n",
    "    \n",
    "    def __init__(self, input_int_1, input_int_2):\n",
    "        self.input_int_1 = input_int_1\n",
    "        self.input_int_2 = input_int_2\n",
    "    \n",
    "    def multiply_ints(self):\n",
    "        return self.input_int_1*self.input_int_2"
   ]
  },
  {
   "cell_type": "markdown",
   "metadata": {},
   "source": [
    "Where we can see here that they're defined in the exact same way as they would be outside of a class, except for the inclusion of the class-specific <code>self</code> tag. As such, everything that can be said about functions can also be said about class methods, which makes everyone's job easier!"
   ]
  },
  {
   "cell_type": "markdown",
   "metadata": {},
   "source": [
    "[Return to Classes and Objects](#classes)"
   ]
  },
  {
   "cell_type": "markdown",
   "metadata": {},
   "source": [
    "<a id=\"attributes\"></a>\n",
    "<h4>Attributes Setters and Getters (NP)</h4>"
   ]
  },
  {
   "cell_type": "markdown",
   "metadata": {},
   "source": [
    "Setter and getter methods allow for the manipulation/reading of class attributes. This may sound strange, since we can just set any attributes outside of the class anyway. Setters and getters are only for when we want a specific way to modify attributes; for instance, if we had made a bank account attribute, we would want users to get their balance but not set it, and if we had a secret list that only one person could see, we would want the majority of users only to set something into the list but not get the list. I couldn't think of a physics-based use of these, so that's the best you'll get as for motivation for now.<br><br>\n",
    "As for class attributes, they're always specified with <code>_</code> underscores before their name (ie <code>_mass</code>, and the distinction between attributes and typical variables used in classes comes down to use cases. With the <code>_</code>, the variable is specified for internal use, hence not being able to change it without a setter method. There are also some attributes with two <code>__</code> underscores before their name, and honestly I have no clue what they're used for if they're not dunder methods (which we'll get to in the next section). As a little note, I believe attributes as I have defined them can be changed/gotten without setter/getter methods, that might come down to Python being less object-oriented than other languages or my lack of deep coding knowledge, but either way, it shouldn't affect your code.<br><br>\n",
    "To make attributes, like stated earlier, just put a <code>_</code> underscore before the actual name you mean to use. Then, to make a getter, we need to write a method with a line above it reading <code>@property</code>, and the code inside the getter method simply returning <code>self._variable</code>. As for setters, we again need a line above the method, this time reading <code>@class_variable.setter</code>, and the code inside the method (which takes a new variable as an input) being the standard variable setting of <code>self._variable = variable</code>. (Technically, the <code>@</code> lines above the definitions aren't needed, but that's something for the computer scientists to look over). To see this in use, let's look at the following example:"
   ]
  },
  {
   "cell_type": "code",
   "execution_count": null,
   "metadata": {},
   "outputs": [],
   "source": [
    "class Basic_Class_Again:\n",
    "    \n",
    "    def __init__(self):\n",
    "        self._class_variable = 10\n",
    "    \n",
    "    @property\n",
    "    def class_variable(self) -> int:\n",
    "        return self._class_variable\n",
    "    \n",
    "    @class_variable.setter\n",
    "    def set_class_variable(self, new_variable: int):\n",
    "        self._class_variable = new_variable"
   ]
  },
  {
   "cell_type": "markdown",
   "metadata": {},
   "source": [
    "As attributes, setters, and getters aren't really used for physics, I'll stop the discussion of them here."
   ]
  },
  {
   "cell_type": "markdown",
   "metadata": {},
   "source": [
    "[Return to Classes and Objects](#classes)"
   ]
  },
  {
   "cell_type": "markdown",
   "metadata": {},
   "source": [
    "<a id=\"dunder\"></a>\n",
    "<h4>Dunder Methods (NP)</h4>"
   ]
  },
  {
   "cell_type": "markdown",
   "metadata": {},
   "source": [
    "Double underscore methods, known as dunder methods are inherent properties of the class you make, and broadly specify how Python interacts with classes and their objects. As dunder methods are not much of our concerns, I won't go too much into them, but the one dunder method that I've said before must be included in every class is the <code>\\__init__(self)</code> method. If you wanted to have a specific output when printing an object, that would also be a dunder method (<code>\\_\\_str()\\_\\_</code> in this case). They would also be used if you wanted to add (<code>\\_\\_add()\\_\\_</code>), subtract (<code>\\_\\_sub()\\_\\_</code>), and compare (<code>\\_\\_eq()\\_\\_</code>) two objects, to name a few.<br><br>\n",
    "As a quick example, say you had a class of non-relativistic particles and wanted to have the addition operator give a new particle with their combinded mass and velocity, which is possible with the following code:"
   ]
  },
  {
   "cell_type": "code",
   "execution_count": null,
   "metadata": {},
   "outputs": [],
   "source": [
    "class Non_Relativistic_Particle:\n",
    "    \n",
    "    # mass in kg, velocity in m/s\n",
    "    def __init__(self, mass = 1, velocity = 1):\n",
    "        self._mass = mass\n",
    "        self._velocity = velocity\n",
    "    \n",
    "    @property\n",
    "    def get_mass(self):\n",
    "        return self._mass\n",
    "    \n",
    "    @property\n",
    "    def get_velocity(self):\n",
    "        return self._velocity\n",
    "        \n",
    "    #dunder method we want\n",
    "    def __add__(self, particle_2):\n",
    "        return Non_Relativistic_Particle(self._mass+particle_2.get_mass, self._velocity+particle_2.get_velocity)\n",
    "\n",
    "    \n",
    "#now to put them to use\n",
    "particle_1 = Non_Relativistic_Particle()\n",
    "particle_2 = Non_Relativistic_Particle(2, 5)\n",
    "particle_12 = particle_1+particle_2\n",
    "print(particle_12._mass, particle_12._velocity)"
   ]
  },
  {
   "cell_type": "markdown",
   "metadata": {},
   "source": [
    "Try not to worry about the lines under the dunder method, we'll go over those shortly."
   ]
  },
  {
   "cell_type": "markdown",
   "metadata": {},
   "source": [
    "<a id=\"inheritance\"></a>\n",
    "<h3>Inheritance and Polymorphism</h3>"
   ]
  },
  {
   "cell_type": "markdown",
   "metadata": {},
   "source": [
    "Inheritance is how we can write one class and have subclasses which take its attributes and methods. Essentially, if you were wanting to make a general <code>Particle</code> class and have other classes for types of elementary particles, you would want to use inheritance and have <code>Particle</code> have some general mass, spin, charge attributes which can be tuned by the specific subclasses of the general <code>Particle</code> class. In addition, these subclasses can have attributes and methods of their own (ie if only <code>Charm</code> needed the charm attribute, that would not go under <code>Particle</code>)."
   ]
  },
  {
   "cell_type": "code",
   "execution_count": null,
   "metadata": {},
   "outputs": [],
   "source": [
    "class Particle:\n",
    "    \n",
    "    def __init__(self, mass, energy):\n",
    "        self._mass = mass\n",
    "        self._energy = energy\n",
    "        \n",
    "    def random_function(self):\n",
    "        return energy^2\n",
    "        \n",
    "class Charm(Particle):\n",
    "    \n",
    "    def __init__(self, mass, energy, charm):\n",
    "        super().__init__(mass, energy)\n",
    "        self._charm = charm\n",
    "        \n",
    "charm_1 = Charm(1, 1, -1)\n",
    "print(charm_1._mass, charm_1._energy, charm_1._charm)"
   ]
  },
  {
   "cell_type": "markdown",
   "metadata": {},
   "source": [
    "Polymorphism is something I will get back to eventually."
   ]
  },
  {
   "cell_type": "markdown",
   "metadata": {},
   "source": [
    "[Return to Classes and Objects](#classes)"
   ]
  },
  {
   "cell_type": "markdown",
   "metadata": {},
   "source": [
    "<a id=\"objects\"></a>\n",
    "<h3>Objects</h3>"
   ]
  },
  {
   "cell_type": "markdown",
   "metadata": {},
   "source": [
    "Objects are where the usefulness of classes really start to factor in; objects are the basis of a way of programming (object-oriented programming) and, in fact, almost everything used thus far has been an object: the things we got from imports (besides attributes), basic Python units like strings/integers, and the functions Python gives.<br><br>\n",
    "Objects are also really what differentiates classes from a simple program with functions; say we had some system to calculate an equation of motion, depending only on the potential <code>V(r)</code>, and we wanted to use some various functions for multiple potentials, we can do this through objects.<br><br>\n",
    "To set up our own objects, we first need to <code>import</code> the class if it's in a seperate file, then we can use the line <code>variable_name = Class_name(input_1, input_2, ...)</code> like the following:"
   ]
  },
  {
   "cell_type": "markdown",
   "metadata": {},
   "source": [
    "#random class, not to be interpreted\n",
    "class Basic_Class:\n",
    "    \n",
    "    def __init__(self, input_int_1, input_int_2):\n",
    "        self.input_int_1 = input_int_1\n",
    "        self.input_int_2 = input_int_2\n",
    "    \n",
    "    def multiply_ints(self):\n",
    "        return self.input_int_1*self.input_int_2\n",
    "    \n",
    "    @property\n",
    "    def class_variable(self) -> bool:\n",
    "        return self._class_variable\n",
    "    \n",
    "    @class_variable.setter\n",
    "    def set_class_variable(self, new_variable: bool):\n",
    "        self._class_variable = new_variable\n",
    "    \n",
    "    def random_method(self):\n",
    "        return (not self.class_variable)\n",
    "    \n",
    "#focus on this part\n",
    "#if needed, import:\n",
    "#import Basic_Class\n",
    "\n",
    "basic_object_1 = Basic_Class(1, 2)\n",
    "basic_object_2 = Basic_Class(2, 5)\n",
    "print(basic_object_1.multiply_ints())\n",
    "print(basic_object_2.multiply_ints())"
   ]
  },
  {
   "cell_type": "markdown",
   "metadata": {},
   "source": [
    "As noted, the actual class isn't really important, just note that we can have multiple objects from the same class along with the general notation of how to make an object."
   ]
  },
  {
   "cell_type": "markdown",
   "metadata": {},
   "source": [
    "[Return to Classes and Objects](#classes)"
   ]
  },
  {
   "cell_type": "markdown",
   "metadata": {},
   "source": [
    "<a id=\"data\"></a>\n",
    "<h3>Abstract Base and Data Classes (NP)</h3>"
   ]
  },
  {
   "cell_type": "markdown",
   "metadata": {},
   "source": [
    "I don't imagine either of these specific type of classes would be too useful for physics-related tasks in Python, so feel free to skip this section if desired. This well primarily, then, serve as a reference in case you need to use them. For both data classes and abstract base classes, we need to import them first.<br><br>\n",
    "To start with data classes, we need to import from <code>dataclasses</code>, and we specify a data class with the <code>@dataclass</code> marker above the class (like we did for setter/getter methods inside a class). I don't really remember what dataclasses give the user the ability to do (might have to ask the internet/a computer scientist for that), so I won't spend much more time than providing a reference on how to implement them."
   ]
  },
  {
   "cell_type": "code",
   "execution_count": null,
   "metadata": {},
   "outputs": [],
   "source": [
    "from dataclasses import dataclass\n",
    "\n",
    "@dataclass\n",
    "class Inventory:\n",
    "    name: str\n",
    "    mass: float\n",
    "    number_density: int = 0"
   ]
  },
  {
   "cell_type": "markdown",
   "metadata": {},
   "source": [
    "Where (I don't believe) we need a dunder init method anymore to quantify our attributes as those are automatically set up by the import.<br><br>\n",
    "In a similar vein, we get abstract base classes from the <code>abc</code> import (an unfortunate name for those in atomic/bio/condensed matter), and specify them in a similar way,"
   ]
  },
  {
   "cell_type": "code",
   "execution_count": null,
   "metadata": {},
   "outputs": [],
   "source": []
  },
  {
   "cell_type": "markdown",
   "metadata": {},
   "source": [
    "I wish I could say more on these two class generalizations, but they aren't very important to the physics programs I've seen, and so I never had quite the motivation to learn them fully. For those who do want to learn more, the documentation for ABC is here: https://docs.python.org/3/library/abc.html."
   ]
  },
  {
   "cell_type": "markdown",
   "metadata": {},
   "source": [
    "[Return to Classes and Objects](#classes)"
   ]
  },
  {
   "cell_type": "markdown",
   "metadata": {},
   "source": [
    "<a id=\"classessol\"></a>\n",
    "<h3>Classes and Object Example Solutions</h3>"
   ]
  },
  {
   "cell_type": "markdown",
   "metadata": {},
   "source": [
    "No examples for now! Come back when the other sections of the notebook are complete!"
   ]
  },
  {
   "cell_type": "code",
   "execution_count": null,
   "metadata": {},
   "outputs": [],
   "source": []
  }
 ],
 "metadata": {
  "kernelspec": {
   "display_name": "Python 3",
   "language": "python",
   "name": "python3"
  },
  "language_info": {
   "codemirror_mode": {
    "name": "ipython",
    "version": 3
   },
   "file_extension": ".py",
   "mimetype": "text/x-python",
   "name": "python",
   "nbconvert_exporter": "python",
   "pygments_lexer": "ipython3",
   "version": "3.7.3"
  }
 },
 "nbformat": 4,
 "nbformat_minor": 2
}
