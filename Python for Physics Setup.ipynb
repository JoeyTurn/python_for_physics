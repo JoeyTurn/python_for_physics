{
 "cells": [
  {
   "cell_type": "markdown",
   "metadata": {},
   "source": [
    "<a id='topcell'></a>\n",
    "<h1> An Introduction to Python for Physics Students (Setup) </h1><hr>\n",
    "This notebook is for students in the physical sciences who are seeking to learn about scripting for scientific purposes. The language of choice will be Python as it is the easiest language to work with and requires the least amount of knowledge of computer science fundamentals in order to use effectively.\n",
    "\n",
    "Questions can be sent to the below contacts: <br>\n",
    "joeyturn@uw.edu (may be inactive past Summer 2023, if that is the case, refer to the github link which has an updated address).<br>\n",
    "https://github.com/JoeyTurn"
   ]
  },
  {
   "cell_type": "markdown",
   "metadata": {},
   "source": [
    "<a id='setup'></a>\n",
    "<h2>Setup: Jupyter/Google Colab</h2>\n",
    "<br>\n",
    "<b> The use of this notebook will require notebook functionality for the most effective use. </b><br>\n",
    "For those who want the more modern, simple, and effective option, Google Colab works just as well, and sometimes even better.\n",
    "That being said, I personally recommend JupyterNotebooks, especially for those who will spent some time disconnected from the internet, as I personally use Jupyter and it allows for easy offline use."
   ]
  },
  {
   "cell_type": "markdown",
   "metadata": {},
   "source": [
    "<h3>Google Colab</h3>\n",
    "\n",
    "Google Colab is simple as only a Google account is required to use it. The link to Google Colab can be found below: <br>\n",
    "\n",
    "https://colab.research.google.com/\n",
    "\n",
    "To open this notebook on Google Colab, simply upload this notebook and you should be all set."
   ]
  },
  {
   "cell_type": "markdown",
   "metadata": {},
   "source": [
    "<h3>Jupyter</h3>\n",
    "\n",
    "JupyterNotebooks can be downloaded or \"tried\" using the link below, but downloading Anaconda is recommended. Anaconda will be the easiest installation as all required components for the use of JupyterNotebooks should be automatically installed, whereas the Jupyter installation without Anaconda will require knowledge of how to use pip and the direct installation of python.\n",
    "\n",
    "Make sure to download the latest version of Python (3.X) in either method.<br>\n",
    "\n",
    "Anaconda (recommended): https://www.anaconda.com/products/individual\n",
    "\n",
    "Jupyter and Python Individually (not recommended): https://jupyter.org/ https://www.python.org/downloads/\n",
    "\n",
    "<hr>\n",
    "\n",
    "The use of Jupyter should be somewhat manageable for beginners, if you've gotten this open on a Jupyter Notebook of your own, you're already perfect. If having trouble opening a Jupyter Notebook, please reference the video below: <br>\n",
    "\n",
    "https://youtu.be/YQWAiUhZJX8?t=100 "
   ]
  },
  {
   "cell_type": "markdown",
   "metadata": {},
   "source": [
    "<h2>Running Code</h2>\n",
    "\n",
    "Now that you've gotten the notebook open, let's go through actually using it! To run any line of code, select the cell (the portion of the notebook you want to run) and either press <kbd> Shift </kbd> + <kbd> Enter </kbd> on your keyboard or go up to the <kbd> Cell </kbd> tab and click on <kbd> Run Cells </kbd>. Try it now on the cell below:"
   ]
  },
  {
   "cell_type": "code",
   "execution_count": 2,
   "metadata": {},
   "outputs": [
    {
     "name": "stdout",
     "output_type": "stream",
     "text": [
      "3.141592653589793\n"
     ]
    }
   ],
   "source": [
    "import numpy as np\n",
    "p = np.pi\n",
    "print(p)"
   ]
  },
  {
   "cell_type": "markdown",
   "metadata": {},
   "source": [
    "You should see the output of the first few digits of pi. If not (and you're using Jupyter Notebooks), troubleshoot by looking at the reference video in the \"<b>Jupyter</b>\" section. Don't worry about what the code actually does or means, we'll get to that in time. <br><br>\n",
    "Next, we'll make a new cell for you to work with. To do this, click on this text (once) and either press <kbd>B</kbd> or go to <kbd> Insert </kbd> and click on <kbd> Insert Cell Below </kbd> If this text was clicked on twice, simply press <kbd> Shift </kbd> + <kbd> Enter </kbd> to get it back into its standard form. <br>\n",
    "\n",
    "With the new cell, try typing ```print(p**2)```. This should give you a value close to that of ```g = 9.8```"
   ]
  },
  {
   "cell_type": "markdown",
   "metadata": {},
   "source": [
    "If a new cell pops up but won't output anything like the above cell, it's possible the cell was changed to text or markdown instead of code. To change it back, simply click on the left side of the cell and press <kbd> Y </kbd>. If you want to try changing it into text or markdown and play around with those, press <kbd> R </kbd> or <kbd> M </kbd> respectively.\n",
    "\n",
    "If you have that working, you should be set to begin learning about Python!"
   ]
  },
  {
   "cell_type": "markdown",
   "metadata": {},
   "source": [
    "<b>End of Setup</b>\n",
    "\n",
    "[Return to top](#topcell)"
   ]
  },
  {
   "cell_type": "code",
   "execution_count": null,
   "metadata": {},
   "outputs": [],
   "source": []
  }
 ],
 "metadata": {
  "kernelspec": {
   "display_name": "Python 3",
   "language": "python",
   "name": "python3"
  },
  "language_info": {
   "codemirror_mode": {
    "name": "ipython",
    "version": 3
   },
   "file_extension": ".py",
   "mimetype": "text/x-python",
   "name": "python",
   "nbconvert_exporter": "python",
   "pygments_lexer": "ipython3",
   "version": "3.7.2"
  }
 },
 "nbformat": 4,
 "nbformat_minor": 2
}
