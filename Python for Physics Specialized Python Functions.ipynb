{
 "cells": [
  {
   "cell_type": "markdown",
   "metadata": {},
   "source": [
    "<a id='topcell'></a>\n",
    "<h1> An Introduction to Python for Physics Students </h1><hr>\n",
    "This notebook is for students in the physical sciences who are seeking to learn about scripting for scientific purposes. The language of choice will be Python as it is the easiest language to work with and requires the least amount of knowledge of computer science fundamentals in order to use effectively.\n",
    "\n",
    "Questions can be sent to the below contacts: <br>\n",
    "joeyturn@uw.edu (may be inactive past Summer 2023, if that is the case, refer to the github link which has an updated address).<br>\n",
    "https://github.com/JoeyTurn\n",
    "<br>\n",
    "\n",
    "Some parts of this notebook will not be all that applicable to physics-based projects, I'll mark these by having a <b>NP</b> (non-physics) tag in front of them. They'll still be included in the case they are necessary to a project or to those who are more curious about the more programming-heavy aspects."
   ]
  },
  {
   "cell_type": "markdown",
   "metadata": {},
   "source": [
    "<a id=\"specialized\"></a>\n",
    "<h2>Specialized Python Fundamentals</h2>"
   ]
  },
  {
   "cell_type": "markdown",
   "metadata": {},
   "source": [
    "The name of this chapter is somewhat extraneous; this chapter mostly is a more detailed look at topics covered in Essentials. This chapter aims to follow up Essentials with python functionality and coding practice that all good programmers should know, although aren't used very frequently in physics as compared to traditional computer science."
   ]
  },
  {
   "cell_type": "markdown",
   "metadata": {},
   "source": [
    "<h3> Specialized Python Fundamentals Topics </h3>\n",
    "\n",
    "1: <b>NP</b> [User Input](#user)<br>\n",
    "2: [Naming Convention](#varname)<br>\n",
    "3: <b>NP</b> [Match Case](#match)<br>\n",
    "4: [Proper Function Writing](#fnwriting)<br>\n",
    "&ensp;4.1: [Default Values](#default)<br>\n",
    "5: [Proper Conditional Writing](#condwriting)<br>\n",
    "6: [Enumerate](#ennumerate)<br>\n",
    "7: [Appending and List Comprehensions](#append)<br>\n",
    "8: [Files](#files)<br>\n",
    "9: <b>NP</b> [Try Except Finally and Raise](#try)<br>\n",
    "10: [Specialized Python Fundamentals Example Solutions](#specializedsol)"
   ]
  },
  {
   "cell_type": "markdown",
   "metadata": {},
   "source": [
    "<a id=\"user\"></a>\n",
    "<h3>User Input (NP)</h3>"
   ]
  },
  {
   "cell_type": "markdown",
   "metadata": {},
   "source": [
    "The ability of users to in some way manipulate the program without knowing the inner workings of code sounds like it would be extremely important, though standard physics computations don't require nor need the interactibility that comes with user input. It is, however, still important to know about in the case that user input is required, and is simple enough to implement that learning the implementation will be quick.\n",
    "\n",
    "To get a user's input, simply use the command <code>input()</code>. We can write store these inputs into variables as if they were any normal variable value, using <code>variable = input()</code>. If we want the user to input a specific type or a choice of values, we can use a do while loop, and if we want to include a message to accompany the <code>input</code>, we can use the statement <code>input(\"statement here \")</code> (make sure to include the space for readability) and it will still ask the user for an input. We can look at an example of an <code>code</code> inpput statement below."
   ]
  },
  {
   "cell_type": "code",
   "execution_count": null,
   "metadata": {},
   "outputs": [],
   "source": [
    "#note to include the int() if you are using a statement inside the input(), otherwise you will get a string\n",
    "x = int(input(\"input a number: \"))\n",
    "if x<0:\n",
    "    print(str(x) + \" this is a negative value\")\n",
    "elif x>0:\n",
    "    print(str(x) + \" this is a positive value\")\n",
    "else:\n",
    "    print(str(x) + \" wow, zero!\")"
   ]
  },
  {
   "cell_type": "markdown",
   "metadata": {},
   "source": [
    "Try out inputs below, and see if you can get the user to select their favorite from a series of particles (that you let them select from) and return to the user the rest-mass of that particle."
   ]
  },
  {
   "cell_type": "code",
   "execution_count": null,
   "metadata": {},
   "outputs": [],
   "source": [
    "# Example 1: "
   ]
  },
  {
   "cell_type": "markdown",
   "metadata": {},
   "source": [
    "[Return to Specialized Python Fundamentals](#specialized)"
   ]
  },
  {
   "cell_type": "markdown",
   "metadata": {},
   "source": [
    "<a id=\"varname\"></a>\n",
    "<h3>Naming Convention</h3>"
   ]
  },
  {
   "cell_type": "markdown",
   "metadata": {},
   "source": [
    "As stated in the Essentials section, variable names should be somewhat obvious as to what they measure. For example, we would want a variable name for <code>distance</code> or potentially <code>dist</code> for a variable that stores distance(s), but wouldn't <i>generally</i> want a variable name like <code>d</code> for the same variable, even if it performs the same function in the code. The main exception to this is in <code>for</code> loops, where <code>i</code>, <code>j</code>, <code>k</code>, and <code>n</code> are common enough variable names for the iterator that in short- to medium-sized <code>for</code> loops the specificity doesn't apply.<br>\n",
    "\n",
    "Aside from these situations, there are a few more that we should look at which aren't immediately obvious. For instance, function and variable names with multiple contained words, as per the Python guidelines should have the contained words seperated by underscores, as seen below. I will write out variables each named some variation of <code>correct_name</code> and will set them to <code>True</code> if the name is used/recommended."
   ]
  },
  {
   "cell_type": "code",
   "execution_count": null,
   "metadata": {},
   "outputs": [],
   "source": [
    "#standard variable name\n",
    "correct_name = True\n",
    "\n",
    "#camel case, used for variables in OTHER languages, try to avoid in Python\n",
    "correctName = False\n",
    "\n",
    "#used for constants, will explain in following cell\n",
    "CORRECT_NAME = True\n",
    "\n",
    "#don't use this naming convention, I don't believe this is used in any language\n",
    "correctname = False\n",
    "correct_Name = False\n",
    "correct-name = False\n",
    "correct-Name = False\n",
    "\n",
    "#as per the above cell, don't use strange/abbreviated variable names unless they're common and/or obvious\n",
    "corrname = False\n",
    "corr_name = False\n",
    "c = False"
   ]
  },
  {
   "cell_type": "markdown",
   "metadata": {},
   "source": [
    "As for the one specific case which isn't the standard variable naming convention, the variable in all caps, that variable naming convention should only be used for when the value of the variable will <b>never</b> be changed anywhere else in the code, such as fundamental constants. The value of this variable (called a final variable, but that's only necessary knowledge in other language) can be modified in the line specifying it's value, but no where else!"
   ]
  },
  {
   "cell_type": "markdown",
   "metadata": {},
   "source": [
    "Also a really quick thing I want to point out, occasionally you may want to use parantheses in a string, if that's the case you will need to use the <code>\\</code> symbol before each parantheses."
   ]
  },
  {
   "cell_type": "markdown",
   "metadata": {},
   "source": [
    "[Return to Specialized Python Fundamentals](#specialized)"
   ]
  },
  {
   "cell_type": "markdown",
   "metadata": {},
   "source": [
    "<a id=\"match\"></a>\n",
    "<h3>Match Case (NP)</h3>"
   ]
  },
  {
   "cell_type": "markdown",
   "metadata": {},
   "source": [
    "Match Case statements were only recently added to Python ater users wanted the functionality that existed with other languages. The statements are used specifically when we want to improve the performance of a specific setup of conditionals. This specific case is for when we want to <i>match</i> a variable to one of a specific set of values, and does not (as far as I am aware of) allow the variable to take any value outside of the specific set, which should be contrasted with <code>in</code> statements where <code>else</code> statements can still catch unspecified values. Enough with talking, let's see how match case works.\n",
    "Note: this was only recently added to Python, so make sure the version is up-to-date, otherwise there will be a syntax error (as I got when I realized my Anaconda's Python hadn't been updated)."
   ]
  },
  {
   "cell_type": "code",
   "execution_count": null,
   "metadata": {},
   "outputs": [],
   "source": [
    "#returns \"force\" law\n",
    "force = (input(\"Enter a force: \")).lower()\n",
    "match force:\n",
    "    case \"gravitational\":\n",
    "        print(\"GMm/R^2\")\n",
    "    case \"electromagnetism\":\n",
    "        print(\"1/4πƐ0*Qq/R^2\")\n",
    "    case \"weak\":\n",
    "        print(\"W Z bosons\")\n",
    "    case \"strong\":\n",
    "        print(\"Gluon\")"
   ]
  },
  {
   "cell_type": "markdown",
   "metadata": {},
   "source": [
    "[Return to Specialized Python Fundamentals](#specialized)"
   ]
  },
  {
   "cell_type": "markdown",
   "metadata": {},
   "source": [
    "<a id=\"fnwriting\"></a>\n",
    "<h3>Proper Function Writing</h3>"
   ]
  },
  {
   "cell_type": "markdown",
   "metadata": {},
   "source": [
    "This section will go over the standards of writing functions, standards which weren't necessary for functions to, well, function, but are nonetheless important to know to write better code.<br>\n",
    "The first part of function writing will look into some syntax that is used when writing functions; typically, value types of the inputs and outputs of functions aren't specified in the variable/function names, so instead indicators are used to specify what types of variables are used. To see the syntax of this, let's look at an example:"
   ]
  },
  {
   "cell_type": "code",
   "execution_count": null,
   "metadata": {},
   "outputs": [],
   "source": [
    "standard_value = 10\n",
    "\n",
    "#multiplies a number by 10\n",
    "def multiply_value(num: int):\n",
    "    return num*10\n",
    "print(multiply_value(5))\n",
    "print(multiply_value(\"5\"))"
   ]
  },
  {
   "cell_type": "markdown",
   "metadata": {},
   "source": [
    "It should be easy to see that this function has the identical output to the same function without the <code>: int</code> specification in the input, even in the case where the inputed type was not the same as the one we specified in the function input. This isn't an endorsement of randomly specifying the variables in the inputs to be a specific type and then ignoring that, instead, it was meant to show how fundamentally the <code>: </code> after the variable acts somewhat like a comment, and is mainly used for readibility. Since the colon doesn't directly impact the function, we can actually have the specified type as part of a class that has been made. For instance, if there was a class of forces from which you wanted to take and objects made from this class of type \"force,\" we could specify the input variable being of type \"force\" through <code>: force</code> after the variable in question."
   ]
  },
  {
   "cell_type": "markdown",
   "metadata": {},
   "source": [
    "We can also specify the output type of a function in a similar way:"
   ]
  },
  {
   "cell_type": "code",
   "execution_count": null,
   "metadata": {},
   "outputs": [],
   "source": [
    "special_word = \"fugacity\"\n",
    "\n",
    "#returns if a word is a \"thermo word,\" specified by a small list\n",
    "def thermo_word(word: str) -> bool:\n",
    "    if word in (\"heat\", \"Carnot\", \"engine\", \"Boltzmann\", \"U=Q-W\", \"3/2kT\", \"fugacity\"):\n",
    "        return True\n",
    "    return False\n",
    "\n",
    "print(thermo_word(special_word))"
   ]
  },
  {
   "cell_type": "markdown",
   "metadata": {},
   "source": [
    "Again, this <code> -> </code> syntax past the function definition is just for syntax and has no direct impact on the function. Additionally, we can see the lack of an <code>else</code> statement in the cell above, this is by design. Since a function can only ever <code>return</code> one object, anything caught in the <code>if</code> statement's <code>return</code> will stop the function from reaching the next line's <code>return False</code>, and if something isn't caught in the <code>if</code> statement, it will simply move onto and execute the <code>return False</code> line."
   ]
  },
  {
   "cell_type": "markdown",
   "metadata": {},
   "source": [
    "[Return to Specialized Python Fundamentals](#specialized)"
   ]
  },
  {
   "cell_type": "markdown",
   "metadata": {},
   "source": [
    "<a id=\"default\"></a>\n",
    "<h4>Default Values</h4>"
   ]
  },
  {
   "cell_type": "markdown",
   "metadata": {},
   "source": [
    "Default values in functions are the function equivalent of default values in classes: the function assumes the value unless the value is specifically overwritten. These are NOT constants as in the previous all-caps case, though are values that are common enough that typing them in once is more efficient than repeatedly typing them. To set a default value in a function, all we need to do is have <code>variable = value</code> as if we were creating a variable outside of the variable. This function default value won't be available for use outside of the function, though. An default value implementation is provided below:"
   ]
  },
  {
   "cell_type": "code",
   "execution_count": null,
   "metadata": {},
   "outputs": [],
   "source": [
    "#finds the gravitational force on a mass\n",
    "def grav_force(m, M:int = 5.97*10**24, R:float = 6376000) -> float:\n",
    "    return 6.67*10**(-11)*m*M/(R**2)\n",
    "\n",
    "print(grav_force(1))"
   ]
  },
  {
   "cell_type": "markdown",
   "metadata": {},
   "source": [
    "The <code>: </code> is not necessary here, as the variable type should be self-evident from the value, in fact it's not even stylistically recommended, but was included here to show that the <code>: </code> is still allowed with a default value. It should also be noted that the values which are defaulted must come AFTER any non-defaulted values; this isn't just stylistically recommended, but Python will not compile if a defaulted input comes before an unknown value.<br><br>\n",
    "Default values can also be used in class methods with the exact same syntax:"
   ]
  },
  {
   "cell_type": "code",
   "execution_count": null,
   "metadata": {},
   "outputs": [],
   "source": [
    "class My_class:\n",
    "    \n",
    "    def __init__(self, my_int: int):\n",
    "        self.my_int = my_int\n",
    "        \n",
    "    def times_num(self, num = 10) -> float:\n",
    "        return num*self.my_int\n",
    "\n",
    "my_object = My_class(5)\n",
    "print(my_object.times_num())\n",
    "print(my_object.times_num(num = 5))"
   ]
  },
  {
   "cell_type": "markdown",
   "metadata": {},
   "source": [
    "I also included a little something extra in the previous cell: if we want to specify certain values as inputs we can use <code>input_name = value</code>, a concept that's simple, yet required for specialized Python tools such as those in machine learning."
   ]
  },
  {
   "cell_type": "markdown",
   "metadata": {},
   "source": [
    "[Return to Specialized Python Fundamentals](#specialized)"
   ]
  },
  {
   "cell_type": "markdown",
   "metadata": {},
   "source": [
    "<a id=\"condwriting\"></a>\n",
    "<h3>Proper Conditional Writing</h3>"
   ]
  },
  {
   "cell_type": "markdown",
   "metadata": {},
   "source": [
    "This section should be quick, and perhaps some of you may have picked up on this already. There isn't much to conditionals in terms of style, with the exception of one brief element that introductory programmers often miss. Let's take a look at the conditional below and see what it is that can be improved."
   ]
  },
  {
   "cell_type": "code",
   "execution_count": null,
   "metadata": {},
   "outputs": [],
   "source": [
    "variable = True\n",
    "#example conditional\n",
    "if (variable == True):\n",
    "    print(variable)\n",
    "if (variable == False):\n",
    "    print(variable)"
   ]
  },
  {
   "cell_type": "markdown",
   "metadata": {},
   "source": [
    "The \"problem\" with this code is that there's a redundancy, try to see if you can spot it. The redundancy comes from having the expression inside the <code>()</code> parantheses be evaluated; since we already have the variable as a boolean, it will either be <code>True</code> or <code>False</code>, but either way, we only need this for the conditional statement:"
   ]
  },
  {
   "cell_type": "code",
   "execution_count": null,
   "metadata": {},
   "outputs": [],
   "source": [
    "variable = False\n",
    "if (variable):\n",
    "    print(variable)\n",
    "if (not variable):\n",
    "    print(variable)"
   ]
  },
  {
   "cell_type": "markdown",
   "metadata": {},
   "source": [
    "This may seem trivial when we input something defined one line earlier, though often this discrepancy appears when dealing with more complex code, something like,"
   ]
  },
  {
   "cell_type": "code",
   "execution_count": null,
   "metadata": {},
   "outputs": [],
   "source": [
    "gravitational_force = True\n",
    "if gravitational_force:\n",
    "    print(\"Gmm/r^2\")\n",
    "else:\n",
    "    print(\"Unknown\")"
   ]
  },
  {
   "cell_type": "markdown",
   "metadata": {},
   "source": [
    "as the variable <code>gravitational_force</code> is easy to is defined as boolean in this case."
   ]
  },
  {
   "cell_type": "markdown",
   "metadata": {},
   "source": [
    "[Return to Specialized Python Fundamentals](#specialized)"
   ]
  },
  {
   "cell_type": "markdown",
   "metadata": {},
   "source": [
    "<a id=\"ennumerate\"></a>\n",
    "<h3>Enumerate</h3>"
   ]
  },
  {
   "cell_type": "markdown",
   "metadata": {},
   "source": [
    "Enumeration is a useful concept in <code>for</code> loops, but can be worked around in a way that enumeration isn't needed in something more fundamental to coding practices. Enumerating a loop simply gives both the index and value of that loop, and it should be somewhat obvious as to why this would be useful in <code>for</code> loops. The work-around for this used to be using <code>list[i]</code> inside the loop to get the element, but with enumerates we can bypass this <i>clunky</i> code:"
   ]
  },
  {
   "cell_type": "code",
   "execution_count": null,
   "metadata": {},
   "outputs": [],
   "source": [
    "starter_list = [1, 2, 4, 8, 9, 15]\n",
    "\n",
    "for i, n in enumerate(starter_list):\n",
    "    print(i, n)\n",
    "    \n",
    "#compare this to the old way:\n",
    "# starter_list = [1, 2, 4, 8, 9, 15]\n",
    "# for i in range(len(starter_list)):\n",
    "#    print(i, starter_list[i])"
   ]
  },
  {
   "cell_type": "markdown",
   "metadata": {},
   "source": [
    "Where it is important to note the non-standard <code>i, n</code> part before the enumeration, as well as the fact that the index always comes before the values! The difference between enumeration and the old way may seem minute, but the runtime should solidify enumeration as the better method."
   ]
  },
  {
   "cell_type": "markdown",
   "metadata": {},
   "source": [
    "[Return to Specialized Python Fundamentals](#specialized)"
   ]
  },
  {
   "cell_type": "markdown",
   "metadata": {},
   "source": [
    "<a id=\"append\"></a>\n",
    "<h3>Appending and List Comprehensions</h3>"
   ]
  },
  {
   "cell_type": "markdown",
   "metadata": {},
   "source": [
    "Appending is instrumental in lists whereas list comprehensions are simply used to neatify code (like, <i>really</i> neatify code); since appending is more important, let's go over that first."
   ]
  },
  {
   "cell_type": "markdown",
   "metadata": {},
   "source": [
    "<h4>Appending</h4>\n",
    "Appending to lists allows us to stick extra elements onto a list, always at the end of where we defined the list, there isn't much more to appending than that honestly. For example, we can append a list like:"
   ]
  },
  {
   "cell_type": "code",
   "execution_count": null,
   "metadata": {},
   "outputs": [],
   "source": [
    "basic_list = [1, \"5\", \"g\", \"fugacity\", (10, 3, -42)]\n",
    "print(basic_list)\n",
    "\n",
    "#appending\n",
    "basic_list.append(5)\n",
    "print(basic_list)\n",
    "#another way to append:\n",
    "basic_list = basic_list + basic_list\n",
    "print(basic_list)"
   ]
  },
  {
   "cell_type": "markdown",
   "metadata": {},
   "source": [
    "Please note that to append multiple elements, the appending will need to be done manually or by using loops, trying to append a list to a list by using <code>.append([list_elements])</code> will put the \"appended\" list inside the other list.<br><br>\n",
    "There are also more complicated list commands, like <code>.pop()</code>, <code>.join()</code>, <code>.insert()</code>, and <code>.sort()</code> along with others, but these come up on a case-by-case basis.<br><br>\n",
    "<h4>List Comprehension</h4>\n",
    "List comprehensions are a much nicer and easier way to produce lists from loops. Say, for instance, you were looking at an osciallator and wanted to know the position only when it was greater than the equilibrium position. That code would be much nicer to write using list compehension than by other means. As an example, I'll supply a few position coordinates and set up a list comprehension to look at."
   ]
  },
  {
   "cell_type": "code",
   "execution_count": null,
   "metadata": {},
   "outputs": [],
   "source": [
    "position = [40, -20, 10, -5, 2.5, -1.25, .625, -.3875, .19375]\n",
    "\n",
    "#list comprehension:\n",
    "positive_position = [value for value in position if value>0]\n",
    "print(positive_position)"
   ]
  },
  {
   "cell_type": "markdown",
   "metadata": {},
   "source": [
    "Where we can see here that a list comprehension is defined by putting <code>[]</code> braces around a one-line <code>for</code> loop. The coditional <code>if value>0</code> here isn't necessary for making a list comprehension, but I wanted to show it off as typically conditionals are used in list comprehensions in simular situations as the one I posed."
   ]
  },
  {
   "cell_type": "markdown",
   "metadata": {},
   "source": [
    "[Return to Specialized Python Fundamentals](#specialized)"
   ]
  },
  {
   "cell_type": "markdown",
   "metadata": {},
   "source": [
    "<a id=\"files\"></a>\n",
    "<h3>Files</h3>"
   ]
  },
  {
   "cell_type": "markdown",
   "metadata": {},
   "source": [
    "Writing and reading to files is something I dislike as I can never remember the exact keywords. In general, you won't remember either as file functionality will typically be implemented sparcely and not need to be modified. That being said, let's go over file reading/writing so that you have the reference for when it may come up in the future.<br><br>\n",
    "To write to files, we want to make it into an object by using <code>f = open(file_name, \"w\")</code> where <code>f</code> is a shorthand for file and \"w\" is for write. The file doesn't need to exist in order to write to it, Python will handle that (theres also \"a\" for append instead of \"w\"). Once we have the file open, we can write to is using <code>f.write(text_here)</code> and close the file by <code>f.close()</code>. As an example, "
   ]
  },
  {
   "cell_type": "code",
   "execution_count": null,
   "metadata": {},
   "outputs": [],
   "source": [
    "f = open(\"example.txt\", \"w\")\n",
    "f.write(\"Physicists created the internet!\")\n",
    "f.close()"
   ]
  },
  {
   "cell_type": "markdown",
   "metadata": {},
   "source": [
    "After writing to files, we can read from them by using essentially the same syntax except for the \"w\" being replaced with \"r\". After we have the file open to read, we can read from the file by using <code>f.read()</code>, or go line by line with <code>f.readline()</code>, like this:"
   ]
  },
  {
   "cell_type": "code",
   "execution_count": null,
   "metadata": {},
   "outputs": [],
   "source": [
    "f = open(\"example.txt\", \"r\")\n",
    "print(f.read())\n",
    "print(f.readline())\n",
    "f.close()"
   ]
  },
  {
   "cell_type": "markdown",
   "metadata": {},
   "source": [
    "To note, only one line was read off (unless you modified the previous <code>f.write()</code> command to include more) since the reading always goes off the position of the last element we wrote/read."
   ]
  },
  {
   "cell_type": "markdown",
   "metadata": {},
   "source": [
    "[Return to Specialized Python Fundamentals](#specialized)"
   ]
  },
  {
   "cell_type": "markdown",
   "metadata": {},
   "source": [
    "<a id=\"try\"></a>\n",
    "<h3>Try Except Finally and Raise (NP)</h3>"
   ]
  },
  {
   "cell_type": "markdown",
   "metadata": {},
   "source": [
    "Try, except, and statements are a bit percarious, they let us ignore any potential errors (such as a divide by zero error) and keep chugging on. Depending on your view and project, this seems either great or terrible: the bad values can just be passed by, or something's gone wrong with the code. I won't say which case is more likely, but I will say that it's better to be cautious than callous in these situations.<br><br>\n",
    "Assuming you had a system that gave an expected error that wasn't physically meaningful to any output and were extremely sure it wasn't due to a bug in the code, you can use a <code>try...except..finally/else</code> statement. As the names somewhat imply, we first try a chunk of code, if that fails we go to the except chunk, and then we reach the final state: if we want code to execute regardless of if the except block was reached, we use finally; otherwise, we use else. A sample program of this could be for inverse-square law forces:"
   ]
  },
  {
   "cell_type": "code",
   "execution_count": null,
   "metadata": {},
   "outputs": [],
   "source": [
    "def gravity_force(r: float) -> float:\n",
    "    return r**(-2)\n",
    "\n",
    "try:\n",
    "    gravity_force(1)\n",
    "    gravity_force(.001)\n",
    "    gravity_force(0)\n",
    "except:\n",
    "    print(\"Divided by zero\")\n",
    "finally:\n",
    "    print(\"All done!\")"
   ]
  },
  {
   "cell_type": "markdown",
   "metadata": {},
   "source": [
    "Based on this code, we can see that if anything in the <code>try</code> block fails, then we don't execute any of it and move to the <code>except</code> except block. If we want to be better about a <code>try...except</code> statement, we can specify which types of errors to catch inside the except, by using <code>except ErrorName</code>. In this case, the error we receive is a <code>ZeroDivisionError</code>, try to modify the code to have the same output but with a better <code>except</code> statement.<br><br>\n",
    "A better implementation of <code>try...except</code> when we don't know if/why an eror happens can be done with using conditionals and the keyword <code>raise</code>. As an example, let's redo the <code>gravity_force</code> code,"
   ]
  },
  {
   "cell_type": "code",
   "execution_count": null,
   "metadata": {},
   "outputs": [],
   "source": [
    "def gravity_force(r: float) -> float:\n",
    "    return r**(-2)\n",
    "\n",
    "x = 1\n",
    "gravity_force(x)\n",
    "x = .001\n",
    "gravity_force(x)\n",
    "x = 0\n",
    "if x==0:\n",
    "    raise Exception(\"Can't divide by zero\")"
   ]
  },
  {
   "cell_type": "markdown",
   "metadata": {},
   "source": [
    "Where here we can see that we actually get an exception we defined, and can review the code to see what went wrong. (Amd no, generally we don't define something and then check if it's what we defined, I just use <code>x=0</code> followed by <code>if x==0:</code> to get across the notation)."
   ]
  },
  {
   "cell_type": "markdown",
   "metadata": {},
   "source": [
    "[Return to Specialized Python Fundamentals](#specialized)"
   ]
  },
  {
   "cell_type": "markdown",
   "metadata": {},
   "source": [
    "<a id=\"specializedsol\"></a>\n",
    "<h3> Specialized Python Fundamentals Example Solutions </h3>"
   ]
  },
  {
   "cell_type": "markdown",
   "metadata": {},
   "source": [
    "No examples for now! Come back when the other sections of the notebook are complete!"
   ]
  },
  {
   "cell_type": "code",
   "execution_count": null,
   "metadata": {},
   "outputs": [],
   "source": []
  }
 ],
 "metadata": {
  "kernelspec": {
   "display_name": "Python 3",
   "language": "python",
   "name": "python3"
  },
  "language_info": {
   "codemirror_mode": {
    "name": "ipython",
    "version": 3
   },
   "file_extension": ".py",
   "mimetype": "text/x-python",
   "name": "python",
   "nbconvert_exporter": "python",
   "pygments_lexer": "ipython3",
   "version": "3.7.3"
  }
 },
 "nbformat": 4,
 "nbformat_minor": 2
}
