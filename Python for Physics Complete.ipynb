{
 "cells": [
  {
   "cell_type": "markdown",
   "metadata": {},
   "source": [
    "<a id='topcell'></a>\n",
    "<h1> An Introduction to Python for Physics Students </h1><hr>\n",
    "This notebook is for students in the physical sciences who are seeking to learn about scripting for scientific purposes. The language of choice will be Python as it is the easiest language to work with and requires the least amount of knowledge of computer science fundamentals in order to use effectively.\n",
    "\n",
    "Questions can be sent to the below contacts: <br>\n",
    "joeyturn@uw.edu (may be inactive past Summer 2023, if that is the case, refer to the github link which has an updated address).<br>\n",
    "https://github.com/JoeyTurn"
   ]
  },
  {
   "cell_type": "markdown",
   "metadata": {},
   "source": [
    "<h2> Table of Contents </h2>\n",
    "\n",
    "<font size=\"+2\">1: [Setup](#setup)</font><br>\n",
    "<font size=\"+2\">2: [Essentials](#essentials)</font><br>\n",
    "<font size=\"+2\">3: [Imports](#imports)</font><br>\n",
    "<font size=\"+2\">4: [Classes and Objects](#classes)</font><br>\n",
    "<font size=\"+2\">5: [Specialized Python Functions](#specialized)</font><br>\n",
    "<font size=\"+2\">6: [Machine Learning](#ml)</font><br>"
   ]
  },
  {
   "cell_type": "markdown",
   "metadata": {},
   "source": [
    "<a id='setup'></a>\n",
    "<h2>Setup: Jupyter/Google Colab</h2>\n",
    "<br>\n",
    "<b> The use of this notebook will require notebook functionality for the most effective use. </b><br>\n",
    "For those who want the more modern, simple, and effective option, Google Colab works just as well, and sometimes even better.\n",
    "That being said, I personally recommend JupyterNotebooks, especially for those who will spent some time disconnected from the internet, as I personally use Jupyter and it allows for easy offline use."
   ]
  },
  {
   "cell_type": "markdown",
   "metadata": {},
   "source": [
    "<h3>Google Colab</h3>\n",
    "\n",
    "Google Colab is simple as only a Google account is required to use it. The link to Google Colab can be found below: <br>\n",
    "\n",
    "https://colab.research.google.com/\n",
    "\n",
    "To open this notebook on Google Colab, simply upload this notebook and you should be all set."
   ]
  },
  {
   "cell_type": "markdown",
   "metadata": {},
   "source": [
    "<h3>Jupyter</h3>\n",
    "\n",
    "JupyterNotebooks can be downloaded or \"tried\" using the link below, but downloading Anaconda is recommended. Anaconda will be the easiest installation as all required components for the use of JupyterNotebooks should be automatically installed, whereas the Jupyter installation without Anaconda will require knowledge of how to use pip and the direct installation of python.\n",
    "\n",
    "Make sure to download the latest version of Python (3.X) in either method.<br>\n",
    "\n",
    "Anaconda (recommended): https://www.anaconda.com/products/individual\n",
    "\n",
    "Jupyter and Python Individually (not recommended): https://jupyter.org/ https://www.python.org/downloads/\n",
    "\n",
    "<hr>\n",
    "\n",
    "The use of Jupyter should be somewhat manageable for beginners, if you've gotten this open on a Jupyter Notebook of your own, you're already perfect. If having trouble opening a Jupyter Notebook, please reference the video below: <br>\n",
    "\n",
    "https://youtu.be/YQWAiUhZJX8?t=100 "
   ]
  },
  {
   "cell_type": "markdown",
   "metadata": {},
   "source": [
    "<h2>Running Code</h2>\n",
    "\n",
    "Now that you've gotten the notebook open, let's go through actually using it! To run any line of code, select the cell (the portion of the notebook you want to run) and either press <kbd> Shift </kbd> + <kbd> Enter </kbd> on your keyboard or go up to the <kbd> Cell </kbd> tab and click on <kbd> Run Cells </kbd>. Try it now on the cell below:"
   ]
  },
  {
   "cell_type": "code",
   "execution_count": null,
   "metadata": {},
   "outputs": [],
   "source": [
    "import numpy as np\n",
    "p = np.pi\n",
    "print(p)"
   ]
  },
  {
   "cell_type": "markdown",
   "metadata": {},
   "source": [
    "You should see the output of the first few digits of pi. If not (and you're using Jupyter Notebooks), troubleshoot by looking at the reference video in the \"<b>Jupyter</b>\" section. Don't worry about what the code actually does or means, we'll get to that in time. <br><br>\n",
    "Next, we'll make a new cell for you to work with. To do this, click on this text (once) and either press <kbd>B</kbd> or go to <kbd> Insert </kbd> and click on <kbd> Insert Cell Below </kbd> If this text was clicked on twice, simply press <kbd> Shift </kbd> + <kbd> Enter </kbd> to get it back into its standard form. <br>\n",
    "\n",
    "With the new cell, try typing ```print(p**2)```. This should give you a value close to that of ```g = 9.8```"
   ]
  },
  {
   "cell_type": "markdown",
   "metadata": {},
   "source": [
    "If a new cell pops up but won't output anything like the above cell, it's possible the cell was changed to text or markdown instead of code. To change it back, simply click on the left side of the cell and press <kbd> Y </kbd>. If you want to try changing it into text or markdown and play around with those, press <kbd> R </kbd> or <kbd> M </kbd> respectively.\n",
    "\n",
    "If you have that working, you should be set to begin learning about Python!"
   ]
  },
  {
   "cell_type": "markdown",
   "metadata": {},
   "source": [
    "[Return to top](#topcell)"
   ]
  },
  {
   "cell_type": "markdown",
   "metadata": {},
   "source": [
    "<a id='essentials'></a>\n",
    "<h2>Essentials</h2>\n",
    "<br>\n",
    "The following cells will be used as a basic introduction to the utmost essentials of coding; these are common throughout all coding languages and should be memorized, if they haven't been after using them for every piece of code.\n",
    "\n",
    "[Return to top](#topcell)"
   ]
  },
  {
   "cell_type": "markdown",
   "metadata": {},
   "source": [
    "<h3> Essentials Topics </h3>\n",
    "\n",
    "1: [Printing, Variables, Types, and Comments](#printing) <br>\n",
    "&ensp;1.1: [Variables and Types](#variables)<br>\n",
    "&ensp;1.2: [Typecasting](#typecast)<br>\n",
    "&ensp;1.3: [Comments](#comments)<br>\n",
    "2: [Numeric Manipulation](#numeric)<br>\n",
    "3: [Functions](#functions)<br>\n",
    "4: [Conditionals and Loops](#conditionals)<br>\n",
    "&ensp;4.1: [Else Ifs](#elif)<br>\n",
    "&ensp;4.2: [Loops](#loops)<br>\n",
    "&ensp;4.3: [While Loops](#while)<br>\n",
    "5: [Essentials Example Solutions](#essentialssol)"
   ]
  },
  {
   "cell_type": "markdown",
   "metadata": {},
   "source": [
    "<a id='printing'></a>\n",
    "<h3> Printing, Variables, Types, and Comments </h3> <br>\n",
    "<h4> Printing </h4>\n",
    "To begin, we'll take a quick look at printing, the easiest way of looking at the output of a piece of code. In the cell below, type <code>print(number)</code>, with <code>number</code> being replaced by whatever is your favorite number."
   ]
  },
  {
   "cell_type": "code",
   "execution_count": null,
   "metadata": {},
   "outputs": [],
   "source": [
    "#your code below\n"
   ]
  },
  {
   "cell_type": "markdown",
   "metadata": {},
   "source": [
    "[Return to Essentials](#essentials)"
   ]
  },
  {
   "cell_type": "markdown",
   "metadata": {},
   "source": [
    "<a id='variables'></a>\n",
    "<h4>Variables and Types</h4>\n",
    "Unlike in physics, variables in Python are used to store values to use later. We saw the variable p being used to store an approximate value of pi earlier. Variables can be called almost anything, although common practice in physics has variables named using the convention <code>name1_name2_name_3</code> as would be used for <code>gravitational_constant</code>. Variables in Python are special, as we don't have to declare the <b> type </b> of variable before use. There are multiple types which we can store in variables, so let's go over some below. <br> <br>\n",
    "In the cell below, we see that a variable can be set simply by writing <code>variable_name = variable</code>"
   ]
  },
  {
   "cell_type": "code",
   "execution_count": null,
   "metadata": {},
   "outputs": [],
   "source": [
    "basic_string = \"Hello\"\n",
    "basic_integer = 24\n",
    "basic_float = 9.8\n",
    "basic_list = [basic_string, basic_integer, basic_float]\n",
    "basic_bool = False"
   ]
  },
  {
   "cell_type": "markdown",
   "metadata": {},
   "source": [
    "From the above code, we see the most commonly used data types: strings (used for words or numbers with words), integers, floats (any real number), lists (which store multiple variables) and bools, a type which is either <code>True</code> or <code>False</code> (think 1 or 0 in binary terms). Something I should mention for lists; in general, lists can store all variable types together, although in practice, it's best to use them to store only one type, say floats, so that no type-based errors occur. <br> Some more types can be seen below, although these aren't used quite as much as the above five:"
   ]
  },
  {
   "cell_type": "code",
   "execution_count": null,
   "metadata": {},
   "outputs": [],
   "source": [
    "basic_complex = 1j + 2\n",
    "basic_char = 'A'\n",
    "basic_tuple = (1, 2, 3)\n",
    "basic_dict = {1: \"Hello\", 2: \"World\"}"
   ]
  },
  {
   "cell_type": "markdown",
   "metadata": {},
   "source": [
    "Try setting up some of your own variables using the cell below. Bonus points for if you can find some strange way to have the variables not function as intended."
   ]
  },
  {
   "cell_type": "code",
   "execution_count": null,
   "metadata": {},
   "outputs": [],
   "source": [
    "#your code below\n"
   ]
  },
  {
   "cell_type": "markdown",
   "metadata": {},
   "source": [
    "In short, complex types aren't all that used, and the other types are more useful in more computer science focused programs. (In fact, I don't think characters are a specified type in Python, though for other languages like Java or C++, you will find that characters are the building blocks of strings). <br>\n",
    "If in need of checking the type, we can simply use the line <code>type(variable_name)</code>, as seen below:"
   ]
  },
  {
   "cell_type": "code",
   "execution_count": null,
   "metadata": {},
   "outputs": [],
   "source": [
    "print(type(basic_integer), type(basic_bool), type(basic_tuple))\n",
    "print(basic_integer, basic_bool, basic_tuple)"
   ]
  },
  {
   "cell_type": "markdown",
   "metadata": {},
   "source": [
    "From this cell, we can also see that we can print multiple values using one print command if we use a comma between the values we want to output.\n",
    "\n",
    "Feel free to insert a new cell below by pressing <kbd> B </kbd> after clicking on this text to play around with variables, their types, and printing out their values!"
   ]
  },
  {
   "cell_type": "markdown",
   "metadata": {},
   "source": [
    "For a few closing notes on variables and types, let's see what happens when we try combining multiple variable types. We can do this using the simple arithmetic operations like <kbd>+</kbd> and <kbd>*</kbd>."
   ]
  },
  {
   "cell_type": "code",
   "execution_count": null,
   "metadata": {},
   "outputs": [],
   "source": [
    "print(basic_string*basic_integer)"
   ]
  },
  {
   "cell_type": "code",
   "execution_count": null,
   "metadata": {},
   "outputs": [],
   "source": [
    "print(basic_integer*basic_float, basic_integer+basic_float)"
   ]
  },
  {
   "cell_type": "code",
   "execution_count": null,
   "metadata": {},
   "outputs": [],
   "source": [
    "print(basic_string+str(basic_integer))"
   ]
  },
  {
   "cell_type": "code",
   "execution_count": null,
   "metadata": {
    "scrolled": true
   },
   "outputs": [],
   "source": [
    "# won't work\n",
    "print(basic_tuple+basic_float)"
   ]
  },
  {
   "cell_type": "markdown",
   "metadata": {},
   "source": [
    "[Return to Essentials](#essentials)"
   ]
  },
  {
   "cell_type": "markdown",
   "metadata": {},
   "source": [
    "<a id='typecast'></a>\n",
    "<h4>Typecasting</h4>\n",
    "From the above few commands, we can see types can be somewhat stingy, so to combat this we can <b>typecast</b> by using commands like <code>str(variable)</code> and <code>int(variable)</code>, though careful when using the <code>int(variable)</code> typecast as only numerical-esque variables can be converted to integers. <br>\n",
    "For example, the line <code>print(int(\"12\"))</code> will work as it takes the string <code>\"12\"</code> then converts it into an integer <code>12</code>, though the line <code>print(int(\"twelve\"))</code> won't work as there is no integer <code>twelve</code>.\n",
    "\n",
    "I'll leave an empty cell below to work out printing, types, and variables before moving onto the following section."
   ]
  },
  {
   "cell_type": "code",
   "execution_count": null,
   "metadata": {},
   "outputs": [],
   "source": [
    "# your code below\n"
   ]
  },
  {
   "cell_type": "markdown",
   "metadata": {},
   "source": [
    "[Return to Essentials](#essentials)"
   ]
  },
  {
   "cell_type": "markdown",
   "metadata": {},
   "source": [
    "<a id='comments'></a>\n",
    "<h4>Comments</h4> \n",
    "The observant may have noticed the inclusion of the <code># won't work</code> line for the cell that gave us a TypeError. This was not what caused the code, but something for us to read that the machine won't have access to: a comment.<br>\n",
    "Comments are used by typing <code>#</code> on any line, and renders anything to the right of the <kbd>#</kbd> symbol on that line invisible to Python. While this may not seem important, physics and coding is collaborative, so any lines or cells of code that aren't immediately obvious to anyone who may work on it should be commented by a short line about the functionality and anything else that isn't initially apparent. Comments are what seperate the mediocre programmers from the great ones, so make sure to use them, just don't overdue it with comments that aren't needed."
   ]
  },
  {
   "cell_type": "code",
   "execution_count": null,
   "metadata": {},
   "outputs": [],
   "source": [
    "# for example, this line isn't seen by the computer\n",
    "# to test yourself on comments, try setting up an string integer with a seemingly random sentence, then on the same line,\n",
    "# comment on what it means (this doesn't mean you should do this with a real project, this is just for practice)\n",
    "\n",
    "# your code below\n"
   ]
  },
  {
   "cell_type": "markdown",
   "metadata": {},
   "source": [
    "[Return to Essentials](#essentials)"
   ]
  },
  {
   "cell_type": "markdown",
   "metadata": {},
   "source": [
    "<a id='numeric'></a>\n",
    "<h3>Numeric Manipulation</h3>\n",
    "As an end to the most fundamental portion of coding, let's look at manipulating numbers. As you might expect, Python takes it easy by allowing humanlike algebra, using the following simple operators:\n",
    "<ul>\n",
    "    <li>Addition: <code>+</code> -- <code>5 + 12 = 17</code></li>\n",
    "    <li>Subtraction: <code>-</code> -- <code>5 - 12 = -7</code></li>\n",
    "    <li>Multiplication: <code>*</code> -- <code>5 * 12 = 60</code></li>\n",
    "    <li>Division: <code>/</code> -- <code>5/12 = 0.4167</code> Note that this always gives a <b>float</b></li>\n",
    "    <li>Parantheses: <code>()</code> -- <code>(5+12)*12 = 204</code> </li>\n",
    "    <li>Exponents: <code>**</code> or <code>^</code> -- <code>5**2 = 5^2 = 25</code> Be careful with these, especially for roots and negatives, make sure to include parantheses. </li>\n",
    "    <li>Modulo: <code>%</code> -- <code>5%12 = 5</code> Modulo returns the remainder of an integer division (i.e. 7%3 = 1, 8%3 = 2, 9%3 = 0) </li>\n",
    "    <li>Floor: <code>//</code> -- <code>5//12 = 0</code> Flooring is essentially the opposite of modulo, it returns the integer number of divisions (i.e. 7//3 = 2, 8//3 = 2, 9//3 = 3)</li>\n",
    "</ul>\n",
    "\n",
    "Note: Integration/differentiation is a little more complicated, so we'll look at that later.\n",
    "\n",
    "I'll include a little starter code below to see some of the functionality, try to modify it or make your own for practice. Bonus points for seeing how to manipulate numericals inside of lists."
   ]
  },
  {
   "cell_type": "code",
   "execution_count": null,
   "metadata": {},
   "outputs": [],
   "source": [
    "velocity = 5\n",
    "position = velocity*2\n",
    "print(position)\n",
    "\n",
    "#your code below\n"
   ]
  },
  {
   "cell_type": "markdown",
   "metadata": {},
   "source": [
    "[Return to Essentials](#essentials)"
   ]
  },
  {
   "cell_type": "markdown",
   "metadata": {},
   "source": [
    "<a id='functions'></a>\n",
    "<h3>Functions</h3>\n",
    "\n",
    "Now that we have Python variables, let's work with the more-familiar physics varaibles by using <b>functions</b>. To define a function, we use the line <br> <code>def function_name(variable_1, variable_2, ...): \n",
    "    function\n",
    "    return variable_name</code> <br>\n",
    "    \n",
    "where it is important to note the line between <code>def function_name(variables)</code> line and the <code>function</code> line as well as the <kbd>Tab</kbd> spacing between each line used in the function after the <code>def function_name</code> line."
   ]
  },
  {
   "cell_type": "markdown",
   "metadata": {},
   "source": [
    "A few other things that we should quickly note about functions:\n",
    "\n",
    "We use the statement <code>return</code> (with or without parantheses) instead of <code>print()</code>. This is so we can access the value of the variable for later use instead of just printing it to the console.\n",
    "\n",
    "We would store these variables by using <b>function calls</b>, which just specifies that you would actually like to use the function. The basic structure of function calls is fairly simple, just write the name of the function, include parantheses, and make sure to put values for any variables used in the function call, like so:"
   ]
  },
  {
   "cell_type": "code",
   "execution_count": null,
   "metadata": {},
   "outputs": [],
   "source": [
    "#this cell won't produce anything, it is just for show\n",
    "\n",
    "def function_name(variable_1, variable_2, ...): \n",
    "    function\n",
    "    return variable_name\n",
    "\n",
    "#function call below\n",
    "function_value_1 = function_name(x, y, ...)\n",
    "print(function_value_1)"
   ]
  },
  {
   "cell_type": "markdown",
   "metadata": {},
   "source": [
    "To get a real feel for functions, I'll set one up below and then will ask you to set up your own."
   ]
  },
  {
   "cell_type": "code",
   "execution_count": null,
   "metadata": {},
   "outputs": [],
   "source": [
    "initial_position = 3\n",
    "velocity = 4\n",
    "time = 5.5\n",
    "\n",
    "# returns position of particle with constant velocity\n",
    "def motion_constant_velocity():\n",
    "    position = initial_position+velocity*time\n",
    "    return position\n",
    "\n",
    "new_position = motion_constant_velocity()\n",
    "print(new_position)\n",
    "print(new_position)"
   ]
  },
  {
   "cell_type": "markdown",
   "metadata": {},
   "source": [
    "Please set up a function below, including a comment above it explaining its functionality, and call the function while storing the call in a variable. If you're feeling adventurous, try setting up a function which takes in a variable as an input, then call the function, store it in a variable, then call the function again using the stored variable as an input."
   ]
  },
  {
   "cell_type": "code",
   "execution_count": null,
   "metadata": {},
   "outputs": [],
   "source": [
    "#your code below\n"
   ]
  },
  {
   "cell_type": "markdown",
   "metadata": {},
   "source": [
    "Make sure to include the parantheses with the function when assigning it to a variable! Otherwise you'll end up with a variable as a pointer to the function (the specifics of which are really only of interest to computer scientists)."
   ]
  },
  {
   "cell_type": "markdown",
   "metadata": {},
   "source": [
    "While I originally wrote code functions as it should, there are a few pros and cons I would like to go over. <br>\n",
    "\n",
    "Pros:<ol><li>The comment explained the function well without going too overboard </li> <li> We got the correct output! </li> </ol>\n",
    "\n",
    "Cons: <ol><li> We need to go back into the code and find where our variables were if we want to change the numbers </li> <li>This only outputs the position for one velocity/initial position/time</li> <li> Some of the lines are not needed and somewhat messy... let's fix that</li> </ol>\n",
    "To beautify the function, let's look towards the following line of code:"
   ]
  },
  {
   "cell_type": "code",
   "execution_count": null,
   "metadata": {},
   "outputs": [],
   "source": [
    "# returns position of particle with constant velocity\n",
    "def motion_constant_velocity(initial_position, velocity, time):\n",
    "    return initial_position+velocity*time\n",
    "\n",
    "print(motion_constant_velocity(3, 4, 5.5))\n",
    "print(motion_constant_velocity(5.5, 3, 4))\n",
    "print(motion_constant_velocity(0, 55.5, 2.3))"
   ]
  },
  {
   "cell_type": "markdown",
   "metadata": {},
   "source": [
    "We can see this function works just the same but looks a lot nicer. Let's go through the improvements:\n",
    "<ol>\n",
    "    <li>We can now compute the final position for multiple initial conditions! We did this by specifying input variables that the function takes (<code>initial_position, velocity, time</code>). Note that if we still did keep the variable <code>Velocity = 4</code> in the line above the definition that our output doesn't change (try adding it yourself to see what happens). This is because the inputs of the function aren't actually looking at specific variables, but are just placeholders for the values that we later put in the function when we use <code>motion_constant_velocity(3, 4, 5.5)</code>. This means that we could technically still keep the three variables and then use <code>motion_constant_velocity(initial_position, velocity, time)</code> and we would get the same result, though for naming sake this isn't recommended! </li>\n",
    "    <li>Inside the function, we removed the unnecessary variable <code>position</code>, as we were going to return the value of that variable in the very next line. Be sure to watch out for unnecessary variables when writing functions, and to not remove necessary ones.</li>\n",
    "    <li>Similar to the last point, except this time outside of the function, we removed the unnecessary variable <code>new_position</code> as we were to print that value in the next line.</li>\n",
    "</ol>\n",
    "\n",
    "Some of these optimizations come with time, so make sure to pay attention to them but not beat yourself up over them, especially as you're starting out.\n",
    "\n",
    "As an exercise, I want you to try setting up a function that has acceleration and initial velocity as inputs and outputs the position taking time as an input (or for extra practice, printing position as a function of time, but please read the reminder if this is done). Also, try see what happens if you have a list as an input. Does it work with one variable being a list, or would you need them all to be lists? There's an easier way to do this later on, but it should be good practice for now.<br>\n",
    "<b>!Reminder!</b><br>\n",
    "If having defined a function without time as a paramater, please make sure to switch back to one with time as an input as future examples rely on time being an input.\n",
    "<a id=\"partpos\"></a>"
   ]
  },
  {
   "cell_type": "code",
   "execution_count": null,
   "metadata": {},
   "outputs": [],
   "source": [
    "# Example 1: find the position of a point particle given some acceleration, initial velocity, and time\n",
    "\n",
    "#your code below\n"
   ]
  },
  {
   "cell_type": "markdown",
   "metadata": {},
   "source": [
    "Functions are some of the most important parts of using coding for physics so I'd like to look at a few more examples"
   ]
  },
  {
   "cell_type": "code",
   "execution_count": null,
   "metadata": {},
   "outputs": [],
   "source": [
    "# Example 2: Using k = 9*10^9, q = 1.6*10^-19, calculate the force an electron has on a point charge q_2 at some distance away r\n",
    "#            where r = sqrt(x^2+y^2), x and y being the component parts of r in the x- and y-direction\n",
    "#            For this problem, please return both components of the force\n",
    "\n",
    "#your code below\n"
   ]
  },
  {
   "cell_type": "code",
   "execution_count": null,
   "metadata": {},
   "outputs": [],
   "source": [
    "# Example 3: Using G = 6.67*10^-11, m = 9.11*10^-31, calculate the force an electron has on a neutral mass m_2 at some distance\n",
    "#            away r, where r = sqrt(x^2+y^2). Again, give both components of the force\n",
    "\n",
    "#your code below\n"
   ]
  },
  {
   "cell_type": "code",
   "execution_count": null,
   "metadata": {},
   "outputs": [],
   "source": [
    "# Example 4: Given we have a system of fermions, calculate the average occupancy number of the fermions at some energy level\n",
    "#            above the chemical potential mu, given T = 273K. (Use Fermi-Dirac distribution formula)\n",
    "\n",
    "# NOTE: since it is not yet obvious how to get the python approximation of Euler's number e, please approximate as e = 2.718\n",
    "\n",
    "#your code below\n"
   ]
  },
  {
   "cell_type": "markdown",
   "metadata": {},
   "source": [
    "One last thing for functions, let's see what happens when we call functions inside functions."
   ]
  },
  {
   "cell_type": "code",
   "execution_count": null,
   "metadata": {},
   "outputs": [],
   "source": [
    "#sample function\n",
    "def sample_1(a):\n",
    "    return 2*a**3 + 5\n",
    "\n",
    "#another sample function\n",
    "def sample_2(b):\n",
    "    return sample_1(b)**(.5)-2\n",
    "\n",
    "#testing\n",
    "print(sample_2(0))"
   ]
  },
  {
   "cell_type": "markdown",
   "metadata": {},
   "source": [
    "Functions can be called inside other functions! Just be careful to not have a function call itself unless you are sure it has some way of stopping. But, how can we get these functions to stop?"
   ]
  },
  {
   "cell_type": "markdown",
   "metadata": {},
   "source": [
    "[Return to Essentials](#essentials)"
   ]
  },
  {
   "cell_type": "markdown",
   "metadata": {},
   "source": [
    "<a id='conditionals'></a>\n",
    "<h3> Conditionals and Loops </h3>\n",
    "\n",
    "In a traditional computer science course, we would go over conditionals and loops before functions, but given how much more important functions are to physical uses, we started with functions. Now let's look at conditionals and loops!"
   ]
  },
  {
   "cell_type": "markdown",
   "metadata": {},
   "source": [
    "<h4>Conditionals</h4>\n",
    "\n",
    "Just earlier, we needed a way for functions to stop, the easiest way to do this is with if&else conditionals. These work somewhat intuitively by evaluating a statement and if the condition is met, then the statement that goes with if is executed, otherwise the else statement is executed, like this:\n",
    "\n",
    "<code>if condition_1 ___ condition_2:\n",
    "    statement_1\n",
    "else:\n",
    "    statement_2\n",
    "</code>\n",
    "\n",
    "where the <code>___</code> represents some comparrison, the usual suspects of <code>> , >=, <, <=, ==,</code> and <code>!=</code> being the most common. The <code>==</code> symbol represents exact comparrison, since the single <code>=</code> sign already being used to set a variable to some value (I find it easiest to see the double = sign and imagine it meaning \"exactly equal to\" which differentiates it from the single sign of \"setting the value\"), and the <code>!=</code> sign meaning \"not equal to,\" although this can also be remidied in a cell I'll show later on. <code>if</code> statements can stand alone, although <code>else</code> statements <b>require</b> a pre-existing <code>if</code> statement!\n",
    "\n",
    "Let's see an example use for a simple conditional, run the code below:"
   ]
  },
  {
   "cell_type": "code",
   "execution_count": null,
   "metadata": {},
   "outputs": [],
   "source": [
    "earth_rock = 10\n",
    "meteor = 9\n",
    "\n",
    "if earth_rock > meteor:\n",
    "    print(\"Earth rocks!\")\n",
    "else:\n",
    "    print(\"Space rocks!\")"
   ]
  },
  {
   "cell_type": "markdown",
   "metadata": {},
   "source": [
    "We could also have just used a single if statement without the else, but you should use your own judgement for when that would be appropriate.\n",
    "\n",
    "Lone if statements aside, we have a slight problem with the above code... please take a moment to try and see what it is."
   ]
  },
  {
   "cell_type": "markdown",
   "metadata": {},
   "source": [
    "[Return to Essentials](#essentials)"
   ]
  },
  {
   "cell_type": "markdown",
   "metadata": {},
   "source": [
    "<a id='elif'></a>\n",
    "<h4>Else If</h4>\n",
    "The problem with the code is that even when the values are equal, we still go to the else statement, which was unintended. To get around this we use <code>elif</code>, which is short for else if, to catch values after the if statement but before the else statement. As with <code>else</code> statements, <code>elif</code> statements require a pre-existing <code>if</code> statement to work. We can see an <code>elif</code> conditional used below, and why we might use else if's over two <code>if</code> statements."
   ]
  },
  {
   "cell_type": "code",
   "execution_count": null,
   "metadata": {},
   "outputs": [],
   "source": [
    "one = 1\n",
    "two = 2\n",
    "three = 3\n",
    "\n",
    "if two < one:\n",
    "    print(two)\n",
    "elif two < three:\n",
    "    print(three)\n",
    "else:\n",
    "    print(one)"
   ]
  },
  {
   "cell_type": "code",
   "execution_count": null,
   "metadata": {},
   "outputs": [],
   "source": [
    "if two < one:\n",
    "    print(two)\n",
    "else:\n",
    "    print(one)\n",
    "    \n",
    "if two < three:\n",
    "    print(three)\n",
    "else:\n",
    "    print(one)"
   ]
  },
  {
   "cell_type": "markdown",
   "metadata": {},
   "source": [
    "We can see the discrepancy between the two code blocks; the one with elif is more \"selective\" in that it runs the first statement which is true, whereas the double if statement will always give us two outputs."
   ]
  },
  {
   "cell_type": "markdown",
   "metadata": {},
   "source": [
    "In line with what we did with functions, we can also nest if statements inside themselves, and, in fact, put them anywhere without discrepancy. For the follwing example, I would like you to write a function that checks for a user's preference for which force they like better, electrostatic or gravitational, and calculate the force given by an electron with their preference in mind."
   ]
  },
  {
   "cell_type": "code",
   "execution_count": null,
   "metadata": {},
   "outputs": [],
   "source": [
    "# Example 5: Write a function that checks for a user's preference for which force they like better, electromagnetic or\n",
    "# gravitational. Calculate their preferred force given by an electron on some mass m or charge q at a distance r away.\n",
    "\n",
    "# You should take that the preference is some string which is either \"gravity\" or \"electrostatic\"\n",
    "\n",
    "#your code below\n"
   ]
  },
  {
   "cell_type": "markdown",
   "metadata": {},
   "source": [
    "If you found yourself dredding to rewrite the same electrostatic and gravitational force functions, don't worry, I did too! The good news is that the notebook remembers all the functions you wrote and variables you saved after you ran the code that contained them (up until a reset). This means calculating the forces was as simple as calling the functions which you wrote earlier and returning their values!"
   ]
  },
  {
   "cell_type": "markdown",
   "metadata": {},
   "source": [
    "There is another type of conditional, called the \"match case\" in Python (switch case in other languages), but that is beyond essential, so we'll come back to those at a later time. As such, we'll move onto loops."
   ]
  },
  {
   "cell_type": "markdown",
   "metadata": {},
   "source": [
    "[Return to Essentials](#essentials)"
   ]
  },
  {
   "cell_type": "markdown",
   "metadata": {},
   "source": [
    "<a id='loops'></a>\n",
    "<h4>Loops</h4>\n",
    "\n",
    "Say we wanted to calculate the position at many times given some initial acceleration, velocity, and position, or if we wanted to calculate the sum of a series. We can do both of these using loops! Let's start with the classic <b>for</b> loop."
   ]
  },
  {
   "cell_type": "code",
   "execution_count": null,
   "metadata": {
    "scrolled": true
   },
   "outputs": [],
   "source": [
    "for i in range(6):\n",
    "    print(i)"
   ]
  },
  {
   "cell_type": "markdown",
   "metadata": {},
   "source": [
    "The for loop lives with the <code>range(integer)</code> function; from the code, we note that we get an output for the amount of times specified by the integer inside the <code>range()</code> function, and that the range function goes between <code>0</code> and <code>integer-1</code>, so if you wanted to go between 0 and an integer, make sure to up the integer inside the <code>range()</code> function by 1."
   ]
  },
  {
   "cell_type": "markdown",
   "metadata": {},
   "source": [
    "What the <code>range()</code> does is create a list between <code>0</code> and <code>integer-1</code>, so it's a good time to learn more about lists along with loops. I'll setup a starter list in the folling line."
   ]
  },
  {
   "cell_type": "code",
   "execution_count": null,
   "metadata": {},
   "outputs": [],
   "source": [
    "starter_list = [1, 2, 4, 8, 9, 15]"
   ]
  },
  {
   "cell_type": "markdown",
   "metadata": {},
   "source": [
    "Lists are always 0-indexed. That is, the first element of the list has an index of 0, meaning if we wanted the last element of a list (without getting creative later), we would need to check the element at the index <code>len(list)-1</code>. With this, let's look at some manipulation of the list:"
   ]
  },
  {
   "cell_type": "code",
   "execution_count": null,
   "metadata": {
    "scrolled": true
   },
   "outputs": [],
   "source": [
    "#len(list) gives... the length of the list\n",
    "print(len(starter_list))\n",
    "\n",
    "#list[i:j] gives a sublist of the list elements between i and j-1\n",
    "print(starter_list[0:3])\n",
    "\n",
    "#if we just have list[i], we get the element at the ith index in the list\n",
    "print(starter_list[1])\n",
    "\n",
    "#list[-1] gives the last element of the list\n",
    "print(starter_list[-1])"
   ]
  },
  {
   "cell_type": "markdown",
   "metadata": {},
   "source": [
    "Now that we've look at the basic properties of lists and for loops, let's have you do an example!<br>\n",
    "For this, I want you to revist the position of a point particle code"
   ]
  },
  {
   "cell_type": "markdown",
   "metadata": {},
   "source": [
    "[Return to Essentials](#essentials)"
   ]
  },
  {
   "cell_type": "markdown",
   "metadata": {},
   "source": [
    "<a id='while'></a>\n",
    "<h4>While & Do While</h4>"
   ]
  },
  {
   "cell_type": "markdown",
   "metadata": {},
   "source": [
    "We looked at the standard for loops which are by far the most commonly used loops in physics. Something potentially undesirable about for loops, however, is that they will only continue on for as long as we specified, and we (at this point) have no way to prematurely stop the loop. This is where while loops come in, where we can set a condition for the loop to end on rather then having it loop for a set number of times."
   ]
  },
  {
   "cell_type": "markdown",
   "metadata": {},
   "source": [
    "While loops are pretty easy to set up, and take a similar structure to for loops:"
   ]
  },
  {
   "cell_type": "code",
   "execution_count": 18,
   "metadata": {},
   "outputs": [
    {
     "name": "stdout",
     "output_type": "stream",
     "text": [
      "True\n",
      "True\n",
      "True\n",
      "True\n"
     ]
    }
   ],
   "source": [
    "increment = 0\n",
    "while (increment <= 3):\n",
    "    print(True)\n",
    "    increment += 1"
   ]
  },
  {
   "cell_type": "markdown",
   "metadata": {},
   "source": [
    "Let's decompose the above code. For while loops, we need something to have them break out of the while loop, otherwise the loop will run forever and you'll need to restart your program. As such, <b>always</b> make sure to save immediately before testing out a while loop. The \"thing\" that stops the while loop is, what I call, an incrementor, which ticks up after every run of the loop.<br>\n",
    "Here, the incrementor is simply titled <code>increment</code> and we can see that we defined it <b>before</b> entering the loop. While in the loop, we see that the incrementor is increased in value by <code>1</code> which is the meaning of the line <code>increment += 1</code>. As you may guess, the statements <code>variable += n</code> and <code>variable -= n</code> are shorthand for statements <code>variable = variable + n</code> and <code>variable = variable - n</code>, lines which increases or decreases the variable by n. (Simply typing <code>variable + n</code> or it's subtraction counterpart won't actually do anything to the value of the variable, as the variable is not being assigned a new value).<br>\n",
    "Lastly, we notice the <b>exit condition</b>, in this case <code>increment <= 3</code>, which will break us out of the while loop once the condition is met."
   ]
  },
  {
   "cell_type": "markdown",
   "metadata": {},
   "source": [
    "Try to test out a simple while loop below. For it, try setting an incrementor for time that increases by .1 seconds up to a maximum of 1 second and read out the position of the particle you defined [here](#partpos). Additionally, write code using a for loop for the same situation."
   ]
  },
  {
   "cell_type": "code",
   "execution_count": 6,
   "metadata": {},
   "outputs": [],
   "source": [
    "# Example 6: Use a loop with time as an incrementor in increments of .1 (up to a maximum of 1) to find the position of a\n",
    "# particle at multiple points in time as described by your previous code for the particle's position.\n",
    "# Use both a for and a while loop, in two seperate but equally valid solutions.\n",
    "# Since the time increments are relatively small, try using a high value for initial velocity/acceleration for best results.\n",
    "\n",
    "# Note: Use the function round(value, 2) if your positions are getting strangely long\n",
    "\n",
    "#your code below\n"
   ]
  },
  {
   "cell_type": "markdown",
   "metadata": {},
   "source": [
    "Apart from the while loop, we have the similar do...while loops. These are a little odd, however, as Python doesn't have a specific keyword for them (Python being one of the only languages not to have them), so we'll have to create our own. I think they're important enough to include even without a specific keyword, so let's go over them:\n",
    "\n",
    "A do...while loop in python can be constructed with a while loop that we intentionally have run forever (sort of). We have no incrementor, and instead just let the condition be <code>True</code>, but get out of the loop using a <code>break</code> statement:"
   ]
  },
  {
   "cell_type": "code",
   "execution_count": 8,
   "metadata": {},
   "outputs": [
    {
     "name": "stdout",
     "output_type": "stream",
     "text": [
      "12\n",
      "11\n",
      "10\n",
      "9\n",
      "8\n",
      "7\n",
      "6\n",
      "5\n",
      "4\n",
      "3\n",
      "2\n",
      "1\n",
      "0\n"
     ]
    }
   ],
   "source": [
    "a = 12\n",
    "while (True):\n",
    "    print(a)\n",
    "    if (a == 0):\n",
    "        break\n",
    "    a -= 1"
   ]
  },
  {
   "cell_type": "markdown",
   "metadata": {},
   "source": [
    "Try to imagine what would happen if the <code>a -= 1</code> statement was moved to before the <code>if</code> statement. Also, take note of the <kbd>Tab</kbd> spacing I used inside the <code>while</code> loop and after the <code>if</code> statement: the loops, conditionals, and other objects similar to them only execute what is on lines after them <b>and</b> indented to one indent beyond their level. In the above code, we see that everything past the <code>while</code> loop has an indenting of <b>at least</b> 1, meaning all lines are executed during a runthrough of the loop. Meanwhile, only the <code>break</code> statement exists after the <code>if</code> statement and is indented to one level beyond the <code>if</code> statement, in this case indented twice.<br>\n",
    "The last thing to note is the use of a lone <code>if</code> statement. Remember, <code>if</code> statements can stand alone, whereas <code>elif</code> and <code>else</code> conditionals require the <code>if</code> statement!"
   ]
  },
  {
   "cell_type": "markdown",
   "metadata": {},
   "source": [
    "As a send off to the section, I want you to, again use the same particle position function, but this time have the initial velocity be some positive value and the acceleration some negative value, and find an approximate time for when the particle has a negative displacement. No values past this negative displacement will be needed."
   ]
  },
  {
   "cell_type": "code",
   "execution_count": null,
   "metadata": {},
   "outputs": [],
   "source": [
    "# Example 7: Using the particle position function, with a positive initial velocity and negative acceleration,\n",
    "# find an approximate time for when the particle's displacement is negative. No displacements beyond the first negative\n",
    "# displacement are needed.\n",
    "\n",
    "#your code below\n"
   ]
  },
  {
   "cell_type": "markdown",
   "metadata": {},
   "source": [
    "So far, all of these problems have not relied on the components found before the problem, aside from the basics of the first secion of essentials, though expect this to change in the coming sections. Think of these example problems as the easy part of the learning curve, and while the curve will <b>NOT</b> steepen suddenly, expect it to pick up slightly in the coming sections."
   ]
  },
  {
   "cell_type": "markdown",
   "metadata": {},
   "source": [
    "If you really want to go above and beyond, try redefining a new function which takes drag and initial displacement into account, and try to find properies of this motion, such as time at maximum displacement, kinetic energy, and total air time, though note I will not provide a solution to this."
   ]
  },
  {
   "cell_type": "markdown",
   "metadata": {},
   "source": [
    "[Return to Essentials](#essentials)"
   ]
  },
  {
   "cell_type": "markdown",
   "metadata": {},
   "source": [
    "<a id='essentialssol'></a>\n",
    "<h3>Essentials Example Solutions</h3>"
   ]
  },
  {
   "cell_type": "code",
   "execution_count": 9,
   "metadata": {},
   "outputs": [
    {
     "name": "stdout",
     "output_type": "stream",
     "text": [
      "1*t + 1/2*2*t^2\n",
      "2.0\n"
     ]
    }
   ],
   "source": [
    "# Example 1: find the position of a point particle given some acceleration, initial velocity, and time\n",
    "\n",
    "#\"function\" solution\n",
    "\n",
    "# gives position of a point particle given an acceleration and initial velocity\n",
    "def position(velocity_i, acceleration):\n",
    "    return (str(velocity_i)+\"*t + 1/2*\"+str(acceleration)+\"*t^2\")\n",
    "\n",
    "#testing function\n",
    "print(position(1, 2))\n",
    "\n",
    "#\"input\" solution\n",
    "\n",
    "# gives position of a point particle given an acceleration and initial velocity\n",
    "def position(velocity_i, acceleration, t):\n",
    "    return (velocity_i*t + 1/2*acceleration*t**2)\n",
    "\n",
    "#testing function\n",
    "print(position(1, 2, 1))"
   ]
  },
  {
   "cell_type": "code",
   "execution_count": null,
   "metadata": {},
   "outputs": [],
   "source": [
    "# Example 2: Using k = 9*10^9, q = 1.6*10^-19, calculate the force an electron has on a point charge q_2 at some distance away r\n",
    "#            where r = sqrt(x^2+y^2), x and y being the component parts of r in the x- and y-direction\n",
    "#            For this problem, please return both components of the force\n",
    "\n",
    "#your code below\n",
    "\n",
    "# gives electrostatic force components from electron\n",
    "def electrostatic_force(x, y, q):\n",
    "    numerator = 9*10**9 * 1.6*10**(-19)*q\n",
    "    return ([numerator/x**2, numerator/y**2])\n",
    "\n",
    "#testing function\n",
    "print(electrostatic_force(1*10**(-6), .6*10**(-6), 1*10**(-19)))"
   ]
  },
  {
   "cell_type": "code",
   "execution_count": null,
   "metadata": {},
   "outputs": [],
   "source": [
    "# Example 3: Using G = 6.67*10^-11, m = 9.11*10^-31, calculate the force an electron has on a neutral mass m_2 at some distance\n",
    "#            away r, where r = sqrt(x^2+y^2). Again, give both components of the force\n",
    "\n",
    "#your code below\n",
    "\n",
    "# gives gravitational force components from electron\n",
    "def gravitational_force(x, y, m):\n",
    "    numerator = 6.67*10**(-11) * 9.1*10**(-31)*m\n",
    "    return ([numerator/x**2, numerator/y**2])\n",
    "\n",
    "#testing function\n",
    "print(gravitational_force(1*10**(-3), 2*10**(-3), 1))"
   ]
  },
  {
   "cell_type": "code",
   "execution_count": null,
   "metadata": {},
   "outputs": [],
   "source": [
    "# Example 4: Given we have a system of fermions, calculate the average occupancy number of the fermions at some energy level\n",
    "#            above the chemical potential mu, given T = 273K. (Use Fermi-Dirac distribution formula)\n",
    "\n",
    "#your code below\n",
    "\n",
    "#finds average occupation number of fermions at T=273K, e = energy-mu\n",
    "def fermi_dirac(e):\n",
    "    exponent = e/(1.381*10**(-23)*273) #since the formula inside the return got messy, i moved this to a placeholder variable\n",
    "    return (1/(2.718**(exponent)+1))\n",
    "\n",
    "#testing funtion\n",
    "print(fermi_dirac(10**(-23)))"
   ]
  },
  {
   "cell_type": "code",
   "execution_count": null,
   "metadata": {},
   "outputs": [],
   "source": [
    "# Example 5: Write a function that checks for a user's preference for which force they like better, electromagnetic or\n",
    "# gravitational. Calculate their preferred force given by an electron on some mass m or charge q at a distance r away.\n",
    "\n",
    "# You should take that the preference is some string which is either \"gravity\" or \"electrostatic\"\n",
    "\n",
    "#your code below\n",
    "\n",
    "#checks which force should be calculated, then calculates the force\n",
    "def elec_grav_force(pref, x, y, qm):\n",
    "    if pref == \"gravity\":\n",
    "        return(gravitational_force(x, y, qm))\n",
    "    else:\n",
    "        return(electrostatic_force(x, y, qm))"
   ]
  },
  {
   "cell_type": "code",
   "execution_count": 15,
   "metadata": {},
   "outputs": [
    {
     "name": "stdout",
     "output_type": "stream",
     "text": [
      "0.0\n",
      "0.51\n",
      "1.04\n",
      "1.59\n",
      "2.16\n",
      "2.75\n",
      "3.36\n",
      "3.99\n",
      "4.64\n",
      "5.31\n",
      "6.0\n",
      "0.0\n",
      "0.51\n",
      "1.04\n",
      "1.59\n",
      "2.16\n",
      "2.75\n",
      "3.36\n",
      "3.99\n",
      "4.64\n",
      "5.31\n",
      "6.0\n"
     ]
    }
   ],
   "source": [
    "# Example 6: Use a loop with time as an incrementor in increments of .1 (up to a maximum of 1) to find the position of a\n",
    "# particle at multiple points in time as described by your previous code for the particle's position.\n",
    "# Use both a for and a while loop, in two seperate but equally valid solutions.\n",
    "# Since the time increments are relatively small, try using a high value for initial velocity/acceleration for best results.\n",
    "\n",
    "# Note: Use the function round(value, 2) if your positions are getting strangely long\n",
    "\n",
    "#your code below\n",
    "\n",
    "#while solution:\n",
    "time = 0\n",
    "while time < 1:\n",
    "    print(round(position(5, 2, time), 2))\n",
    "    time += .1\n",
    "\n",
    "for time in range(11):\n",
    "    print(round(position(5, 2, time*.1), 2))"
   ]
  },
  {
   "cell_type": "code",
   "execution_count": 17,
   "metadata": {},
   "outputs": [
    {
     "name": "stdout",
     "output_type": "stream",
     "text": [
      "10.1\n"
     ]
    }
   ],
   "source": [
    "# Example 7: Using the particle position function, with a positive initial velocity and negative acceleration,\n",
    "# find an approximate time for when the particle's displacement is negative. No displacements beyond the first negative\n",
    "# displacement are needed.\n",
    "\n",
    "#your code below\n",
    "\n",
    "#finds time when position of a particle is negative (sample initial velocity = 5, acceleration = -1)\n",
    "time = 0\n",
    "while (True):\n",
    "    if (round(position(5, -1, time), 2)) < 0:\n",
    "        break\n",
    "    time += .1\n",
    "print(round(time, 2))"
   ]
  },
  {
   "cell_type": "markdown",
   "metadata": {},
   "source": [
    "[Return to top](#topcell)"
   ]
  },
  {
   "cell_type": "markdown",
   "metadata": {},
   "source": [
    "<a id=\"imports\"></a>\n",
    "<h2>Imports</h2>"
   ]
  },
  {
   "cell_type": "markdown",
   "metadata": {},
   "source": [
    "Imports are extremely powerful tools that we have at our disposal, allowing us access to tools base Python doesn't include, such as randomness, scientific constants, and mathematical functions to name a few. Using an import will give a program access to the functions and variables stored inside a different file, meaning they were written by other people."
   ]
  },
  {
   "cell_type": "markdown",
   "metadata": {},
   "source": [
    " In general, this doesn't consitute for plagarism as most of the main imports (the ones we'll be looking at) are open-source and as long as the source code isn't modified and redistributed without the copyright, then we're good. (If you're curious about specifics, the specific clause is the \"BSD 3-clause,\" though I'm no lawperson and will not pretend to know about it)."
   ]
  },
  {
   "cell_type": "markdown",
   "metadata": {},
   "source": [
    "<h3> Imports Topics </h3>\n",
    "\n",
    "1: [NumPy](#numpy)<br>\n",
    "2: [SciPy](#scipy)<br>\n",
    "3: [Matplotlib](#matplotlib)<br>\n",
    "4: [AstroPy & Units](#astro)<br>\n",
    "4: [Imports Example Solutions](#importssol)"
   ]
  },
  {
   "cell_type": "markdown",
   "metadata": {},
   "source": [
    "To use an import, simply type <code>import *name*</code> where <code>*name*</code> is replaced by the name of what you want to import, like so:"
   ]
  },
  {
   "cell_type": "code",
   "execution_count": null,
   "metadata": {},
   "outputs": [],
   "source": [
    "import numpy"
   ]
  },
  {
   "cell_type": "markdown",
   "metadata": {},
   "source": [
    "In general, imports don't need to be commented, though that rule becomes a bit fuzzy if you're working with less commonly used imports.<br>\n",
    "We can also rename imports to something shorter using <code>import *name* as *shorter_name*</code>, the usefulness of such which we'll show later, as well as only importing one function/variable from the import using <code>from *name* import *function/variable*</code>, which reduces the memory usage of your device."
   ]
  },
  {
   "cell_type": "code",
   "execution_count": null,
   "metadata": {},
   "outputs": [],
   "source": [
    "import numpy as np\n",
    "from scipy import optimize"
   ]
  },
  {
   "cell_type": "markdown",
   "metadata": {},
   "source": [
    "To then access this import is quite simple, just refer to what it was named as (or its standard imported name if no <code>as</code> was provided, and type <code>.</code> followed by the wanted function or variable. An example will be provided below, giving us an array of length 5 of <code>1.</code> floats.<br>\n",
    "Note that if we use a <code>from *name* import ...</code> statement, it is often not required to use the name of the function with a <code>.</code> before using the function."
   ]
  },
  {
   "cell_type": "code",
   "execution_count": null,
   "metadata": {},
   "outputs": [],
   "source": [
    "ones = np.ones(5)\n",
    "print(ones)\n",
    "\n",
    "#don't test optimize; despite being imported from scipy, it is not a function, but rather a class (to learn about later)\n",
    "\n",
    "#to do below: check type of ones. is this suprising given what was printed?\n"
   ]
  },
  {
   "attachments": {},
   "cell_type": "markdown",
   "metadata": {},
   "source": [
    "Before moving onto the actual functionality of specific imports, one of the most important things to learn about imports is how to read documentation to find the functions provided in the import. I'll provide quick links to the tools we'll be using, if you have the time, try to look through them for functions which may be useful. In the future, you may be required to make your own documentation for any programs you write, so make sure to have a general idea of documentation structure.<br>\n",
    "NumPy/SciPy Documentation: https://docs.scipy.org/doc/ <br>\n",
    "Matplotlib Documentation: https://matplotlib.org/stable/users/index.html"
   ]
  },
  {
   "cell_type": "markdown",
   "metadata": {},
   "source": [
    "[Return to Imports](#imports)"
   ]
  },
  {
   "cell_type": "markdown",
   "metadata": {},
   "source": [
    "<a id=\"numpy\"></a>\n",
    "<h3>NumPy</h3>\n",
    "\n",
    "https://docs.scipy.org/doc/\n"
   ]
  },
  {
   "cell_type": "markdown",
   "metadata": {},
   "source": [
    "Since we've now imported numpy and briefly used it, let's take a look at what we can do with it. NumPy is useful for almost every scientific task, specifically for it's functionality to give us arrays. "
   ]
  },
  {
   "cell_type": "code",
   "execution_count": null,
   "metadata": {},
   "outputs": [],
   "source": []
  },
  {
   "cell_type": "markdown",
   "metadata": {},
   "source": [
    "[Return to Imports](#imports)"
   ]
  },
  {
   "cell_type": "markdown",
   "metadata": {},
   "source": [
    "<a id=\"scipy\"></a>\n",
    "<h3>SciPy</h3>\n",
    "    \n",
    "https://docs.scipy.org/doc/"
   ]
  },
  {
   "cell_type": "markdown",
   "metadata": {},
   "source": [
    "SciPy is cool"
   ]
  },
  {
   "cell_type": "code",
   "execution_count": null,
   "metadata": {},
   "outputs": [],
   "source": []
  },
  {
   "cell_type": "markdown",
   "metadata": {},
   "source": [
    "[Return to Imports](#imports)"
   ]
  },
  {
   "cell_type": "markdown",
   "metadata": {},
   "source": [
    "<a id=\"matplotlib\"></a>\n",
    "<h3>MatPlotLib</h3>\n",
    "\n",
    "https://matplotlib.org/stable/users/index.html"
   ]
  },
  {
   "cell_type": "markdown",
   "metadata": {},
   "source": [
    "MatPlotLib for plotting"
   ]
  },
  {
   "cell_type": "code",
   "execution_count": null,
   "metadata": {},
   "outputs": [],
   "source": []
  },
  {
   "cell_type": "markdown",
   "metadata": {},
   "source": [
    "[Return to Imports](#imports)"
   ]
  },
  {
   "cell_type": "markdown",
   "metadata": {},
   "source": [
    "<a id=\"astro\"></a>\n",
    "<h3>AstroPy & Units</h3>\n",
    "\n",
    "https://matplotlib.org/stable/users/index.html"
   ]
  },
  {
   "cell_type": "code",
   "execution_count": null,
   "metadata": {},
   "outputs": [],
   "source": []
  },
  {
   "cell_type": "markdown",
   "metadata": {},
   "source": [
    "[Return to Imports](#imports)"
   ]
  },
  {
   "cell_type": "markdown",
   "metadata": {},
   "source": [
    "<a id=\"importssol\"></a>\n",
    "<h3>Imports Example Solutions</h3>"
   ]
  },
  {
   "cell_type": "code",
   "execution_count": null,
   "metadata": {},
   "outputs": [],
   "source": []
  },
  {
   "cell_type": "markdown",
   "metadata": {},
   "source": [
    "[Return to top](#topcell)"
   ]
  },
  {
   "cell_type": "markdown",
   "metadata": {},
   "source": [
    "<a id=\"classes\"></a>\n",
    "<h2>Classes and Objects</h2>"
   ]
  },
  {
   "cell_type": "code",
   "execution_count": null,
   "metadata": {},
   "outputs": [],
   "source": []
  },
  {
   "cell_type": "markdown",
   "metadata": {},
   "source": [
    "<h3> Classes and Imports Topics </h3>\n",
    "\n",
    "1: [Classes](#class)<br>\n",
    "2: [Inheritance](#inheritance)<br>\n",
    "3: [Objects](#objects)<br>\n",
    "4: [Classes and Objects Example Solutions](#classessol)"
   ]
  },
  {
   "cell_type": "markdown",
   "metadata": {},
   "source": [
    "<a id=\"classessol\"></a>\n",
    "<h3>Classes and Object Example Solutions</h3>"
   ]
  },
  {
   "cell_type": "code",
   "execution_count": null,
   "metadata": {},
   "outputs": [],
   "source": []
  },
  {
   "cell_type": "markdown",
   "metadata": {},
   "source": [
    "[Return to top](#topcell)"
   ]
  },
  {
   "cell_type": "markdown",
   "metadata": {},
   "source": [
    "<a id=\"specialized\"></a>\n",
    "<h2>Specialized Python Fundamentals</h2>"
   ]
  },
  {
   "cell_type": "code",
   "execution_count": null,
   "metadata": {},
   "outputs": [],
   "source": []
  },
  {
   "cell_type": "markdown",
   "metadata": {},
   "source": [
    "<h3> Specialized Python Fundamentals Topics </h3>\n",
    "\n",
    "1: [User Input](#user)<br>\n",
    "2: [Match Case](#match)<br>\n",
    "3: [Proper Function Writing](#fnwriting)<br>\n",
    "4: [Ennumerate](#ennumerate)<br>\n",
    "5: [Appending](#append)<br>\n",
    "6: [Specialized Python Fundamentals Example Solutions](#specializedsol)"
   ]
  },
  {
   "cell_type": "markdown",
   "metadata": {},
   "source": [
    "<a id=\"specializedsol\"></a>\n",
    "<h3> Specialized Python Fundamentals Example Solutions </h3>"
   ]
  },
  {
   "cell_type": "code",
   "execution_count": null,
   "metadata": {},
   "outputs": [],
   "source": []
  },
  {
   "cell_type": "markdown",
   "metadata": {},
   "source": [
    "[Return to top](#topcell)"
   ]
  },
  {
   "cell_type": "markdown",
   "metadata": {},
   "source": [
    "<a id=\"ml\"></a>\n",
    "<h2>Machine Learning</h2>"
   ]
  },
  {
   "cell_type": "code",
   "execution_count": null,
   "metadata": {},
   "outputs": [],
   "source": []
  },
  {
   "cell_type": "markdown",
   "metadata": {},
   "source": [
    "<h3> Machine Learning Topics </h3>\n",
    "\n",
    "1: Quite a bit to go over <br>\n",
    "2: [Machine Learning Example Solutions](#mlsol)"
   ]
  },
  {
   "cell_type": "markdown",
   "metadata": {},
   "source": [
    "<a id=\"mlsol\"></a>\n",
    "<h2>Machine Learning Example Solutions</h2>"
   ]
  },
  {
   "cell_type": "code",
   "execution_count": null,
   "metadata": {},
   "outputs": [],
   "source": []
  },
  {
   "cell_type": "markdown",
   "metadata": {},
   "source": [
    "[Return to top](#topcell)"
   ]
  },
  {
   "cell_type": "markdown",
   "metadata": {},
   "source": [
    "Things to implement:\n",
    "imports\n",
    "-numpy/scipy\n",
    "-matplotlib\n",
    "-possibly astro/units\n",
    "classes/inheritance\n",
    "user input, matchcase, proper function writing with : and ->, iterators (https://www.w3schools.com/python/python_iterators.asp), \n",
    "machine learning (scikitlearn, pytorch, tf, pandas)"
   ]
  }
 ],
 "metadata": {
  "kernelspec": {
   "display_name": "Python 3",
   "language": "python",
   "name": "python3"
  },
  "language_info": {
   "codemirror_mode": {
    "name": "ipython",
    "version": 3
   },
   "file_extension": ".py",
   "mimetype": "text/x-python",
   "name": "python",
   "nbconvert_exporter": "python",
   "pygments_lexer": "ipython3",
   "version": "3.7.3"
  }
 },
 "nbformat": 4,
 "nbformat_minor": 2
}
