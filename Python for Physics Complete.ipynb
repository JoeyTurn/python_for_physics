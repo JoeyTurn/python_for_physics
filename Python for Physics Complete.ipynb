{
 "cells": [
  {
   "cell_type": "markdown",
   "metadata": {},
   "source": [
    "<a id='topcell'></a>\n",
    "<h1> An Introduction to Python for Physics Students </h1><hr>\n",
    "This notebook is for students in the physical sciences who are seeking to learn about scripting for scientific purposes. The language of choice will be Python as it is the easiest language to work with and requires the least amount of knowledge of computer science fundamentals in order to use effectively.\n",
    "\n",
    "Questions can be sent to the below contacts: <br>\n",
    "joeyturn@uw.edu (may be inactive past Summer 2023, if that is the case, refer to the github link which has an updated address).<br>\n",
    "https://github.com/JoeyTurn\n",
    "<br>\n",
    "\n",
    "Some parts of this notebook will not be all that applicable to physics-based projects, I'll mark these by having a <b>NP</b> (non-physics) tag in front of them. They'll still be included in the case they are necessary to a project or to those who are more curious about the more programming-heavy aspects."
   ]
  },
  {
   "cell_type": "markdown",
   "metadata": {},
   "source": [
    "<h2> Table of Contents </h2>\n",
    "\n",
    "<font size=\"+2\">1: [Setup](#setup)</font><br>\n",
    "<font size=\"+2\">2: [Essentials](#essentials)</font><br>\n",
    "<font size=\"+2\">3: [Imports](#imports)</font><br>\n",
    "<font size=\"+2\">4: [Classes and Objects](#classes)</font><br>\n",
    "<font size=\"+2\">5: [Specialized Python Functions](#specialized)</font><br>\n",
    "<font size=\"+2\">6: [Machine Learning](#ml)</font><br>"
   ]
  },
  {
   "cell_type": "markdown",
   "metadata": {},
   "source": [
    "<a id='setup'></a>\n",
    "<h2>Setup: Jupyter/Google Colab</h2>\n",
    "<br>\n",
    "<b> The use of this notebook will require notebook functionality for the most effective use. </b><br>\n",
    "For those who want the more modern, simple, and effective option, Google Colab works just as well, and sometimes even better.\n",
    "That being said, I personally recommend JupyterNotebooks, especially for those who will spent some time disconnected from the internet, as I personally use Jupyter and it allows for easy offline use."
   ]
  },
  {
   "cell_type": "markdown",
   "metadata": {},
   "source": [
    "<h3>Google Colab</h3>\n",
    "\n",
    "Google Colab is simple as only a Google account is required to use it. The link to Google Colab can be found below: <br>\n",
    "\n",
    "https://colab.research.google.com/\n",
    "\n",
    "To open this notebook on Google Colab, simply upload this notebook and you should be all set."
   ]
  },
  {
   "cell_type": "markdown",
   "metadata": {},
   "source": [
    "<h3>Jupyter</h3>\n",
    "\n",
    "JupyterNotebooks can be downloaded or \"tried\" using the link below, but downloading Anaconda is recommended. Anaconda will be the easiest installation as all required components for the use of JupyterNotebooks should be automatically installed, whereas the Jupyter installation without Anaconda will require knowledge of how to use pip and the direct installation of python.\n",
    "\n",
    "Make sure to download the latest version of Python (3.X) in either method.<br>\n",
    "\n",
    "Anaconda (recommended): https://www.anaconda.com/products/individual\n",
    "\n",
    "Jupyter and Python Individually (not recommended): https://jupyter.org/ https://www.python.org/downloads/ <br><br>\n",
    "Once Jupyter is installed, you should be able to download this notebook from the GitHub page/wherever it may be, open Jupyter, and go to the folder this file was downloaded to in order to access the full functionality of the notebook.\n",
    "\n",
    "<hr>\n",
    "\n",
    "The use of Jupyter should be somewhat manageable for beginners, if you've gotten this open on a Jupyter Notebook of your own, you're already perfect. If having trouble opening a Jupyter Notebook, please reference the video below: <br>\n",
    "\n",
    "https://youtu.be/YQWAiUhZJX8?t=100 "
   ]
  },
  {
   "cell_type": "markdown",
   "metadata": {},
   "source": [
    "<h2>Running Code</h2>\n",
    "\n",
    "Now that you've gotten the notebook open, let's go through actually using it! To run any line of code, select the cell (the portion of the notebook you want to run) and either press <kbd> Shift </kbd> + <kbd> Enter </kbd> on your keyboard or go up to the <kbd> Cell </kbd> tab and click on <kbd> Run Cells </kbd>. Try it now on the cell below:"
   ]
  },
  {
   "cell_type": "code",
   "execution_count": null,
   "metadata": {},
   "outputs": [],
   "source": [
    "import numpy as np\n",
    "p = np.pi\n",
    "print(p)"
   ]
  },
  {
   "cell_type": "markdown",
   "metadata": {},
   "source": [
    "You should see the output of the first few digits of pi. If not (and you're using Jupyter Notebooks), troubleshoot by looking at the reference video in the \"<b>Jupyter</b>\" section. Don't worry about what the code actually does or means, we'll get to that in time. <br><br>\n",
    "Next, we'll make a new cell for you to work with. To do this, click on this text (once) and either press <kbd>B</kbd> or go to <kbd> Insert </kbd> and click on <kbd> Insert Cell Below </kbd> If this text was clicked on twice, simply press <kbd> Shift </kbd> + <kbd> Enter </kbd> to get it back into its standard form. <br>\n",
    "\n",
    "With the new cell, try typing ```print(p**2)```. This should give you a value close to that of ```g = 9.8```"
   ]
  },
  {
   "cell_type": "markdown",
   "metadata": {},
   "source": [
    "If a new cell pops up but won't output anything like the above cell, it's possible the cell was changed to text or markdown instead of code. To change it back, simply click on the left side of the cell and press <kbd> Y </kbd>. If you want to try changing it into text or markdown and play around with those, press <kbd> R </kbd> or <kbd> M </kbd> respectively.\n",
    "\n",
    "If you have that working, you should be set to begin learning about Python!"
   ]
  },
  {
   "cell_type": "markdown",
   "metadata": {},
   "source": [
    "[Return to top](#topcell)"
   ]
  },
  {
   "cell_type": "markdown",
   "metadata": {},
   "source": [
    "<a id='essentials'></a>\n",
    "<h2>Essentials</h2>\n",
    "<br>\n",
    "The following cells will be used as a basic introduction to the utmost essentials of coding; these are common throughout all coding languages and should be memorized, if they haven't been after using them for every piece of code."
   ]
  },
  {
   "cell_type": "markdown",
   "metadata": {},
   "source": [
    "<h3> Essentials Topics </h3>\n",
    "\n",
    "1: [Printing, Variables, Types, and Comments](#printing) <br>\n",
    "&ensp;1.1: [Variables and Types](#variables)<br>\n",
    "&ensp;1.2: [Typecasting](#typecast)<br>\n",
    "&ensp;1.3: [Comments](#comments)<br>\n",
    "2: [Numeric Manipulation](#numeric)<br>\n",
    "3: [Functions](#functions)<br>\n",
    "4: [Conditionals and Loops](#conditionals)<br>\n",
    "&ensp;4.1: [Else Ifs](#elif)<br>\n",
    "&ensp;4.2: [Loops and Lists](#loops)<br>\n",
    "&ensp;4.3: [While Loops](#while)<br>\n",
    "&ensp;4.4: [In and Not](#in)<br>\n",
    "5: [Essentials Example Solutions](#essentialssol)"
   ]
  },
  {
   "cell_type": "markdown",
   "metadata": {},
   "source": [
    "<a id='printing'></a>\n",
    "<h3> Printing, Variables, Types, and Comments </h3> <br>\n",
    "<h4> Printing </h4>\n",
    "To begin, we'll take a quick look at printing, the easiest way of looking at the output of a piece of code. In the cell below, type <code>print(number)</code>, with <code>number</code> being replaced by whatever is your favorite number."
   ]
  },
  {
   "cell_type": "code",
   "execution_count": null,
   "metadata": {},
   "outputs": [],
   "source": [
    "#your code below\n"
   ]
  },
  {
   "cell_type": "markdown",
   "metadata": {},
   "source": [
    "[Return to Essentials](#essentials)"
   ]
  },
  {
   "cell_type": "markdown",
   "metadata": {},
   "source": [
    "<a id='variables'></a>\n",
    "<h4>Variables and Types</h4>\n",
    "Unlike in physics, variables in Python are used to store values to use later. We saw the variable p being used to store an approximate value of pi earlier. Variables can be called almost anything, although common practice in physics has variables named using the convention <code>name1_name2_name_3</code> as would be used for <code>gravitational_constant</code>. Variables in Python are special, as we don't have to declare the <b> type </b> of variable before use. There are multiple types which we can store in variables, so let's go over some below. <br> <br>\n",
    "In the cell below, we see that a variable can be set simply by writing <code>variable_name = variable</code>"
   ]
  },
  {
   "cell_type": "code",
   "execution_count": null,
   "metadata": {},
   "outputs": [],
   "source": [
    "basic_string = \"Hello\"\n",
    "basic_integer = 24\n",
    "basic_float = 9.8\n",
    "basic_list = [basic_string, basic_integer, basic_float]\n",
    "basic_bool = False"
   ]
  },
  {
   "cell_type": "markdown",
   "metadata": {},
   "source": [
    "From the above code, we see the most commonly used data types: strings (used for words or numbers with words), integers, floats (any real number), lists (which store multiple variables) and bools, a type which is either <code>True</code> or <code>False</code> (think 1 or 0 in binary terms). Something I should mention for lists; in general, lists can store all variable types together, although in practice, it's best to use them to store only one type, say floats, so that no type-based errors occur. <br> Some more types can be seen below, although these aren't used quite as much as the above five:"
   ]
  },
  {
   "cell_type": "code",
   "execution_count": null,
   "metadata": {},
   "outputs": [],
   "source": [
    "basic_complex = 1j + 2\n",
    "basic_char = 'A'\n",
    "basic_tuple = (1, 2, 3)\n",
    "basic_dict = {1: \"Hello\", 2: \"World\"}"
   ]
  },
  {
   "cell_type": "markdown",
   "metadata": {},
   "source": [
    "Try setting up some of your own variables using the cell below. Bonus points for if you can find some strange way to have the variables not function as intended."
   ]
  },
  {
   "cell_type": "code",
   "execution_count": null,
   "metadata": {},
   "outputs": [],
   "source": [
    "#your code below\n"
   ]
  },
  {
   "cell_type": "markdown",
   "metadata": {},
   "source": [
    "In short, complex types aren't all that used, and the other types are more useful in more computer science focused programs. (In fact, I don't think characters are a specified type in Python, though for other languages like Java or C++, you will find that characters are the building blocks of strings). <br>\n",
    "If in need of checking the type, we can simply use the line <code>type(variable_name)</code>, as seen below:"
   ]
  },
  {
   "cell_type": "code",
   "execution_count": null,
   "metadata": {},
   "outputs": [],
   "source": [
    "print(type(basic_integer), type(basic_bool), type(basic_tuple))\n",
    "print(basic_integer, basic_bool, basic_tuple)"
   ]
  },
  {
   "cell_type": "markdown",
   "metadata": {},
   "source": [
    "From this cell, we can also see that we can print multiple values using one print command if we use a comma between the values we want to output.\n",
    "\n",
    "Feel free to insert a new cell below by pressing <kbd> B </kbd> after clicking on this text to play around with variables, their types, and printing out their values!"
   ]
  },
  {
   "cell_type": "markdown",
   "metadata": {},
   "source": [
    "For a few closing notes on variables and types, let's see what happens when we try combining multiple variable types. We can do this using the simple arithmetic operations like <kbd>+</kbd> and <kbd>*</kbd>."
   ]
  },
  {
   "cell_type": "code",
   "execution_count": null,
   "metadata": {},
   "outputs": [],
   "source": [
    "print(basic_string*basic_integer)"
   ]
  },
  {
   "cell_type": "code",
   "execution_count": null,
   "metadata": {},
   "outputs": [],
   "source": [
    "print(basic_integer*basic_float, basic_integer+basic_float)"
   ]
  },
  {
   "cell_type": "code",
   "execution_count": null,
   "metadata": {},
   "outputs": [],
   "source": [
    "print(basic_string+str(basic_integer))"
   ]
  },
  {
   "cell_type": "code",
   "execution_count": null,
   "metadata": {
    "scrolled": true
   },
   "outputs": [],
   "source": [
    "# won't work\n",
    "print(basic_tuple+basic_float)"
   ]
  },
  {
   "cell_type": "markdown",
   "metadata": {},
   "source": [
    "[Return to Essentials](#essentials)"
   ]
  },
  {
   "cell_type": "markdown",
   "metadata": {},
   "source": [
    "<a id='typecast'></a>\n",
    "<h4>Typecasting</h4>\n",
    "From the above few commands, we can see types can be somewhat stingy, so to combat this we can <b>typecast</b> by using commands like <code>str(variable)</code> and <code>int(variable)</code>, though careful when using the <code>int(variable)</code> typecast as only numerical-esque variables can be converted to integers. <br>\n",
    "For example, the line <code>print(int(\"12\"))</code> will work as it takes the string <code>\"12\"</code> then converts it into an integer <code>12</code>, though the line <code>print(int(\"twelve\"))</code> won't work as there is no integer <code>twelve</code>.\n",
    "\n",
    "I'll leave an empty cell below to work out printing, types, and variables before moving onto the following section."
   ]
  },
  {
   "cell_type": "code",
   "execution_count": null,
   "metadata": {},
   "outputs": [],
   "source": [
    "# your code below\n"
   ]
  },
  {
   "cell_type": "markdown",
   "metadata": {},
   "source": [
    "[Return to Essentials](#essentials)"
   ]
  },
  {
   "cell_type": "markdown",
   "metadata": {},
   "source": [
    "<a id='comments'></a>\n",
    "<h4>Comments</h4> \n",
    "The observant may have noticed the inclusion of the <code># won't work</code> line for the cell that gave us a TypeError. This was not what caused the code, but something for us to read that the machine won't have access to: a comment.<br>\n",
    "Comments are used by typing <code>#</code> on any line, and renders anything to the right of the <kbd>#</kbd> symbol on that line invisible to Python. While this may not seem important, physics and coding is collaborative, so any lines or cells of code that aren't immediately obvious to anyone who may work on it should be commented by a short line about the functionality and anything else that isn't initially apparent. Comments are what seperate the mediocre programmers from the great ones, so make sure to use them, just don't overdue it with comments that aren't needed."
   ]
  },
  {
   "cell_type": "code",
   "execution_count": null,
   "metadata": {},
   "outputs": [],
   "source": [
    "# for example, this line isn't seen by the computer\n",
    "# to test yourself on comments, try setting up an string integer with a seemingly random sentence, then on the same line,\n",
    "# comment on what it means (this doesn't mean you should do this with a real project, this is just for practice)\n",
    "\n",
    "# your code below\n"
   ]
  },
  {
   "cell_type": "markdown",
   "metadata": {},
   "source": [
    "[Return to Essentials](#essentials)"
   ]
  },
  {
   "cell_type": "markdown",
   "metadata": {},
   "source": [
    "<a id='numeric'></a>\n",
    "<h3>Numeric Manipulation</h3>\n",
    "As an end to the most fundamental portion of coding, let's look at manipulating numbers. As you might expect, Python takes it easy by allowing humanlike algebra, using the following simple operators:\n",
    "<ul>\n",
    "    <li>Addition: <code>+</code> -- <code>5 + 12 = 17</code></li>\n",
    "    <li>Subtraction: <code>-</code> -- <code>5 - 12 = -7</code></li>\n",
    "    <li>Multiplication: <code>*</code> -- <code>5 * 12 = 60</code></li>\n",
    "    <li>Division: <code>/</code> -- <code>5/12 = 0.4167</code> Note that this always gives a <b>float</b></li>\n",
    "    <li>Parantheses: <code>()</code> -- <code>(5+12)*12 = 204</code> </li>\n",
    "    <li>Exponents: <code>**</code> or <code>^</code> -- <code>5**2 = 5^2 = 25</code> Be careful with these, especially for roots and negatives, make sure to include parantheses. </li>\n",
    "    <li>Modulo: <code>%</code> -- <code>5%12 = 5</code> Modulo returns the remainder of an integer division (i.e. 7%3 = 1, 8%3 = 2, 9%3 = 0) </li>\n",
    "    <li>Floor: <code>//</code> -- <code>5//12 = 0</code> Flooring is essentially the opposite of modulo, it returns the integer number of divisions (i.e. 7//3 = 2, 8//3 = 2, 9//3 = 3)</li>\n",
    "</ul>\n",
    "\n",
    "Note: Integration/differentiation is a little more complicated, so we'll look at that later.\n",
    "\n",
    "I'll include a little starter code below to see some of the functionality, try to modify it or make your own for practice. Bonus points for seeing how to manipulate numericals inside of lists."
   ]
  },
  {
   "cell_type": "code",
   "execution_count": null,
   "metadata": {},
   "outputs": [],
   "source": [
    "velocity = 5\n",
    "position = velocity*2\n",
    "print(position)\n",
    "\n",
    "#your code below\n"
   ]
  },
  {
   "cell_type": "markdown",
   "metadata": {},
   "source": [
    "[Return to Essentials](#essentials)"
   ]
  },
  {
   "cell_type": "markdown",
   "metadata": {},
   "source": [
    "<a id='functions'></a>\n",
    "<h3>Functions</h3>\n",
    "\n",
    "Now that we have Python variables, let's work with the more-familiar physics varaibles by using <b>functions</b>, otherwise known as methods. To define a function, we use the line <br> <code>def function_name(variable_1, variable_2, ...): \n",
    "    function\n",
    "    return variable_name</code> <br>\n",
    "    \n",
    "where it is important to note the line between <code>def function_name(variables)</code> line and the <code>function</code> line as well as the <kbd>Tab</kbd> spacing between each line used in the function after the <code>def function_name</code> line."
   ]
  },
  {
   "cell_type": "markdown",
   "metadata": {},
   "source": [
    "A few other things that we should quickly note about functions:\n",
    "\n",
    "We use the statement <code>return</code> (with or without parantheses) instead of <code>print()</code>. This is so we can access the value of the variable for later use instead of just printing it to the console.\n",
    "\n",
    "We would store these variables by using <b>function calls</b>, which just specifies that you would actually like to use the function. The basic structure of function calls is fairly simple, just write the name of the function, include parantheses, and make sure to put values for any variables used in the function call, like so:"
   ]
  },
  {
   "cell_type": "code",
   "execution_count": null,
   "metadata": {},
   "outputs": [],
   "source": [
    "#this cell won't produce anything, it is just for show\n",
    "\n",
    "def function_name(variable_1, variable_2, ...): \n",
    "    function\n",
    "    return variable_name\n",
    "\n",
    "#function call below\n",
    "function_value_1 = function_name(x, y, ...)\n",
    "print(function_value_1)"
   ]
  },
  {
   "cell_type": "markdown",
   "metadata": {},
   "source": [
    "To get a real feel for functions, I'll set one up below and then will ask you to set up your own."
   ]
  },
  {
   "cell_type": "code",
   "execution_count": null,
   "metadata": {},
   "outputs": [],
   "source": [
    "initial_position = 3\n",
    "velocity = 4\n",
    "time = 5.5\n",
    "\n",
    "# returns position of particle with constant velocity\n",
    "def motion_constant_velocity():\n",
    "    position = initial_position+velocity*time\n",
    "    return position\n",
    "\n",
    "new_position = motion_constant_velocity()\n",
    "print(new_position)\n",
    "print(new_position)"
   ]
  },
  {
   "cell_type": "markdown",
   "metadata": {},
   "source": [
    "Please set up a function below, including a comment above it explaining its functionality, and call the function while storing the call in a variable. If you're feeling adventurous, try setting up a function which takes in a variable as an input, then call the function, store it in a variable, then call the function again using the stored variable as an input."
   ]
  },
  {
   "cell_type": "code",
   "execution_count": null,
   "metadata": {},
   "outputs": [],
   "source": [
    "#your code below\n"
   ]
  },
  {
   "cell_type": "markdown",
   "metadata": {},
   "source": [
    "Make sure to include the parantheses with the function when assigning it to a variable! Otherwise you'll end up with a variable as a pointer to the function (the specifics of which are really only of interest to computer scientists)."
   ]
  },
  {
   "cell_type": "markdown",
   "metadata": {},
   "source": [
    "While I originally wrote code functions as it should, there are a few pros and cons I would like to go over. <br>\n",
    "\n",
    "Pros:<ol><li>The comment explained the function well without going too overboard </li> <li> We got the correct output! </li> </ol>\n",
    "\n",
    "Cons: <ol><li> We need to go back into the code and find where our variables were if we want to change the numbers </li> <li>This only outputs the position for one velocity/initial position/time</li> <li> Some of the lines are not needed and somewhat messy... let's fix that</li> </ol>\n",
    "To beautify the function, let's look towards the following line of code:"
   ]
  },
  {
   "cell_type": "code",
   "execution_count": null,
   "metadata": {},
   "outputs": [],
   "source": [
    "# returns position of particle with constant velocity\n",
    "def motion_constant_velocity(initial_position, velocity, time):\n",
    "    return initial_position+velocity*time\n",
    "\n",
    "print(motion_constant_velocity(3, 4, 5.5))\n",
    "print(motion_constant_velocity(5.5, 3, 4))\n",
    "print(motion_constant_velocity(0, 55.5, 2.3))"
   ]
  },
  {
   "cell_type": "markdown",
   "metadata": {},
   "source": [
    "We can see this function works just the same but looks a lot nicer. Let's go through the improvements:\n",
    "<ol>\n",
    "    <li>We can now compute the final position for multiple initial conditions! We did this by specifying input variables that the function takes (<code>initial_position, velocity, time</code>). Note that if we still did keep the variable <code>Velocity = 4</code> in the line above the definition that our output doesn't change (try adding it yourself to see what happens). This is because the inputs of the function aren't actually looking at specific variables, but are just placeholders for the values that we later put in the function when we use <code>motion_constant_velocity(3, 4, 5.5)</code>. This means that we could technically still keep the three variables and then use <code>motion_constant_velocity(initial_position, velocity, time)</code> and we would get the same result, though for naming sake this isn't recommended! </li>\n",
    "    <li>Inside the function, we removed the unnecessary variable <code>position</code>, as we were going to return the value of that variable in the very next line. Be sure to watch out for unnecessary variables when writing functions, and to not remove necessary ones.</li>\n",
    "    <li>Similar to the last point, except this time outside of the function, we removed the unnecessary variable <code>new_position</code> as we were to print that value in the next line.</li>\n",
    "</ol>\n",
    "\n",
    "Some of these optimizations come with time, so make sure to pay attention to them but not beat yourself up over them, especially as you're starting out.\n",
    "\n",
    "As an exercise, I want you to try setting up a function that has acceleration and initial velocity as inputs and outputs the position taking time as an input (or for extra practice, printing position as a function of time, but please read the reminder if this is done). Also, try see what happens if you have a list as an input. Does it work with one variable being a list, or would you need them all to be lists? There's an easier way to do this later on, but it should be good practice for now.<br>\n",
    "<b>!Reminder!</b><br>\n",
    "If having defined a function without time as a paramater, please make sure to switch back to one with time as an input as future examples rely on time being an input.\n",
    "<a id=\"partpos\"></a>"
   ]
  },
  {
   "cell_type": "code",
   "execution_count": null,
   "metadata": {},
   "outputs": [],
   "source": [
    "# Example 1: find the position of a point particle given some acceleration, initial velocity, and time\n",
    "\n",
    "#your code below\n"
   ]
  },
  {
   "cell_type": "markdown",
   "metadata": {},
   "source": [
    "Functions are some of the most important parts of using coding for physics so I'd like to look at a few more examples"
   ]
  },
  {
   "cell_type": "code",
   "execution_count": null,
   "metadata": {},
   "outputs": [],
   "source": [
    "# Example 2: Using k = 9*10^9, q = 1.6*10^-19, calculate the force an electron has on a point charge q_2 at some distance away r\n",
    "#            where r = sqrt(x^2+y^2), x and y being the component parts of r in the x- and y-direction\n",
    "#            For this problem, please return both components of the force\n",
    "\n",
    "#your code below\n"
   ]
  },
  {
   "cell_type": "code",
   "execution_count": null,
   "metadata": {},
   "outputs": [],
   "source": [
    "# Example 3: Using G = 6.67*10^-11, m = 9.11*10^-31, calculate the force an electron has on a neutral mass m_2 at some distance\n",
    "#            away r, where r = sqrt(x^2+y^2). Again, give both components of the force\n",
    "\n",
    "#your code below\n"
   ]
  },
  {
   "cell_type": "code",
   "execution_count": null,
   "metadata": {},
   "outputs": [],
   "source": [
    "# Example 4: Given we have a system of fermions, calculate the average occupancy number of the fermions at some energy level\n",
    "#            above the chemical potential mu, given T = 273K. (Use Fermi-Dirac distribution formula)\n",
    "\n",
    "# NOTE: since it is not yet obvious how to get the python approximation of Euler's number e, please approximate as e = 2.718\n",
    "\n",
    "#your code below\n"
   ]
  },
  {
   "cell_type": "markdown",
   "metadata": {},
   "source": [
    "One last thing for functions, let's see what happens when we call functions inside functions."
   ]
  },
  {
   "cell_type": "code",
   "execution_count": null,
   "metadata": {},
   "outputs": [],
   "source": [
    "#sample function\n",
    "def sample_1(a):\n",
    "    return 2*a**3 + 5\n",
    "\n",
    "#another sample function\n",
    "def sample_2(b):\n",
    "    return sample_1(b)**(.5)-2\n",
    "\n",
    "#testing\n",
    "print(sample_2(0))"
   ]
  },
  {
   "cell_type": "markdown",
   "metadata": {},
   "source": [
    "Functions can be called inside other functions! Just be careful to not have a function call itself unless you are sure it has some way of stopping. But, how can we get these functions to stop?"
   ]
  },
  {
   "cell_type": "markdown",
   "metadata": {},
   "source": [
    "[Return to Essentials](#essentials)"
   ]
  },
  {
   "cell_type": "markdown",
   "metadata": {},
   "source": [
    "<a id='conditionals'></a>\n",
    "<h3> Conditionals and Loops </h3>\n",
    "\n",
    "In a traditional computer science course, we would go over conditionals and loops before functions, but given how much more important functions are to physical uses, we started with functions. Now let's look at conditionals and loops!"
   ]
  },
  {
   "cell_type": "markdown",
   "metadata": {},
   "source": [
    "<h4>Conditionals</h4>\n",
    "\n",
    "Just earlier, we needed a way for functions to stop, the easiest way to do this is with if&else conditionals. These work somewhat intuitively by evaluating a statement and if the condition is met, then the statement that goes with if is executed, otherwise the else statement is executed, like this:\n",
    "\n",
    "<code>if condition_1 ___ condition_2:\n",
    "    statement_1\n",
    "else:\n",
    "    statement_2\n",
    "</code>\n",
    "\n",
    "where the <code>___</code> represents some comparrison, the usual suspects of <code>> , >=, <, <=, ==,</code> and <code>!=</code> being the most common. The <code>==</code> symbol represents exact comparrison, since the single <code>=</code> sign already being used to set a variable to some value (I find it easiest to see the double = sign and imagine it meaning \"exactly equal to\" which differentiates it from the single sign of \"setting the value\"), and the <code>!=</code> sign meaning \"not equal to,\" although this can also be remidied in a cell I'll show later on. <code>if</code> statements can stand alone, although <code>else</code> statements <b>require</b> a pre-existing <code>if</code> statement!\n",
    "\n",
    "Let's see an example use for a simple conditional, run the code below:"
   ]
  },
  {
   "cell_type": "code",
   "execution_count": null,
   "metadata": {},
   "outputs": [],
   "source": [
    "earth_rock = 10\n",
    "meteor = 9\n",
    "\n",
    "if earth_rock > meteor:\n",
    "    print(\"Earth rocks!\")\n",
    "else:\n",
    "    print(\"Space rocks!\")"
   ]
  },
  {
   "cell_type": "markdown",
   "metadata": {},
   "source": [
    "We could also have just used a single if statement without the else, but you should use your own judgement for when that would be appropriate.\n",
    "\n",
    "Lone if statements aside, we have a slight problem with the above code... please take a moment to try and see what it is."
   ]
  },
  {
   "cell_type": "markdown",
   "metadata": {},
   "source": [
    "[Return to Essentials](#essentials)"
   ]
  },
  {
   "cell_type": "markdown",
   "metadata": {},
   "source": [
    "<a id='elif'></a>\n",
    "<h4>Else If</h4>\n",
    "The problem with the code is that even when the values are equal, we still go to the else statement, which was unintended. To get around this we use <code>elif</code>, which is short for else if, to catch values after the if statement but before the else statement. As with <code>else</code> statements, <code>elif</code> statements require a pre-existing <code>if</code> statement to work. We can see an <code>elif</code> conditional used below, and why we might use else if's over two <code>if</code> statements."
   ]
  },
  {
   "cell_type": "code",
   "execution_count": null,
   "metadata": {},
   "outputs": [],
   "source": [
    "one = 1\n",
    "two = 2\n",
    "three = 3\n",
    "\n",
    "if two < one:\n",
    "    print(two)\n",
    "elif two < three:\n",
    "    print(three)\n",
    "else:\n",
    "    print(one)"
   ]
  },
  {
   "cell_type": "code",
   "execution_count": null,
   "metadata": {},
   "outputs": [],
   "source": [
    "if two < one:\n",
    "    print(two)\n",
    "else:\n",
    "    print(one)\n",
    "    \n",
    "if two < three:\n",
    "    print(three)\n",
    "else:\n",
    "    print(one)"
   ]
  },
  {
   "cell_type": "markdown",
   "metadata": {},
   "source": [
    "We can see the discrepancy between the two code blocks; the one with elif is more \"selective\" in that it runs the first statement which is true, whereas the double if statement will always give us two outputs."
   ]
  },
  {
   "cell_type": "markdown",
   "metadata": {},
   "source": [
    "In line with what we did with functions, we can also nest if statements inside themselves, and, in fact, put them anywhere without discrepancy. For the follwing example, I would like you to write a function that checks for a user's preference for which force they like better, electrostatic or gravitational, and calculate the force given by an electron with their preference in mind."
   ]
  },
  {
   "cell_type": "code",
   "execution_count": null,
   "metadata": {},
   "outputs": [],
   "source": [
    "# Example 5: Write a function that checks for a user's preference for which force they like better, electromagnetic or\n",
    "# gravitational. Calculate their preferred force given by an electron on some mass m or charge q at a distance r away.\n",
    "\n",
    "# You should take that the preference is some string which is either \"gravity\" or \"electrostatic\"\n",
    "\n",
    "#your code below\n"
   ]
  },
  {
   "cell_type": "markdown",
   "metadata": {},
   "source": [
    "If you found yourself dredding to rewrite the same electrostatic and gravitational force functions, don't worry, I did too! The good news is that the notebook remembers all the functions you wrote and variables you saved after you ran the code that contained them (up until a reset). This means calculating the forces was as simple as calling the functions which you wrote earlier and returning their values!"
   ]
  },
  {
   "cell_type": "markdown",
   "metadata": {},
   "source": [
    "There is another type of conditional, called the \"match case\" in Python (switch case in other languages), but that is beyond essential, so we'll come back to those at a later time. As such, we'll move onto loops."
   ]
  },
  {
   "cell_type": "markdown",
   "metadata": {},
   "source": [
    "[Return to Essentials](#essentials)"
   ]
  },
  {
   "cell_type": "markdown",
   "metadata": {},
   "source": [
    "<a id='loops'></a>\n",
    "<h4>Loops and Lists</h4>\n",
    "\n",
    "Say we wanted to calculate the position at many times given some initial acceleration, velocity, and position, or if we wanted to calculate the sum of a series. We can do both of these using loops! Let's start with the classic <b>for</b> loop."
   ]
  },
  {
   "cell_type": "code",
   "execution_count": null,
   "metadata": {
    "scrolled": true
   },
   "outputs": [],
   "source": [
    "for i in range(6):\n",
    "    print(i)"
   ]
  },
  {
   "cell_type": "markdown",
   "metadata": {},
   "source": [
    "The for loop lives with the <code>range(integer)</code> function; from the code, we note that we get an output for the amount of times specified by the integer inside the <code>range()</code> function, and that the range function goes between <code>0</code> and <code>integer-1</code>, so if you wanted to go between 0 and an integer, make sure to up the integer inside the <code>range()</code> function by 1."
   ]
  },
  {
   "cell_type": "markdown",
   "metadata": {},
   "source": [
    "What the <code>range()</code> does is create a list between <code>0</code> and <code>integer-1</code>, so it's a good time to learn more about lists along with loops. I'll setup a starter list in the folling line."
   ]
  },
  {
   "cell_type": "code",
   "execution_count": null,
   "metadata": {},
   "outputs": [],
   "source": [
    "starter_list = [1, 2, 4, 8, 9, 15]"
   ]
  },
  {
   "cell_type": "markdown",
   "metadata": {},
   "source": [
    "Lists are always 0-indexed. That is, the first element of the list has an index of 0, meaning if we wanted the last element of a list (without getting creative later), we would need to check the element at the index <code>len(list)-1</code>. With this, let's look at some manipulation of the list:"
   ]
  },
  {
   "cell_type": "code",
   "execution_count": null,
   "metadata": {
    "scrolled": true
   },
   "outputs": [],
   "source": [
    "#len(list) gives... the length of the list\n",
    "print(len(starter_list))\n",
    "\n",
    "#list[i:j] gives a sublist of the list elements between i and j-1\n",
    "print(starter_list[0:3])\n",
    "\n",
    "#if we just have list[i], we get the element at the ith index in the list\n",
    "print(starter_list[1])\n",
    "\n",
    "#list[-1] gives the last element of the list\n",
    "print(starter_list[-1])"
   ]
  },
  {
   "cell_type": "markdown",
   "metadata": {},
   "source": [
    "With these lists, we can look over their values using a <code>for</code> loop using the notation <code>for value in list:</code>, as seen in the code below:"
   ]
  },
  {
   "cell_type": "code",
   "execution_count": null,
   "metadata": {},
   "outputs": [],
   "source": [
    "starter_list = [1, 2, 4, 8, 9, 15]\n",
    "\n",
    "for number in starter_list:\n",
    "    print(number)"
   ]
  },
  {
   "cell_type": "markdown",
   "metadata": {},
   "source": [
    "The actual keyword betweeen <code>for</code> and <code>in</code> isn't all that important, just try to make it something descriptive and definitely don't make it <code>i</code> or anything that might get it confused for an index!<br><br>\n",
    "Now that we've look at the basic properties of lists and for loops, let's have you do an example!<br>\n",
    "For this, I want you to revist the position of a [point particle code](#partpos) and iterate over a given list for the position of the particle at different points in time."
   ]
  },
  {
   "cell_type": "code",
   "execution_count": null,
   "metadata": {},
   "outputs": [],
   "source": [
    "# IMPLEMENT EXAMPLE\n"
   ]
  },
  {
   "cell_type": "markdown",
   "metadata": {},
   "source": [
    "One last thing for lists and for loops, occasionally we want to look at the indices of a list and (perhaps) their values as well; we can do this by having a <code>for</code> loop to goes through the length of our list while we check indices/values, something that can be done using the code below:"
   ]
  },
  {
   "cell_type": "code",
   "execution_count": null,
   "metadata": {},
   "outputs": [],
   "source": [
    "starter_list = [1, 2, 4, 8, 9, 15]\n",
    "\n",
    "for i in range(len(starter_list)):\n",
    "    print(i, starter_list[i])"
   ]
  },
  {
   "cell_type": "markdown",
   "metadata": {},
   "source": [
    "Just be sure to remember <code>range(len(list_name))</code> in order to get an appropriate indexing, otherwise you will end up with just the values of the list, which will make <code>list_name[i]</code> give nonsense values."
   ]
  },
  {
   "cell_type": "markdown",
   "metadata": {},
   "source": [
    "[Return to Essentials](#essentials)"
   ]
  },
  {
   "cell_type": "markdown",
   "metadata": {},
   "source": [
    "<a id='while'></a>\n",
    "<h4>While & Do While</h4>"
   ]
  },
  {
   "cell_type": "markdown",
   "metadata": {},
   "source": [
    "We looked at the standard for loops which are by far the most commonly used loops in physics. Something potentially undesirable about for loops, however, is that they will only continue on for as long as we specified, and we (at this point) have no way to prematurely stop the loop. This is where while loops come in, where we can set a condition for the loop to end on rather then having it loop for a set number of times."
   ]
  },
  {
   "cell_type": "markdown",
   "metadata": {},
   "source": [
    "While loops are pretty easy to set up, and take a similar structure to for loops:"
   ]
  },
  {
   "cell_type": "code",
   "execution_count": null,
   "metadata": {},
   "outputs": [],
   "source": [
    "increment = 0\n",
    "while (increment <= 3):\n",
    "    print(True)\n",
    "    increment += 1"
   ]
  },
  {
   "cell_type": "markdown",
   "metadata": {},
   "source": [
    "Let's decompose the above code. For while loops, we need something to have them break out of the while loop, otherwise the loop will run forever and you'll need to restart your program. As such, <b>always</b> make sure to save immediately before testing out a while loop. The \"thing\" that stops the while loop is, what I call, an incrementor, which ticks up after every run of the loop.<br>\n",
    "Here, the incrementor is simply titled <code>increment</code> and we can see that we defined it <b>before</b> entering the loop. While in the loop, we see that the incrementor is increased in value by <code>1</code> which is the meaning of the line <code>increment += 1</code>. As you may guess, the statements <code>variable += n</code> and <code>variable -= n</code> are shorthand for statements <code>variable = variable + n</code> and <code>variable = variable - n</code>, lines which increases or decreases the variable by n. (Simply typing <code>variable + n</code> or it's subtraction counterpart won't actually do anything to the value of the variable, as the variable is not being assigned a new value).<br>\n",
    "Lastly, we notice the <b>exit condition</b>, in this case <code>increment <= 3</code>, which will break us out of the while loop once the condition is met."
   ]
  },
  {
   "cell_type": "markdown",
   "metadata": {},
   "source": [
    "Try to test out a simple while loop below. For it, try setting an incrementor for time that increases by .1 seconds up to a maximum of 1 second and read out the position of the particle you defined [here](#partpos). Additionally, write code using a for loop for the same situation."
   ]
  },
  {
   "cell_type": "code",
   "execution_count": null,
   "metadata": {},
   "outputs": [],
   "source": [
    "# Example 6: Use a loop with time as an incrementor in increments of .1 (up to a maximum of 1) to find the position of a\n",
    "# particle at multiple points in time as described by your previous code for the particle's position.\n",
    "# Use both a for and a while loop, in two seperate but equally valid solutions.\n",
    "# Since the time increments are relatively small, try using a high value for initial velocity/acceleration for best results.\n",
    "\n",
    "# Note: Use the function round(value, 2) if your positions are getting strangely long\n",
    "\n",
    "#your code below\n"
   ]
  },
  {
   "cell_type": "markdown",
   "metadata": {},
   "source": [
    "Apart from the while loop, we have the similar do...while loops. These are a little odd, however, as Python doesn't have a specific keyword for them (Python being one of the only languages not to have them), so we'll have to create our own. I think they're important enough to include even without a specific keyword, so let's go over them:\n",
    "\n",
    "A do...while loop in python can be constructed with a while loop that we intentionally have run forever (sort of). We have no incrementor, and instead just let the condition be <code>True</code>, but get out of the loop using a <code>break</code> statement:"
   ]
  },
  {
   "cell_type": "code",
   "execution_count": null,
   "metadata": {},
   "outputs": [],
   "source": [
    "a = 12\n",
    "while (True):\n",
    "    print(a)\n",
    "    if (a == 0):\n",
    "        break\n",
    "    a -= 1"
   ]
  },
  {
   "cell_type": "markdown",
   "metadata": {},
   "source": [
    "Try to imagine what would happen if the <code>a -= 1</code> statement was moved to before the <code>if</code> statement. Also, take note of the <kbd>Tab</kbd> spacing I used inside the <code>while</code> loop and after the <code>if</code> statement: the loops, conditionals, and other objects similar to them only execute what is on lines after them <b>and</b> indented to one indent beyond their level. In the above code, we see that everything past the <code>while</code> loop has an indenting of <b>at least</b> 1, meaning all lines are executed during a runthrough of the loop. Meanwhile, only the <code>break</code> statement exists after the <code>if</code> statement and is indented to one level beyond the <code>if</code> statement, in this case indented twice.<br>\n",
    "The last thing to note is the use of a lone <code>if</code> statement. Remember, <code>if</code> statements can stand alone, whereas <code>elif</code> and <code>else</code> conditionals require the <code>if</code> statement!"
   ]
  },
  {
   "cell_type": "markdown",
   "metadata": {},
   "source": [
    "As a send off to the section, I want you to, again use the same particle position function, but this time have the initial velocity be some positive value and the acceleration some negative value, and find an approximate time for when the particle has a negative displacement. No values past this negative displacement will be needed."
   ]
  },
  {
   "cell_type": "code",
   "execution_count": null,
   "metadata": {},
   "outputs": [],
   "source": [
    "# Example 7: Using the particle position function, with a positive initial velocity and negative acceleration,\n",
    "# find an approximate time for when the particle's displacement is negative. No displacements beyond the first negative\n",
    "# displacement are needed.\n",
    "\n",
    "#your code below\n"
   ]
  },
  {
   "cell_type": "markdown",
   "metadata": {},
   "source": [
    "So far, all of these problems have not relied on the components found before the problem, aside from the basics of the first secion of essentials, though expect this to change in the coming sections. Think of these example problems as the easy part of the learning curve, and while the curve will <b>NOT</b> steepen suddenly, expect it to pick up slightly in the coming sections."
   ]
  },
  {
   "cell_type": "markdown",
   "metadata": {},
   "source": [
    "If you really want to go above and beyond, try redefining a new function which takes drag and initial displacement into account, and try to find properies of this motion, such as time at maximum displacement, kinetic energy, and total air time, though note I will not provide a solution to this."
   ]
  },
  {
   "cell_type": "markdown",
   "metadata": {},
   "source": [
    "[Return to Essentials](#essentials)"
   ]
  },
  {
   "cell_type": "markdown",
   "metadata": {},
   "source": [
    "<a id=\"in\"></a>\n",
    "<h4>In and Not statements</h4>"
   ]
  },
  {
   "cell_type": "markdown",
   "metadata": {},
   "source": [
    "Let's go over in statements first: In statements are fairly self-explanitory to use, they're a compliment to the <code>==</code> and other inequalities, but are used if we want to check if a variable is inside a specified tuple. Since the in statements are similar to inequalities, they're also typically used in conditionals, let's check an example below:"
   ]
  },
  {
   "cell_type": "code",
   "execution_count": null,
   "metadata": {},
   "outputs": [],
   "source": [
    "forces = (\"electromagnetism\", \"gravitational\", \"strong\", \"weak\")\n",
    "\n",
    "my_force = \"strong weak\"\n",
    "\n",
    "if force in forces:\n",
    "    print(\"This is one of the four fundamental forces!\")\n",
    "else:\n",
    "    print(\"This isn't one of the four fundamental forces.\")"
   ]
  },
  {
   "cell_type": "markdown",
   "metadata": {},
   "source": [
    "You can play around with the <code>my_force</code> variable, but it should be somewhat obvious by this statement on the uses and usefulness of <code>in</code> statements.<br>\n",
    "\n",
    "The <code>in</code> keyword was also used in the loops we went over in this section, so why do we have the similarity? It turns out the <code>for ... in list_name</code> runs the indented code by defining a temporary variable and setting it equal to each element of a list during each iteration.<br><br>\n",
    "As for <code>not</code> statements, the keyword is simply the counterpart for the <code>!=</code> comparison, but used in situations outside numerical values. For instance, we could have also written the above code as:"
   ]
  },
  {
   "cell_type": "code",
   "execution_count": null,
   "metadata": {},
   "outputs": [],
   "source": [
    "forces = (\"electromagnetism\", \"gravitational\", \"strong\", \"weak\")\n",
    "\n",
    "my_force = \"strong weak\"\n",
    "\n",
    "if force not in forces:\n",
    "    print(\"This isn't one of the four fundamental forces.\")\n",
    "else:\n",
    "    print(\"This is one of the four fundamental forces!\")"
   ]
  },
  {
   "cell_type": "markdown",
   "metadata": {},
   "source": [
    "The <code>not</code> keyword is also used in every other non-numerical comparison, like strings, tuples, booleans, etc."
   ]
  },
  {
   "cell_type": "code",
   "execution_count": null,
   "metadata": {},
   "outputs": [],
   "source": [
    "if (True is not False):\n",
    "    print(True)\n",
    "if \"hi\" is not \"Hi\":\n",
    "    print(True)\n",
    "if (1, 2) is not (2, 1):\n",
    "    print(True)"
   ]
  },
  {
   "cell_type": "markdown",
   "metadata": {},
   "source": [
    "Where we can also see the use of the keyword <code>is</code> also being used in a pseudo-human way."
   ]
  },
  {
   "cell_type": "markdown",
   "metadata": {},
   "source": [
    "[Return to Essentials](#essentials)"
   ]
  },
  {
   "cell_type": "markdown",
   "metadata": {},
   "source": [
    "<a id='essentialssol'></a>\n",
    "<h3>Essentials Example Solutions</h3>"
   ]
  },
  {
   "cell_type": "code",
   "execution_count": null,
   "metadata": {},
   "outputs": [],
   "source": [
    "# Example 1: find the position of a point particle given some acceleration, initial velocity, and time\n",
    "\n",
    "#\"function\" solution\n",
    "\n",
    "# gives position of a point particle given an acceleration and initial velocity\n",
    "def position(velocity_i, acceleration):\n",
    "    return (str(velocity_i)+\"*t + 1/2*\"+str(acceleration)+\"*t^2\")\n",
    "\n",
    "#testing function\n",
    "print(position(1, 2))\n",
    "\n",
    "#\"input\" solution\n",
    "\n",
    "# gives position of a point particle given an acceleration and initial velocity\n",
    "def position(velocity_i, acceleration, t):\n",
    "    return (velocity_i*t + 1/2*acceleration*t**2)\n",
    "\n",
    "#testing function\n",
    "print(position(1, 2, 1))"
   ]
  },
  {
   "cell_type": "code",
   "execution_count": null,
   "metadata": {},
   "outputs": [],
   "source": [
    "# Example 2: Using k = 9*10^9, q = 1.6*10^-19, calculate the force an electron has on a point charge q_2 at some distance away r\n",
    "#            where r = sqrt(x^2+y^2), x and y being the component parts of r in the x- and y-direction\n",
    "#            For this problem, please return both components of the force\n",
    "\n",
    "#your code below\n",
    "\n",
    "# gives electrostatic force components from electron\n",
    "def electrostatic_force(x, y, q):\n",
    "    numerator = 9*10**9 * 1.6*10**(-19)*q\n",
    "    return ([numerator/x**2, numerator/y**2])\n",
    "\n",
    "#testing function\n",
    "print(electrostatic_force(1*10**(-6), .6*10**(-6), 1*10**(-19)))"
   ]
  },
  {
   "cell_type": "code",
   "execution_count": null,
   "metadata": {},
   "outputs": [],
   "source": [
    "# Example 3: Using G = 6.67*10^-11, m = 9.11*10^-31, calculate the force an electron has on a neutral mass m_2 at some distance\n",
    "#            away r, where r = sqrt(x^2+y^2). Again, give both components of the force\n",
    "\n",
    "#your code below\n",
    "\n",
    "# gives gravitational force components from electron\n",
    "def gravitational_force(x, y, m):\n",
    "    numerator = 6.67*10**(-11) * 9.1*10**(-31)*m\n",
    "    return ([numerator/x**2, numerator/y**2])\n",
    "\n",
    "#testing function\n",
    "print(gravitational_force(1*10**(-3), 2*10**(-3), 1))"
   ]
  },
  {
   "cell_type": "code",
   "execution_count": null,
   "metadata": {},
   "outputs": [],
   "source": [
    "# Example 4: Given we have a system of fermions, calculate the average occupancy number of the fermions at some energy level\n",
    "#            above the chemical potential mu, given T = 273K. (Use Fermi-Dirac distribution formula)\n",
    "\n",
    "#your code below\n",
    "\n",
    "#finds average occupation number of fermions at T=273K, e = energy-mu\n",
    "def fermi_dirac(e):\n",
    "    exponent = e/(1.381*10**(-23)*273) #since the formula inside the return got messy, i moved this to a placeholder variable\n",
    "    return (1/(2.718**(exponent)+1))\n",
    "\n",
    "#testing funtion\n",
    "print(fermi_dirac(10**(-23)))"
   ]
  },
  {
   "cell_type": "code",
   "execution_count": null,
   "metadata": {},
   "outputs": [],
   "source": [
    "# Example 5: Write a function that checks for a user's preference for which force they like better, electromagnetic or\n",
    "# gravitational. Calculate their preferred force given by an electron on some mass m or charge q at a distance r away.\n",
    "\n",
    "# You should take that the preference is some string which is either \"gravity\" or \"electrostatic\"\n",
    "\n",
    "#your code below\n",
    "\n",
    "#checks which force should be calculated, then calculates the force\n",
    "def elec_grav_force(pref, x, y, qm):\n",
    "    if pref == \"gravity\":\n",
    "        return(gravitational_force(x, y, qm))\n",
    "    else:\n",
    "        return(electrostatic_force(x, y, qm))"
   ]
  },
  {
   "cell_type": "code",
   "execution_count": null,
   "metadata": {},
   "outputs": [],
   "source": [
    "# Example 6: Use a loop with time as an incrementor in increments of .1 (up to a maximum of 1) to find the position of a\n",
    "# particle at multiple points in time as described by your previous code for the particle's position.\n",
    "# Use both a for and a while loop, in two seperate but equally valid solutions.\n",
    "# Since the time increments are relatively small, try using a high value for initial velocity/acceleration for best results.\n",
    "\n",
    "# Note: Use the function round(value, 2) if your positions are getting strangely long\n",
    "\n",
    "#your code below\n",
    "\n",
    "#while solution:\n",
    "time = 0\n",
    "while time < 1:\n",
    "    print(round(position(5, 2, time), 2))\n",
    "    time += .1\n",
    "\n",
    "for time in range(11):\n",
    "    print(round(position(5, 2, time*.1), 2))"
   ]
  },
  {
   "cell_type": "code",
   "execution_count": null,
   "metadata": {},
   "outputs": [],
   "source": [
    "# Example 7: Using the particle position function, with a positive initial velocity and negative acceleration,\n",
    "# find an approximate time for when the particle's displacement is negative. No displacements beyond the first negative\n",
    "# displacement are needed.\n",
    "\n",
    "#your code below\n",
    "\n",
    "#finds time when position of a particle is negative (sample initial velocity = 5, acceleration = -1)\n",
    "time = 0\n",
    "while (True):\n",
    "    if (round(position(5, -1, time), 2)) < 0:\n",
    "        break\n",
    "    time += .1\n",
    "print(round(time, 2))"
   ]
  },
  {
   "cell_type": "markdown",
   "metadata": {},
   "source": [
    "[Return to top](#topcell)"
   ]
  },
  {
   "cell_type": "markdown",
   "metadata": {},
   "source": [
    "<a id=\"imports\"></a>\n",
    "<h2>Imports</h2>"
   ]
  },
  {
   "cell_type": "markdown",
   "metadata": {},
   "source": [
    "Imports are extremely powerful tools that we have at our disposal, allowing us access to tools base Python doesn't include, such as randomness, scientific constants, and mathematical functions to name a few. Using an import will give a program access to the functions and variables stored inside a different file, meaning they were written by other people."
   ]
  },
  {
   "cell_type": "markdown",
   "metadata": {},
   "source": [
    " In general, this doesn't consitute for plagarism as most of the main imports (the ones we'll be looking at) are open-source and as long as the source code isn't modified and redistributed without the copyright, then we're good. (If you're curious about specifics, the specific clause is the \"BSD 3-clause,\" though I'm no lawperson and will not pretend to know about it)."
   ]
  },
  {
   "cell_type": "markdown",
   "metadata": {},
   "source": [
    "<h3> Imports Topics </h3>\n",
    "\n",
    "1: [NumPy](#numpy)<br>\n",
    "2: [SciPy](#scipy)<br>\n",
    "3: [Matplotlib](#matplotlib)<br>\n",
    "4: [Random](#random)<br>\n",
    "5: [Math](#math)<br>\n",
    "6: [AstroPy & Units](#astro)<br>\n",
    "7: [Imports Example Solutions](#importssol)"
   ]
  },
  {
   "cell_type": "markdown",
   "metadata": {},
   "source": [
    "To use an import, simply type <code>import *name*</code> where <code>*name*</code> is replaced by the name of what you want to import, like so:"
   ]
  },
  {
   "cell_type": "code",
   "execution_count": null,
   "metadata": {},
   "outputs": [],
   "source": [
    "import numpy"
   ]
  },
  {
   "cell_type": "markdown",
   "metadata": {},
   "source": [
    "In general, imports don't need to be commented, though that rule becomes a bit fuzzy if you're working with less commonly used imports.<br>\n",
    "We can also rename imports to something shorter using <code>import *name* as *shorter_name*</code>, the usefulness of such which we'll show later, as well as only importing one function/variable from the import using <code>from *name* import *function/variable*</code>, which reduces the memory usage of your device. If possible, it's always recommended to <code>import ... from</code>."
   ]
  },
  {
   "cell_type": "code",
   "execution_count": null,
   "metadata": {},
   "outputs": [],
   "source": [
    "import numpy as np\n",
    "from scipy import optimize"
   ]
  },
  {
   "cell_type": "markdown",
   "metadata": {},
   "source": [
    "To then access this import is quite simple, just refer to what it was named as (or its standard imported name if no <code>as</code> was provided, and type <code>.</code> followed by the wanted function or variable. An example will be provided below, giving us an array of length 5 of <code>1.</code> floats.<br>\n",
    "Note that if we use a <code>from *name* import ...</code> statement, it is often not required to use the name of the function with a <code>.</code> before using the function."
   ]
  },
  {
   "cell_type": "code",
   "execution_count": null,
   "metadata": {},
   "outputs": [],
   "source": [
    "ones = np.ones(5)\n",
    "print(ones)\n",
    "\n",
    "#don't test optimize; despite being imported from scipy, it is not a function, but rather a class (to learn about later)\n",
    "\n",
    "#to do below: check type of ones. is this suprising given what was printed?\n"
   ]
  },
  {
   "cell_type": "markdown",
   "metadata": {},
   "source": [
    "Before moving onto the actual functionality of specific imports, one of the most important things to learn about imports is how to read documentation to find the functions provided in the import. I'll provide quick links to the tools we'll be using, if you have the time, try to look through them for functions which may be useful. In the future, you may be required to make your own documentation for any programs you write, so make sure to have a general idea of documentation structure.<br>\n",
    "NumPy/SciPy Documentation: https://docs.scipy.org/doc/ <br>\n",
    "Matplotlib Documentation: https://matplotlib.org/stable/users/index.html"
   ]
  },
  {
   "cell_type": "markdown",
   "metadata": {},
   "source": [
    "[Return to Imports](#imports)"
   ]
  },
  {
   "cell_type": "markdown",
   "metadata": {},
   "source": [
    "<a id=\"numpy\"></a>\n",
    "<h3>NumPy</h3>\n",
    "\n",
    "https://docs.scipy.org/doc/\n"
   ]
  },
  {
   "cell_type": "markdown",
   "metadata": {},
   "source": [
    "Since we've now imported numpy and briefly used it, let's take a look at what we can do with it. NumPy is useful for almost every scientific task, specifically for it's functionality to give us arrays.<br>\n",
    "Also to note, numpy is almost always imported under the name <code>np</code> as its a shorter name for us to write."
   ]
  },
  {
   "cell_type": "code",
   "execution_count": null,
   "metadata": {},
   "outputs": [],
   "source": [
    "#remember to import at the top of any program you write\n",
    "import numpy as np\n",
    "\n",
    "np.arange(2, 3, 0.1)"
   ]
  },
  {
   "cell_type": "markdown",
   "metadata": {},
   "source": [
    "We can see from the above code that we get an extremely easy way to get a \"list\" of numbers between two points at a specific interval, something that would've taken many more lines to do with something like a <code>for</code> loop. The <code>for</code> loop comparison aside, we have much more functionality with numpy arrays than we would have in a typical Python list. See if you can try to decypher the following code simply by the numpy commands before actually running the code below."
   ]
  },
  {
   "cell_type": "code",
   "execution_count": null,
   "metadata": {},
   "outputs": [],
   "source": [
    "topleft = np.ones((3, 3))\n",
    "topright = np.eye(3, 3) #this might be tricky to get based on looks alone (no pun intended), try to sound it out\n",
    "bottomleft = np.zeros((3, 3))\n",
    "bottomright = np.diag((1, 4, 7))\n",
    "full = np.block([[topleft, topright], [bottomleft, bottomright]])\n",
    "full"
   ]
  },
  {
   "cell_type": "markdown",
   "metadata": {},
   "source": [
    "Something interesting here happens when we include <code>print()</code> around the last <code>full</code> statement, try adding it and see what happens. What changed in the output?<br><br>\n",
    "If everything went correctly, the <code>array()</code> will have been dropped from the output, the reasoning behind being only important to those who want to dive deeper in classes and dunder methods (something we'll go over later). For now, just think of Python only being able to <code>print()</code> things that it knows, so no data types like arrays from imports are outputted.<br><br>\n",
    "We can also take certain sections of arrays and manipulate them in the same way we would manipulate lists:"
   ]
  },
  {
   "cell_type": "code",
   "execution_count": null,
   "metadata": {},
   "outputs": [],
   "source": [
    "full_subsection = full[2:6, 2:6].copy()\n",
    "full_subsection += 5\n",
    "print(full_subsection)"
   ]
  },
  {
   "cell_type": "markdown",
   "metadata": {},
   "source": [
    "Note that it is VERY important to include the <code>.copy()</code> call after the section of the list you want to modify, or else modifying the subsection will modify the subsection EVERYWHERE, including the original array.<br><br>\n",
    "There are a few other interesting things we can do with arrays, like rolling the array, arrays of random numbers, and other array manipulation/special array creation, but if this was the entire functionality of arrays then they wouldn't be as important as they currently are to Python. The real reason why almost all physics students will encounter numpy is because of their ease of use when reading in data from external sources, the most common of which being a CSV (CSV files are essentially basic Excel files with less functionality but greater compatibility with non-Excel services)."
   ]
  },
  {
   "cell_type": "markdown",
   "metadata": {},
   "source": []
  },
  {
   "cell_type": "markdown",
   "metadata": {},
   "source": [
    "NumPy also has the <code>gradient</code> function, which let's us very technically take derivatives; though it should be noted, these won't be analytic derivatives, but instead just the values of a derivative at specific dx values, so don't think Python alone will be able to replace the needs of a derivative calculator."
   ]
  },
  {
   "cell_type": "code",
   "execution_count": null,
   "metadata": {},
   "outputs": [],
   "source": [
    "import numpy as np\n",
    "x = np.linspace(0,10,1000)\n",
    "dx = x[1]-x[0]\n",
    "y = x**3 - 3*x**2 + 5\n",
    "yprime = np.gradient(y, dx)"
   ]
  },
  {
   "cell_type": "markdown",
   "metadata": {},
   "source": [
    "The actual <code>yprime</code> variable we get is just a list of numbers just like we let <code>x</code> be, not a mathematical equation, so to get any real use out of the list, we would probably need to graph it, something we will find out how to do later on with a different import. Other than that, it's possible to find the derivative at one point provided you find the location of that value in the <code>x</code> list."
   ]
  },
  {
   "cell_type": "markdown",
   "metadata": {},
   "source": [
    "[Return to Imports](#imports)"
   ]
  },
  {
   "cell_type": "markdown",
   "metadata": {},
   "source": [
    "<a id=\"scipy\"></a>\n",
    "<h3>SciPy</h3>\n",
    "    \n",
    "https://docs.scipy.org/doc/"
   ]
  },
  {
   "cell_type": "markdown",
   "metadata": {},
   "source": [
    "SciPy is, as it's name might suggest, important if we want to use scientific tools like physical constants, integration, and Fourier transforms.<br>\n",
    "Also before we start, scipy has no abbreviation for importing, so please don't write <code>import scipy as sp/sc</code> as other people working on the project might get mixed up when trying to use scipy."
   ]
  },
  {
   "cell_type": "code",
   "execution_count": null,
   "metadata": {},
   "outputs": [],
   "source": []
  },
  {
   "cell_type": "markdown",
   "metadata": {},
   "source": [
    "To start with the most simple part of scipy; I'll leave the link to the constants below, and type out some of the most useful ones, but they should be relatively easy to guess nonetheless.\n",
    "https://docs.scipy.org/doc/scipy/reference/constants.html"
   ]
  },
  {
   "cell_type": "code",
   "execution_count": null,
   "metadata": {},
   "outputs": [],
   "source": [
    "import scipy\n"
   ]
  },
  {
   "cell_type": "markdown",
   "metadata": {},
   "source": [
    "[Return to Imports](#imports)"
   ]
  },
  {
   "cell_type": "markdown",
   "metadata": {},
   "source": [
    "<a id=\"matplotlib\"></a>\n",
    "<h3>MatPlotLib</h3>\n",
    "\n",
    "https://matplotlib.org/stable/users/index.html"
   ]
  },
  {
   "cell_type": "markdown",
   "metadata": {},
   "source": [
    "MatPlotLib is probably the second most used import for physics-based applications besides numpy (placed below scipy, however, due to scipy's similarities with numpy)."
   ]
  },
  {
   "cell_type": "markdown",
   "metadata": {},
   "source": [
    "MatPlotLib is giant, and so if you're reading this before I've gotten to everything else first, you might need to come back in a few days to check if I have updated this section. Sorry for the wait, I've been busy almost all day every day."
   ]
  },
  {
   "cell_type": "code",
   "execution_count": null,
   "metadata": {},
   "outputs": [],
   "source": []
  },
  {
   "cell_type": "markdown",
   "metadata": {},
   "source": [
    "[Return to Imports](#imports)"
   ]
  },
  {
   "cell_type": "markdown",
   "metadata": {},
   "source": [
    "<a id=\"random\"></a>\n",
    "<h3>Random</h3>\n",
    "\n",
    "https://numpy.org/doc/stable/reference/random/index.html"
   ]
  },
  {
   "cell_type": "markdown",
   "metadata": {},
   "source": [
    "At first, random numbers might not seem all that important to physics applications. Where this logic falls apart is in the use of Monte-Carlo methods to estimate the probability of an event happening given some state (position, time, momentum, force, wave-state, etc.)."
   ]
  },
  {
   "cell_type": "code",
   "execution_count": null,
   "metadata": {},
   "outputs": [],
   "source": []
  },
  {
   "cell_type": "markdown",
   "metadata": {},
   "source": [
    "[Return to Imports](#imports)"
   ]
  },
  {
   "cell_type": "markdown",
   "metadata": {},
   "source": [
    "<a id=\"math\"></a>\n",
    "<h3>Math</h3>\n",
    "\n",
    "https://docs.python.org/3/library/math.html"
   ]
  },
  {
   "cell_type": "markdown",
   "metadata": {},
   "source": [
    "The math import was actually programmed by the Python developers, though it's use was limited enough that it isn't automatically imported."
   ]
  },
  {
   "cell_type": "code",
   "execution_count": null,
   "metadata": {},
   "outputs": [],
   "source": []
  },
  {
   "cell_type": "markdown",
   "metadata": {},
   "source": [
    "[Return to Imports](#imports)"
   ]
  },
  {
   "cell_type": "markdown",
   "metadata": {},
   "source": [
    "<a id=\"astro\"></a>\n",
    "<h3>AstroPy & Units</h3>\n",
    "\n",
    "https://docs.astropy.org/en/stable/index.html"
   ]
  },
  {
   "cell_type": "markdown",
   "metadata": {},
   "source": [
    "AstroPy, as the name might give away, is more focused on astronomy use cases rather than purely physics ones; however, given the close relation between the two subjects and some of the functionality in astropy, I thought it was worth reviewing."
   ]
  },
  {
   "cell_type": "code",
   "execution_count": null,
   "metadata": {},
   "outputs": [],
   "source": []
  },
  {
   "cell_type": "markdown",
   "metadata": {},
   "source": [
    "[Return to Imports](#imports)"
   ]
  },
  {
   "cell_type": "markdown",
   "metadata": {},
   "source": [
    "<a id=\"importssol\"></a>\n",
    "<h3>Imports Example Solutions</h3>"
   ]
  },
  {
   "cell_type": "markdown",
   "metadata": {},
   "source": [
    "No examples for now! Come back when the other sections of the notebook are complete!"
   ]
  },
  {
   "cell_type": "code",
   "execution_count": null,
   "metadata": {},
   "outputs": [],
   "source": []
  },
  {
   "cell_type": "markdown",
   "metadata": {},
   "source": [
    "[Return to top](#topcell)"
   ]
  },
  {
   "cell_type": "markdown",
   "metadata": {},
   "source": [
    "<a id=\"classes\"></a>\n",
    "<h2>Classes and Objects</h2>"
   ]
  },
  {
   "cell_type": "markdown",
   "metadata": {},
   "source": [
    "Classes and Objects are, perhaps, the most fundamental ideas and structures used in programming, though their implementation can take quite a bit more work than other fundamental coding tools such as variables and functions. Now that imports have been introduced and looked at, I believe it's an appropriate time to finally introduce classes and objects.<br><br>\n",
    "As an overview, objects are made of classes, in the exact same way that a phone may be made out of a phone blueprint: each individual phone (object) may have different apps, texts, and other media inside the phone, but the specification for what a phone of this model consists of will be contained inside a blueprint (class). Since we can't mass produce something without a blueprint, let's first look at classes, then move to objects.<br><br>\n",
    "As a quick reminder, <b>NP</b> is the tag for sections that aren't heavily used in physics (that I know of)."
   ]
  },
  {
   "cell_type": "markdown",
   "metadata": {},
   "source": [
    "<h3> Classes and Objects Topics </h3>\n",
    "\n",
    "1: [Classes](#class)<br>\n",
    "&ensp; 1.1 [Class Methods](#classmethods)<br>\n",
    "&ensp; 1.2 <b>NP</b> [Attributes Setters and Getters](#attributes)<br>\n",
    "&ensp; 1.3 <b>NP</b> [Dunder Methods](#dunder)<br>\n",
    "2: [Inheritance and Polymorphism](#inheritance)<br>\n",
    "3: [Objects](#objects)<br>\n",
    "4: <b>NP</b> [Abstract Base and Data Classes](#data)<br>\n",
    "5: [Classes and Objects Example Solutions](#classessol)"
   ]
  },
  {
   "cell_type": "markdown",
   "metadata": {},
   "source": [
    "<a id=\"class\"></a>\n",
    "<h3>Classes</h3>"
   ]
  },
  {
   "cell_type": "markdown",
   "metadata": {},
   "source": [
    "Classes are essentially generalizations of functions; knowing how important functions were, it should be somewhat self-evident that classes are also highly used. Classes allow programmers to group specific functionality of an object, which will be gone over later, into one chunk of code (typically in a program alone) that allows us to access its contents of variables and functions, along with their interaction. If this sounds somewhat familiar, that's good: classes were actually what we were importing in the previous section! With this, let's jump right into setting up a class. I'll set up a class that doesn't do much, but should help to get the basic syntax across."
   ]
  },
  {
   "cell_type": "code",
   "execution_count": null,
   "metadata": {},
   "outputs": [],
   "source": [
    "class Basic_Class:\n",
    "    \"\"\"Just a simple basic class\"\"\"\n",
    "    def __init__(self):\n",
    "        self._class_variable = True\n",
    "    \n",
    "    @property\n",
    "    def class_variable(self) -> bool:\n",
    "        return self._class_variable\n",
    "    \n",
    "    @class_variable.setter\n",
    "    def set_class_variable(self, new_variable: bool):\n",
    "        self._class_variable = new_variable\n",
    "    \n",
    "    def random_method(self):\n",
    "        return (not self.class_variable)"
   ]
  },
  {
   "cell_type": "markdown",
   "metadata": {},
   "source": [
    "The first thing to note is the triple quotes <code>\"\"\" \"\"\"</code> on either side of a string under the class declaration, this acts as the comment for classes, and needs to go under the class declaration. The actual implementation of this isn't important to understand quite yet, it was simply to introduce the structure of a class. We can see from the cell that a <code>class</code> is defined by <code>class Class_Name</code>, which is <b>always</b> specified without the parantheses <code>()</code> that we use in functions, as well as having the name of the class having capatalized first letters (something else that differentiates classes and functions).<br><br>\n",
    "The other things to initially note before getting into the bulk of classes are the <code>\\__init__()</code> method and the <code>self</code> tag. To start with the <code>\\__init__()</code> method, all classes need to have this line in order to properly set up the class. Like the name of the method suggests, the contents of this function will setup the rest of what will be used throughout the class. We can pass inputs into the <code>\\__init__()</code> method in the typical function way by having <code>\\__init__(self, variable_1, variable_2, ...)</code>, but we will also then <b>need</b> to put them into the class itself:"
   ]
  },
  {
   "cell_type": "code",
   "execution_count": null,
   "metadata": {},
   "outputs": [],
   "source": [
    "class Basic_Class_2:\n",
    "    \n",
    "    def __init__(self, input_variable, test_variable):\n",
    "        self.my_variable = input_variable\n",
    "        self.test_variable = test_variable"
   ]
  },
  {
   "cell_type": "markdown",
   "metadata": {},
   "source": [
    "The above code should look somewhat silly, since why would we need to have lines putting the value of a variable into the same variable with the same name but <code>self.</code> attached? We'll get into what the <code>self</code> tag does shortly, but in this context, what the <code>\\__init__(...)</code> method does is it asks us to put in some paramaters when creating an object out of the class, which we'll get into in a few sections, and allows us to use these inputs throughout the entire class, which wouldn't be possible otherwise (since Classes are generally meant to be in their own programs without knowing another program's variables).<br><br>\n",
    "As for the <code>self</code> tag, this is what tells our class that a variable belongs to the class. It is extremely important to remember that inside the functions we define, we write <code>self</code>, and for the actual items we want to use, we write <code>self.</code>, as writing <code>self variable_name</code> or <code>\\__init__(self.)</code> will give an error, but you should be fairly used to this convention with time. Looking in terms of the code block above, the <code>self.my_variable = input_variable</code> is telling the class that it has access to a variable <code>self.my_variable</code> and that this variable is set equal to our input of <code>input_variable</code>. The following line of code simply shows that the variable name inside the code with the <code>self.</code> tag can be exactly the same as the variable we use as an input, something that's actually standard practice. (Technically Python will put a <code>self.</code> tag before any class variables even if we as the coders don't, so the <code>self.</code> are not absolutely required, but doing this is <b>highly</b> discouraged)."
   ]
  },
  {
   "cell_type": "markdown",
   "metadata": {},
   "source": [
    "[Return to Classes and Objects](#classes)"
   ]
  },
  {
   "cell_type": "markdown",
   "metadata": {},
   "source": [
    "<a id=\"classmethods\"></a>\n",
    "<h4>Class Methods</h4>"
   ]
  },
  {
   "cell_type": "markdown",
   "metadata": {},
   "source": [
    "Class methods are the class version of functions. That's about all the text that you need to read in order to understand them, but let's quickly look at how to implement them."
   ]
  },
  {
   "cell_type": "code",
   "execution_count": null,
   "metadata": {},
   "outputs": [],
   "source": [
    "class Basic_Class_3:\n",
    "    \n",
    "    def __init__(self, input_int_1, input_int_2):\n",
    "        self.input_int_1 = input_int_1\n",
    "        self.input_int_2 = input_int_2\n",
    "    \n",
    "    def multiply_ints(self):\n",
    "        return self.input_int_1*self.input_int_2"
   ]
  },
  {
   "cell_type": "markdown",
   "metadata": {},
   "source": [
    "Where we can see here that they're defined in the exact same way as they would be outside of a class, except for the inclusion of the class-specific <code>self</code> tag. As such, everything that can be said about functions can also be said about class methods, which makes everyones job easier!"
   ]
  },
  {
   "cell_type": "markdown",
   "metadata": {},
   "source": [
    "[Return to Classes and Objects](#classes)"
   ]
  },
  {
   "cell_type": "markdown",
   "metadata": {},
   "source": [
    "<a id=\"attributes\"></a>\n",
    "<h4>Attributes Setters and Getters (NP)</h4>"
   ]
  },
  {
   "cell_type": "markdown",
   "metadata": {},
   "source": [
    "Setter and getter methods allow for the manipulation/reading of class attributes. This may sound strange, since we can just set any attributes outside of the class anyway. Setters and getters are only for when we want a specific way to modify attributes; for instance, if we had made a bank account attribute, we would want users to get their balance but not set it, and if we had a secret list that only one person could see, we would want the majority of users only to set something into the list but not get the list. I couldn't think of a physics-based use of these, so that's the best you'll get as for motivation for now.<br><br>\n",
    "As for class attributes, they're always specified with <code>_</code> underscores before their name (ie <code>_mass</code>, and the distinction between attributes and typical variables used in classes comes down to use cases. With the <code>_</code>, the variable is specified for internal use, hence not being able to change it without a setter method. There are also some attributes with two <code>__</code> underscores before their name, and honestly I have no clue what they're used for if they're not dunder methods (which we'll get to in the next section). As a little note, I believe attributes as I have defined them can be changed/gotten without setter/getter methods, that might come down to Python being less object-oriented than other languages or my lack of deep coding knowledge, but either way, it shouldn't affect your code.<br><br>\n",
    "To make attributes, like stated earlier, just put a <code>_</code> underscore before the actual name you mean to use. Then, to make a getter, we need to write a method with a line above it reading <code>@property</code>, and the code inside the getter method simply returning <code>self._variable</code>. As for setters, we again need a line above the method, this time reading <code>@class_variable.setter</code>, and the code inside the method (which takes a new variable as an input) being the standard variable setting of <code>self._variable = variable</code>. (Technically, the <code>@</code> lines above the definitions aren't needed, but that's something for the computer scientists to look over). To see this in use, let's look at the following example:"
   ]
  },
  {
   "cell_type": "code",
   "execution_count": null,
   "metadata": {},
   "outputs": [],
   "source": [
    "class Basic_Class_Again:\n",
    "    \n",
    "    def __init__(self):\n",
    "        self._class_variable = 10\n",
    "    \n",
    "    @property\n",
    "    def class_variable(self) -> int:\n",
    "        return self._class_variable\n",
    "    \n",
    "    @class_variable.setter\n",
    "    def set_class_variable(self, new_variable: int):\n",
    "        self._class_variable = new_variable"
   ]
  },
  {
   "cell_type": "markdown",
   "metadata": {},
   "source": [
    "As attributes, setters, and getters aren't really used for physics, I'll stop the discussion of them here."
   ]
  },
  {
   "cell_type": "markdown",
   "metadata": {},
   "source": [
    "[Return to Classes and Objects](#classes)"
   ]
  },
  {
   "cell_type": "markdown",
   "metadata": {},
   "source": [
    "<a id=\"dunder\"></a>\n",
    "<h4>Dunder Methods (NP)</h4>"
   ]
  },
  {
   "cell_type": "markdown",
   "metadata": {},
   "source": [
    "Double underscore methods, known as dunder methods are inherent properties of the class you make, and broadly specify how Python interacts with classes and their objects. As dunder methods are not much of our concerns, I won't go too much into them, but the one dunder method that I've said before must be included in every class is the <code>\\__init__(self)</code> method. If you wanted to have a specific output when printing an object, that would also be a dunder method (<code>\\_\\_str()\\_\\_</code> in this case). They would also be used if you wanted to add (<code>\\_\\_add()\\_\\_</code>), subtract (<code>\\_\\_sub()\\_\\_</code>), and compare (<code>\\_\\_eq()\\_\\_</code>) two objects, to name a few.<br><br>\n",
    "As a quick example, say you had a class of non-relativistic particles and wanted to have the addition operator give a new particle with their combinded mass and velocity, which is possible with the following code:"
   ]
  },
  {
   "cell_type": "code",
   "execution_count": null,
   "metadata": {},
   "outputs": [],
   "source": [
    "class Non_Relativistic_Particle:\n",
    "    \n",
    "    # mass in kg, velocity in m/s\n",
    "    def __init__(self, mass = 1, velocity = 1):\n",
    "        self._mass = mass\n",
    "        self._velocity = velocity\n",
    "    \n",
    "    @property\n",
    "    def get_mass(self):\n",
    "        return self._mass\n",
    "    \n",
    "    @property\n",
    "    def get_velocity(self):\n",
    "        return self._velocity\n",
    "        \n",
    "    #dunder method we want\n",
    "    def __add__(self, particle_2):\n",
    "        return Non_Relativistic_Particle(self._mass+particle_2.get_mass, self._velocity+particle_2.get_velocity)\n",
    "\n",
    "    \n",
    "#now to put them to use\n",
    "particle_1 = Non_Relativistic_Particle()\n",
    "particle_2 = Non_Relativistic_Particle(2, 5)\n",
    "particle_12 = particle_1+particle_2\n",
    "print(particle_12._mass, particle_12._velocity)"
   ]
  },
  {
   "cell_type": "markdown",
   "metadata": {},
   "source": [
    "Try not to worry about the lines under the dunder method, we'll go over those shortly."
   ]
  },
  {
   "cell_type": "markdown",
   "metadata": {},
   "source": [
    "[Return to Classes and Objects](#classes)"
   ]
  },
  {
   "cell_type": "markdown",
   "metadata": {},
   "source": [
    "<a id=\"inheritance\"></a>\n",
    "<h3>Inheritance and Polymorphism</h3>"
   ]
  },
  {
   "cell_type": "markdown",
   "metadata": {},
   "source": [
    "Inheritance is how we can write one class and have subclasses which take its attributes and methods. Essentially, if you were wanting to make a general <code>Particle</code> class and have other classes for types of elementary particles, you would want to use inheritance and have <code>Particle</code> have some general mass, spin, charge attributes which can be tuned by the specific subclasses of the general <code>Particle</code> class. In addition, these subclasses can have attributes and methods of their own (ie if only <code>Charm</code> needed the charm attribute, that would not go under <code>Particle</code>)."
   ]
  },
  {
   "cell_type": "code",
   "execution_count": null,
   "metadata": {},
   "outputs": [],
   "source": [
    "class Particle:\n",
    "    \n",
    "    def __init__(self, mass, energy):\n",
    "        self._mass = mass\n",
    "        self._energy = energy\n",
    "        \n",
    "    def random_function(self):\n",
    "        return energy^2\n",
    "        \n",
    "class Charm(Particle):\n",
    "    \n",
    "    def __init__(self, mass, energy, charm):\n",
    "        super().__init__(mass, energy)\n",
    "        self._charm = charm\n",
    "        \n",
    "charm_1 = Charm(1, 1, -1)\n",
    "print(charm_1._mass, charm_1._energy, charm_1._charm)"
   ]
  },
  {
   "cell_type": "markdown",
   "metadata": {},
   "source": [
    "Polymorphism is something I will get back to eventually."
   ]
  },
  {
   "cell_type": "markdown",
   "metadata": {},
   "source": [
    "[Return to Classes and Objects](#classes)"
   ]
  },
  {
   "cell_type": "markdown",
   "metadata": {},
   "source": [
    "<a id=\"objects\"></a>\n",
    "<h3>Objects</h3>"
   ]
  },
  {
   "cell_type": "markdown",
   "metadata": {},
   "source": [
    "Objects are where the usefulness of classes really start to factor in; objects are the basis of a way of programming (object-oriented programming) and, in fact, almost everything used thus far has been an object: the things we got from imports (besides attributes), basic Python units like strings/integers, and the functions Python gives.<br><br>\n",
    "Objects are also really what differentiates classes from a simple program with functions; say we had some system to calculate an equation of motion, depending only on the potential <code>V(r)</code>, and we wanted to use some various functions for multiple potentials, we can do this through objects.<br><br>\n",
    "To set up our own objects, we first need to <code>import</code> the class if it's in a seperate file, then we can use the line <code>variable_name = Class_name(input_1, input_2, ...)</code> like the following:"
   ]
  },
  {
   "cell_type": "code",
   "execution_count": null,
   "metadata": {},
   "outputs": [],
   "source": [
    "#random class, not to be interpreted\n",
    "class Basic_Class:\n",
    "    \n",
    "    def __init__(self, input_int_1, input_int_2):\n",
    "        self.input_int_1 = input_int_1\n",
    "        self.input_int_2 = input_int_2\n",
    "    \n",
    "    def multiply_ints(self):\n",
    "        return self.input_int_1*self.input_int_2\n",
    "    \n",
    "    @property\n",
    "    def class_variable(self) -> bool:\n",
    "        return self._class_variable\n",
    "    \n",
    "    @class_variable.setter\n",
    "    def set_class_variable(self, new_variable: bool):\n",
    "        self._class_variable = new_variable\n",
    "    \n",
    "    def random_method(self):\n",
    "        return (not self.class_variable)\n",
    "    \n",
    "#focus on this part\n",
    "#if needed, import:\n",
    "#import Basic_Class\n",
    "\n",
    "basic_object_1 = Basic_Class(1, 2)\n",
    "basic_object_2 = Basic_Class(2, 5)\n",
    "print(basic_object_1.multiply_ints())\n",
    "print(basic_object_2.multiply_ints())"
   ]
  },
  {
   "cell_type": "markdown",
   "metadata": {},
   "source": [
    "As noted, the actual class isn't really important, just note that we can have multiple objects from the same class along with the general notation of how to make an object."
   ]
  },
  {
   "cell_type": "markdown",
   "metadata": {},
   "source": [
    "[Return to Classes and Objects](#classes)"
   ]
  },
  {
   "cell_type": "markdown",
   "metadata": {},
   "source": [
    "<a id=\"data\"></a>\n",
    "<h3>Abstract Base and Data Classes (NP)</h3>"
   ]
  },
  {
   "cell_type": "markdown",
   "metadata": {},
   "source": [
    "I don't imagine either of these specific type of classes would be too useful for physics-related tasks in Python, so feel free to skip this section if desired. This well primarily, then, serve as a reference in case you need to use them. For both data classes and abstract base classes, we need to import them first.<br><br>\n",
    "To start with data classes, we need to import from <code>dataclasses</code>, and we specify a data class with the <code>@dataclass</code> marker above the class (like we did for setter/getter methods inside a class). I don't really remember what dataclasses give the user the ability to do (might have to ask the internet/a computer scientist for that), so I won't spend much more time than providing a reference on how to implement them."
   ]
  },
  {
   "cell_type": "code",
   "execution_count": null,
   "metadata": {},
   "outputs": [],
   "source": [
    "from dataclasses import dataclass\n",
    "\n",
    "@dataclass\n",
    "class Inventory:\n",
    "    name: str\n",
    "    mass: float\n",
    "    number_density: int = 0"
   ]
  },
  {
   "cell_type": "markdown",
   "metadata": {},
   "source": [
    "Where (I don't believe) we need a dunder init method anymore to quantify our attributes as those are automatically set up by the import.<br><br>\n",
    "In a similar vein, we get abstract base classes from the <code>abc</code> import (an unfortunate name for those in atomic/bio/condensed matter), and specify them in a similar way,"
   ]
  },
  {
   "cell_type": "code",
   "execution_count": null,
   "metadata": {
    "scrolled": true
   },
   "outputs": [],
   "source": [
    "from abc import ABC, abstractmethod\n",
    "\n",
    "class AbstractClass(ABC):\n",
    "    \n",
    "    @abstractmethod\n",
    "    def __iter__(self):\n",
    "        yield None"
   ]
  },
  {
   "cell_type": "markdown",
   "metadata": {},
   "source": [
    "I wish I could say more on these two class generalizations, but they aren't very important to the physics programs I've seen, and so I never had quite the motivation to learn them fully. For those who do want to learn more, the documentation for ABC is here: https://docs.python.org/3/library/abc.html."
   ]
  },
  {
   "cell_type": "markdown",
   "metadata": {},
   "source": [
    "[Return to Classes and Objects](#classes)"
   ]
  },
  {
   "cell_type": "markdown",
   "metadata": {},
   "source": [
    "<a id=\"classessol\"></a>\n",
    "<h3>Classes and Object Example Solutions</h3>"
   ]
  },
  {
   "cell_type": "markdown",
   "metadata": {},
   "source": [
    "No examples for now! Come back when the other sections of the notebook are complete!"
   ]
  },
  {
   "cell_type": "code",
   "execution_count": null,
   "metadata": {},
   "outputs": [],
   "source": []
  },
  {
   "cell_type": "markdown",
   "metadata": {},
   "source": [
    "[Return to top](#topcell)"
   ]
  },
  {
   "cell_type": "markdown",
   "metadata": {},
   "source": [
    "<a id=\"specialized\"></a>\n",
    "<h2>Specialized Python Fundamentals</h2>"
   ]
  },
  {
   "cell_type": "markdown",
   "metadata": {},
   "source": [
    "The name of this chapter is somewhat extraneous; this chapter mostly is a more detailed look at topics covered in Essentials. This chapter aims to follow up Essentials with python functionality and coding practice that all good programmers should know, although aren't used very frequently in physics as compared to traditional computer science."
   ]
  },
  {
   "cell_type": "markdown",
   "metadata": {},
   "source": [
    "<h3> Specialized Python Fundamentals Topics </h3>\n",
    "\n",
    "1: <b>NP</b> [User Input](#user)<br>\n",
    "2: [Naming Convention](#varname)<br>\n",
    "3: <b>NP</b> [Match Case](#match)<br>\n",
    "4: [Proper Function Writing](#fnwriting)<br>\n",
    "&ensp;4.1: [Default Values](#default)<br>\n",
    "5: [Proper Conditional Writing](#condwriting)<br>\n",
    "6: [Enumerate](#ennumerate)<br>\n",
    "7: [Appending and List Comprehensions](#append)<br>\n",
    "8: [Files](#files)<br>\n",
    "9: <b>NP</b> [Try Except Finally and Raise](#try)<br>\n",
    "10: [Specialized Python Fundamentals Example Solutions](#specializedsol)"
   ]
  },
  {
   "cell_type": "markdown",
   "metadata": {},
   "source": [
    "<a id=\"user\"></a>\n",
    "<h3>User Input (NP)</h3>"
   ]
  },
  {
   "cell_type": "markdown",
   "metadata": {},
   "source": [
    "The ability of users to in some way manipulate the program without knowing the inner workings of code sounds like it would be extremely important, though standard physics computations don't require nor need the interactibility that comes with user input. It is, however, still important to know about in the case that user input is required, and is simple enough to implement that learning the implementation will be quick.\n",
    "\n",
    "To get a user's input, simply use the command <code>input()</code>. We can write store these inputs into variables as if they were any normal variable value, using <code>variable = input()</code>. If we want the user to input a specific type or a choice of values, we can use a do while loop, and if we want to include a message to accompany the <code>input</code>, we can use the statement <code>input(\"statement here \")</code> (make sure to include the space for readability) and it will still ask the user for an input. We can look at an example of an <code>code</code> inpput statement below."
   ]
  },
  {
   "cell_type": "code",
   "execution_count": null,
   "metadata": {
    "scrolled": true
   },
   "outputs": [],
   "source": [
    "#note to include the int() if you are using a statement inside the input(), otherwise you will get a string\n",
    "x = int(input(\"input a number: \"))\n",
    "if x<0:\n",
    "    print(str(x) + \" this is a negative value\")\n",
    "elif x>0:\n",
    "    print(str(x) + \" this is a positive value\")\n",
    "else:\n",
    "    print(str(x) + \" wow, zero!\")"
   ]
  },
  {
   "cell_type": "markdown",
   "metadata": {},
   "source": [
    "Try out inputs below, and see if you can get the user to select their favorite from a series of particles (that you let them select from) and return to the user the rest-mass of that particle."
   ]
  },
  {
   "cell_type": "code",
   "execution_count": null,
   "metadata": {},
   "outputs": [],
   "source": [
    "# Example 1: "
   ]
  },
  {
   "cell_type": "markdown",
   "metadata": {},
   "source": [
    "[Return to Specialized Python Fundamentals](#specialized)"
   ]
  },
  {
   "cell_type": "markdown",
   "metadata": {},
   "source": [
    "<a id=\"varname\"></a>\n",
    "<h3>Naming Convention</h3>"
   ]
  },
  {
   "cell_type": "markdown",
   "metadata": {},
   "source": [
    "As stated in the Essentials section, variable names should be somewhat obvious as to what they measure. For example, we would want a variable name for <code>distance</code> or potentially <code>dist</code> for a variable that stores distance(s), but wouldn't <i>generally</i> want a variable name like <code>d</code> for the same variable, even if it performs the same function in the code. The main exception to this is in <code>for</code> loops, where <code>i</code>, <code>j</code>, <code>k</code>, and <code>n</code> are common enough variable names for the iterator that in short- to medium-sized <code>for</code> loops the specificity doesn't apply.<br>\n",
    "\n",
    "Aside from these situations, there are a few more that we should look at which aren't immediately obvious. For instance, function and variable names with multiple contained words, as per the Python guidelines should have the contained words seperated by underscores, as seen below. I will write out variables each named some variation of <code>correct_name</code> and will set them to <code>True</code> if the name is used/recommended."
   ]
  },
  {
   "cell_type": "code",
   "execution_count": null,
   "metadata": {},
   "outputs": [],
   "source": [
    "#standard variable name\n",
    "correct_name = True\n",
    "\n",
    "#camel case, used for variables in OTHER languages, try to avoid in Python\n",
    "correctName = False\n",
    "\n",
    "#used for constants, will explain in following cell\n",
    "CORRECT_NAME = True\n",
    "\n",
    "#don't use this naming convention, I don't believe this is used in any language\n",
    "correctname = False\n",
    "correct_Name = False\n",
    "correct-name = False\n",
    "correct-Name = False\n",
    "\n",
    "#as per the above cell, don't use strange/abbreviated variable names unless they're common and/or obvious\n",
    "corrname = False\n",
    "corr_name = False\n",
    "c = False"
   ]
  },
  {
   "cell_type": "markdown",
   "metadata": {},
   "source": [
    "As for the one specific case which isn't the standard variable naming convention, the variable in all caps, that variable naming convention should only be used for when the value of the variable will <b>never</b> be changed anywhere else in the code, such as fundamental constants. The value of this variable (called a final variable, but that's only necessary knowledge in other language) can be modified in the line specifying it's value, but no where else!"
   ]
  },
  {
   "cell_type": "markdown",
   "metadata": {},
   "source": [
    "Also a really quick thing I want to point out, occasionally you may want to use parantheses in a string, if that's the case you will need to use the <code>\\</code> symbol before each parantheses."
   ]
  },
  {
   "cell_type": "markdown",
   "metadata": {},
   "source": [
    "[Return to Specialized Python Fundamentals](#specialized)"
   ]
  },
  {
   "cell_type": "markdown",
   "metadata": {},
   "source": [
    "<a id=\"match\"></a>\n",
    "<h3>Match Case (NP)</h3>"
   ]
  },
  {
   "cell_type": "markdown",
   "metadata": {},
   "source": [
    "Match Case statements were only recently added to Python ater users wanted the functionality that existed with other languages. The statements are used specifically when we want to improve the performance of a specific setup of conditionals. This specific case is for when we want to <i>match</i> a variable to one of a specific set of values, and does not (as far as I am aware of) allow the variable to take any value outside of the specific set, which should be contrasted with <code>in</code> statements where <code>else</code> statements can still catch unspecified values. Enough with talking, let's see how match case works.\n",
    "Note: this was only recently added to Python, so make sure the version is up-to-date, otherwise there will be a syntax error (as I got when I realized my Anaconda's Python hadn't been updated)."
   ]
  },
  {
   "cell_type": "code",
   "execution_count": null,
   "metadata": {},
   "outputs": [],
   "source": [
    "#returns \n",
    "force = (input(\"Enter a force: \")).lower()\n",
    "match force:\n",
    "    case \"gravitational\":\n",
    "        print(\"GMm/R^2\")\n",
    "    case \"electromagnetism\":\n",
    "        print(\"1/4πƐ0*Qq/R^2\")\n",
    "    case \"weak\":\n",
    "        print(\"W Z bosons\")\n",
    "    case \"strong\":\n",
    "        print(\"Gluon\")"
   ]
  },
  {
   "cell_type": "markdown",
   "metadata": {},
   "source": [
    "[Return to Specialized Python Fundamentals](#specialized)"
   ]
  },
  {
   "cell_type": "markdown",
   "metadata": {},
   "source": [
    "<a id=\"fnwriting\"></a>\n",
    "<h3>Proper Function Writing</h3>"
   ]
  },
  {
   "cell_type": "markdown",
   "metadata": {},
   "source": [
    "This section will go over the standards of writing functions, standards which weren't necessary for functions to, well, function, but are nonetheless important to know to write better code.<br>\n",
    "The first part of function writing will look into some syntax that is used when writing functions; typically, value types of the inputs and outputs of functions aren't specified in the variable/function names, so instead indicators are used to specify what types of variables are used. To see the syntax of this, let's look at an example:"
   ]
  },
  {
   "cell_type": "code",
   "execution_count": null,
   "metadata": {},
   "outputs": [],
   "source": [
    "standard_value = 10\n",
    "\n",
    "#multiplies a number by 10\n",
    "def multiply_value(num: int):\n",
    "    return num*10\n",
    "print(multiply_value(5))\n",
    "print(multiply_value(\"5\"))"
   ]
  },
  {
   "cell_type": "markdown",
   "metadata": {},
   "source": [
    "It should be easy to see that this function has the identical output to the same function without the <code>: int</code> specification in the input, even in the case where the inputed type was not the same as the one we specified in the function input. This isn't an endorsement of randomly specifying the variables in the inputs to be a specific type and then ignoring that, instead, it was meant to show how fundamentally the <code>: </code> after the variable acts somewhat like a comment, and is mainly used for readibility. Since the colon doesn't directly impact the function, we can actually have the specified type as part of a class that has been made. For instance, if there was a class of forces from which you wanted to take and objects made from this class of type \"force,\" we could specify the input variable being of type \"force\" through <code>: force</code> after the variable in question."
   ]
  },
  {
   "cell_type": "markdown",
   "metadata": {},
   "source": [
    "We can also specify the output type of a function in a similar way:"
   ]
  },
  {
   "cell_type": "code",
   "execution_count": null,
   "metadata": {
    "scrolled": true
   },
   "outputs": [],
   "source": [
    "special_word = \"fugacity\"\n",
    "\n",
    "#returns if a word is a \"thermo word,\" specified by a small list\n",
    "def thermo_word(word: str) -> bool:\n",
    "    if word in (\"heat\", \"Carnot\", \"engine\", \"Boltzmann\", \"U=Q-W\", \"3/2kT\", \"fugacity\"):\n",
    "        return True\n",
    "    return False\n",
    "\n",
    "print(thermo_word(special_word))"
   ]
  },
  {
   "cell_type": "markdown",
   "metadata": {},
   "source": [
    "Again, this <code> -> </code> syntax past the function definition is just for syntax and has no direct impact on the function. Additionally, we can see the lack of an <code>else</code> statement in the cell above, this is by design. Since a function can only ever <code>return</code> one object, anything caught in the <code>if</code> statement's <code>return</code> will stop the function from reaching the next line's <code>return False</code>, and if something isn't caught in the <code>if</code> statement, it will simply move onto and execute the <code>return False</code> line."
   ]
  },
  {
   "cell_type": "markdown",
   "metadata": {},
   "source": [
    "[Return to Specialized Python Fundamentals](#specialized)"
   ]
  },
  {
   "cell_type": "markdown",
   "metadata": {},
   "source": [
    "<a id=\"default\"></a>\n",
    "<h4>Default Values</h4>"
   ]
  },
  {
   "cell_type": "markdown",
   "metadata": {},
   "source": [
    "Default values in functions are the function equivalent of default values in classes: the function assumes the value unless the value is specifically overwritten. These are NOT constants as in the previous all-caps case, though are values that are common enough that typing them in once is more efficient than repeatedly typing them. To set a default value in a function, all we need to do is have <code>variable = value</code> as if we were creating a variable outside of the variable. This function default value won't be available for use outside of the function, though. An default value implementation is provided below:"
   ]
  },
  {
   "cell_type": "code",
   "execution_count": null,
   "metadata": {},
   "outputs": [],
   "source": [
    "#finds the gravitational force on a mass\n",
    "def grav_force(m, M:int = 5.97*10**24, R:float = 6376000) -> float:\n",
    "    return 6.67*10**(-11)*m*M/(R**2)\n",
    "\n",
    "print(grav_force(1))"
   ]
  },
  {
   "cell_type": "markdown",
   "metadata": {},
   "source": [
    "The <code>: </code> is not necessary here, as the variable type should be self-evident from the value, in fact it's not even stylistically recommended, but was included here to show that the <code>: </code> is still allowed with a default value. It should also be noted that the values which are defaulted must come AFTER any non-defaulted values; this isn't just stylistically recommended, but Python will not compile if a defaulted input comes before an unknown value.<br><br>\n",
    "Default values can also be used in class methods with the exact same syntax:"
   ]
  },
  {
   "cell_type": "code",
   "execution_count": null,
   "metadata": {},
   "outputs": [],
   "source": [
    "class My_class:\n",
    "    \n",
    "    def __init__(self, my_int: int):\n",
    "        self.my_int = my_int\n",
    "        \n",
    "    def times_num(self, num = 10) -> float:\n",
    "        return num*self.my_int\n",
    "\n",
    "my_object = My_class(5)\n",
    "print(my_object.times_num())\n",
    "print(my_object.times_num(num = 5))"
   ]
  },
  {
   "cell_type": "markdown",
   "metadata": {},
   "source": [
    "I also included a little something extra in the previous cell: if we want to specify certain values as inputs we can use <code>input_name = value</code>, a concept that's simple, yet required for specialized Python tools such as those in machine learning."
   ]
  },
  {
   "cell_type": "markdown",
   "metadata": {},
   "source": [
    "[Return to Specialized Python Fundamentals](#specialized)"
   ]
  },
  {
   "cell_type": "markdown",
   "metadata": {},
   "source": [
    "<a id=\"condwriting\"></a>\n",
    "<h3>Proper Conditional Writing</h3>"
   ]
  },
  {
   "cell_type": "markdown",
   "metadata": {},
   "source": [
    "This section should be quick, and perhaps some of you may have picked up on this already. There isn't much to conditionals in terms of style, with the exception of one brief element that introductory programmers often miss. Let's take a look at the conditional below and see what it is that can be improved."
   ]
  },
  {
   "cell_type": "code",
   "execution_count": null,
   "metadata": {},
   "outputs": [],
   "source": [
    "variable = True\n",
    "#example conditional\n",
    "if (variable == True):\n",
    "    print(variable)\n",
    "if (variable == False):\n",
    "    print(variable)"
   ]
  },
  {
   "cell_type": "markdown",
   "metadata": {},
   "source": [
    "The \"problem\" with this code is that there's a redundancy, try to see if you can spot it. The redundancy comes from having the expression inside the <code>()</code> parantheses be evaluated; since we already have the variable as a boolean, it will either be <code>True</code> or <code>False</code>, but either way, we only need this for the conditional statement:"
   ]
  },
  {
   "cell_type": "code",
   "execution_count": null,
   "metadata": {},
   "outputs": [],
   "source": [
    "variable = False\n",
    "if (variable):\n",
    "    print(variable)\n",
    "if (not variable):\n",
    "    print(variable)"
   ]
  },
  {
   "cell_type": "markdown",
   "metadata": {},
   "source": [
    "This may seem trivial when we input something defined one line earlier, though often this discrepancy appears when dealing with more complex code, something like,"
   ]
  },
  {
   "cell_type": "code",
   "execution_count": null,
   "metadata": {},
   "outputs": [],
   "source": [
    "gravitational_force = True\n",
    "if gravitational_force:\n",
    "    print(\"Gmm/r^2\")\n",
    "else:\n",
    "    print(\"Unknown\")"
   ]
  },
  {
   "cell_type": "markdown",
   "metadata": {},
   "source": [
    "as the variable <code>gravitational_force</code> is easy to is defined as boolean in this case."
   ]
  },
  {
   "cell_type": "markdown",
   "metadata": {},
   "source": [
    "[Return to Specialized Python Fundamentals](#specialized)"
   ]
  },
  {
   "cell_type": "markdown",
   "metadata": {},
   "source": [
    "<a id=\"ennumerate\"></a>\n",
    "<h3>Enumerate</h3>"
   ]
  },
  {
   "cell_type": "markdown",
   "metadata": {},
   "source": [
    "Enumeration is a useful concept in <code>for</code> loops, but can be worked around in a way that enumeration isn't needed in something more fundamental to coding practices. Enumerating a loop simply gives both the index and value of that loop, and it should be somewhat obvious as to why this would be useful in <code>for</code> loops. The work-around for this used to be using <code>list[i]</code> inside the loop to get the element, but with enumerates we can bypass this <i>clunky</i> code:"
   ]
  },
  {
   "cell_type": "code",
   "execution_count": null,
   "metadata": {
    "scrolled": true
   },
   "outputs": [],
   "source": [
    "starter_list = [1, 2, 4, 8, 9, 15]\n",
    "\n",
    "for i, n in enumerate(starter_list):\n",
    "    print(i, n)\n",
    "    \n",
    "#compare this to the old way:\n",
    "# starter_list = [1, 2, 4, 8, 9, 15]\n",
    "# for i in range(len(starter_list)):\n",
    "#    print(i, starter_list[i])"
   ]
  },
  {
   "cell_type": "markdown",
   "metadata": {},
   "source": [
    "Where it is important to note the non-standard <code>i, n</code> part before the enumeration, as well as the fact that the index always comes before the values! The difference between enumeration and the old way may seem minute, but the runtime should solidify enumeration as the better method."
   ]
  },
  {
   "cell_type": "markdown",
   "metadata": {},
   "source": [
    "[Return to Specialized Python Fundamentals](#specialized)"
   ]
  },
  {
   "cell_type": "markdown",
   "metadata": {},
   "source": [
    "<a id=\"append\"></a>\n",
    "<h3>Appending and List Comprehensions</h3>"
   ]
  },
  {
   "cell_type": "markdown",
   "metadata": {},
   "source": [
    "Appending is instrumental in lists whereas list comprehensions are simply used to neatify code (like, <i>really</i> neatify code); since appending is more important, let's go over that first."
   ]
  },
  {
   "cell_type": "markdown",
   "metadata": {},
   "source": [
    "<h4>Appending</h4>\n",
    "Appending to lists allows us to stick extra elements onto a list, always at the end of where we defined the list, there isn't much more to appending than that honestly. For example, we can append a list like:"
   ]
  },
  {
   "cell_type": "code",
   "execution_count": null,
   "metadata": {},
   "outputs": [],
   "source": [
    "basic_list = [1, \"5\", \"g\", \"fugacity\", (10, 3, -42)]\n",
    "print(basic_list)\n",
    "\n",
    "#appending\n",
    "basic_list.append(5)\n",
    "print(basic_list)\n",
    "#another way to append:\n",
    "basic_list = basic_list + basic_list\n",
    "print(basic_list)"
   ]
  },
  {
   "cell_type": "markdown",
   "metadata": {},
   "source": [
    "Please note that to append multiple elements, the appending will need to be done manually or by using loops, trying to append a list to a list by using <code>.append([list_elements])</code> will put the \"appended\" list inside the other list.<br><br>\n",
    "There are also more complicated list commands, like <code>.pop()</code>, <code>.join()</code>, <code>.insert()</code>, and <code>.sort()</code> along with others, but these come up on a case-by-case basis.<br><br>\n",
    "<h4>List Comprehension</h4>\n",
    "List comprehensions are a much nicer and easier way to produce lists from loops. Say, for instance, you were looking at an osciallator and wanted to know the position only when it was greater than the equilibrium position. That code would be much nicer to write using list compehension than by other means. As an example, I'll supply a few position coordinates and set up a list comprehension to look at."
   ]
  },
  {
   "cell_type": "code",
   "execution_count": null,
   "metadata": {},
   "outputs": [],
   "source": [
    "position = [40, -20, 10, -5, 2.5, -1.25, .625, -.3875, .19375]\n",
    "\n",
    "#list comprehension:\n",
    "positive_position = [value for value in position if value>0]\n",
    "print(positive_position)"
   ]
  },
  {
   "cell_type": "markdown",
   "metadata": {},
   "source": [
    "Where we can see here that a list comprehension is defined by putting <code>[]</code> braces around a one-line <code>for</code> loop. The coditional <code>if value>0</code> here isn't necessary for making a list comprehension, but I wanted to show it off as typically conditionals are used in list comprehensions in simular situations as the one I posed."
   ]
  },
  {
   "cell_type": "markdown",
   "metadata": {},
   "source": [
    "[Return to Specialized Python Fundamentals](#specialized)"
   ]
  },
  {
   "cell_type": "markdown",
   "metadata": {},
   "source": [
    "<a id=\"files\"></a>\n",
    "<h3>Files</h3>"
   ]
  },
  {
   "cell_type": "markdown",
   "metadata": {},
   "source": [
    "Writing and reading to files is something I dislike as I can never remember the exact keywords. In general, you won't remember either as file functionality will typically be implemented sparcely and not need to be modified. That being said, let's go over file reading/writing so that you have the reference for when it may come up in the future.<br><br>\n",
    "To write to files, we want to make it into an object by using <code>f = open(file_name, \"w\")</code> where <code>f</code> is a shorthand for file and \"w\" is for write. The file doesn't need to exist in order to write to it, Python will handle that (theres also \"a\" for append instead of \"w\"). Once we have the file open, we can write to is using <code>f.write(text_here)</code> and close the file by <code>f.close()</code>. As an example, "
   ]
  },
  {
   "cell_type": "code",
   "execution_count": null,
   "metadata": {},
   "outputs": [],
   "source": [
    "f = open(\"example.txt\", \"w\")\n",
    "f.write(\"Physicists created the internet!\")\n",
    "f.close()"
   ]
  },
  {
   "cell_type": "markdown",
   "metadata": {},
   "source": [
    "After writing to files, we can read from them by using essentially the same syntax except for the \"w\" being replaced with \"r\". After we have the file open to read, we can read from the file by using <code>f.read()</code>, or go line by line with <code>f.readline()</code>, like this:"
   ]
  },
  {
   "cell_type": "code",
   "execution_count": null,
   "metadata": {},
   "outputs": [],
   "source": [
    "f = open(\"example.txt\", \"r\")\n",
    "print(f.read())\n",
    "print(f.readline())\n",
    "f.close()"
   ]
  },
  {
   "cell_type": "markdown",
   "metadata": {},
   "source": [
    "To note, only one line was read off (unless you modified the previous <code>f.write()</code> command to include more) since the reading always goes off the position of the last element we wrote/read."
   ]
  },
  {
   "cell_type": "markdown",
   "metadata": {},
   "source": [
    "[Return to Specialized Python Fundamentals](#specialized)"
   ]
  },
  {
   "cell_type": "markdown",
   "metadata": {},
   "source": [
    "<a id=\"try\"></a>\n",
    "<h3>Try Except Finally and Raise (NP)</h3>"
   ]
  },
  {
   "cell_type": "markdown",
   "metadata": {},
   "source": [
    "Try, except, and statements are a bit percarious, they let us ignore any potential errors (such as a divide by zero error) and keep chugging on. Depending on your view and project, this seems either great or terrible: the bad values can just be passed by, or something's gone wrong with the code. I won't say which case is more likely, but I will say that it's better to be cautious than callous in these situations.<br><br>\n",
    "Assuming you had a system that gave an expected error that wasn't physically meaningful to any output and were extremely sure it wasn't due to a bug in the code, you can use a <code>try...except..finally/else</code> statement. As the names somewhat imply, we first try a chunk of code, if that fails we go to the except chunk, and then we reach the final state: if we want code to execute regardless of if the except block was reached, we use finally; otherwise, we use else. A sample program of this could be for inverse-square law forces:"
   ]
  },
  {
   "cell_type": "code",
   "execution_count": null,
   "metadata": {},
   "outputs": [],
   "source": [
    "def gravity_force(r: float) -> float:\n",
    "    return r**(-2)\n",
    "\n",
    "try:\n",
    "    gravity_force(1)\n",
    "    gravity_force(.001)\n",
    "    gravity_force(0)\n",
    "except:\n",
    "    print(\"Divided by zero\")\n",
    "finally:\n",
    "    print(\"All done!\")"
   ]
  },
  {
   "cell_type": "markdown",
   "metadata": {},
   "source": [
    "Based on this code, we can see that if anything in the <code>try</code> block fails, then we don't execute any of it and move to the <code>except</code> except block. If we want to be better about a <code>try...except</code> statement, we can specify which types of errors to catch inside the except, by using <code>except ErrorName</code>. In this case, the error we receive is a <code>ZeroDivisionError</code>, try to modify the code to have the same output but with a better <code>except</code> statement.<br><br>\n",
    "A better implementation of <code>try...except</code> when we don't know if/why an eror happens can be done with using conditionals and the keyword <code>raise</code>. As an example, let's redo the <code>gravity_force</code> code,"
   ]
  },
  {
   "cell_type": "code",
   "execution_count": null,
   "metadata": {},
   "outputs": [],
   "source": [
    "def gravity_force(r: float) -> float:\n",
    "    return r**(-2)\n",
    "\n",
    "x = 1\n",
    "gravity_force(x)\n",
    "x = .001\n",
    "gravity_force(x)\n",
    "x = 0\n",
    "if x==0:\n",
    "    raise Exception(\"Can't divide by zero\")"
   ]
  },
  {
   "cell_type": "markdown",
   "metadata": {},
   "source": [
    "Where here we can see that we actually get an exception we defined, and can review the code to see what went wrong. (Amd no, generally we don't define something and then check if it's what we defined, I just use <code>x=0</code> followed by <code>if x==0:</code> to get across the notation)."
   ]
  },
  {
   "cell_type": "markdown",
   "metadata": {},
   "source": [
    "[Return to Specialized Python Fundamentals](#specialized)"
   ]
  },
  {
   "cell_type": "markdown",
   "metadata": {},
   "source": [
    "<a id=\"specializedsol\"></a>\n",
    "<h3> Specialized Python Fundamentals Example Solutions </h3>"
   ]
  },
  {
   "cell_type": "markdown",
   "metadata": {},
   "source": [
    "No examples for now! Come back when the other sections of the notebook are complete!"
   ]
  },
  {
   "cell_type": "code",
   "execution_count": null,
   "metadata": {},
   "outputs": [],
   "source": []
  },
  {
   "cell_type": "markdown",
   "metadata": {},
   "source": [
    "[Return to top](#topcell)"
   ]
  },
  {
   "cell_type": "markdown",
   "metadata": {},
   "source": [
    "<a id=\"ml\"></a>\n",
    "<h2>Machine Learning</h2>"
   ]
  },
  {
   "cell_type": "markdown",
   "metadata": {},
   "source": [
    "Machine learning is, for lack of better words, taking over the world, and physics was not spared in the process. While this chapter will give an overview and implementation for a variety of machine learning concepts and where they would be used in physics, please note that machine learning is so vast and ever-changing that you will need to seek machine learning techniques that are tailored to the problem you're probing.\n",
    "\n",
    "As for the machine learning framework of choice, PyTorch (torch) and TensorFlow (tf) are the current industry standard, though this will cover torch as it seems that framework is more suited towards current research, though the same principles can be taken from torch and applied to tf."
   ]
  },
  {
   "cell_type": "markdown",
   "metadata": {},
   "source": [
    "<h3> Machine Learning Topics </h3>\n",
    "\n",
    "1: [Machine Learning Introduction](#intro) <br>\n",
    "2: [Regression](#regression) <br>\n",
    "3: [Classification](#classification) <br>\n",
    "4: [Reinforcement Learning](#reinforcement) <br>\n",
    "5: [Neural Networks](#nn) <br>\n",
    "6: [Machine Learning Example Solutions](#mlsol)"
   ]
  },
  {
   "cell_type": "markdown",
   "metadata": {},
   "source": [
    "<a id=\"intro\"></a>\n",
    "<h3>Machine Learning Introduction</h3>"
   ]
  },
  {
   "cell_type": "code",
   "execution_count": null,
   "metadata": {},
   "outputs": [],
   "source": []
  },
  {
   "cell_type": "markdown",
   "metadata": {},
   "source": [
    "[Return to Machine Learning](#ml)"
   ]
  },
  {
   "cell_type": "markdown",
   "metadata": {},
   "source": [
    "<a id=\"regression\"></a>\n",
    "<h3>Regression</h3>"
   ]
  },
  {
   "cell_type": "code",
   "execution_count": null,
   "metadata": {},
   "outputs": [],
   "source": []
  },
  {
   "cell_type": "markdown",
   "metadata": {},
   "source": [
    "[Return to Machine Learning](#ml)"
   ]
  },
  {
   "cell_type": "markdown",
   "metadata": {},
   "source": [
    "<a id=\"classification\"></a>\n",
    "<h3>Classification</h3>"
   ]
  },
  {
   "cell_type": "code",
   "execution_count": null,
   "metadata": {},
   "outputs": [],
   "source": []
  },
  {
   "cell_type": "markdown",
   "metadata": {},
   "source": [
    "[Return to Machine Learning](#ml)"
   ]
  },
  {
   "cell_type": "markdown",
   "metadata": {},
   "source": [
    "<a id=\"reinforcement\"></a>\n",
    "<h3>Reinforcement Learning</h3>"
   ]
  },
  {
   "cell_type": "code",
   "execution_count": null,
   "metadata": {},
   "outputs": [],
   "source": []
  },
  {
   "cell_type": "markdown",
   "metadata": {},
   "source": [
    "[Return to Machine Learning](#ml)"
   ]
  },
  {
   "cell_type": "markdown",
   "metadata": {},
   "source": [
    "<a id=\"nn\"></a>\n",
    "<h3>Neural Networks</h3>"
   ]
  },
  {
   "cell_type": "code",
   "execution_count": null,
   "metadata": {},
   "outputs": [],
   "source": []
  },
  {
   "cell_type": "markdown",
   "metadata": {},
   "source": [
    "[Return to Machine Learning](#ml)"
   ]
  },
  {
   "cell_type": "markdown",
   "metadata": {},
   "source": [
    "<a id=\"mlsol\"></a>\n",
    "<h2>Machine Learning Example Solutions</h2>"
   ]
  },
  {
   "cell_type": "markdown",
   "metadata": {},
   "source": [
    "No examples for now! Come back when the other sections of the notebook are complete!"
   ]
  },
  {
   "cell_type": "code",
   "execution_count": null,
   "metadata": {},
   "outputs": [],
   "source": []
  },
  {
   "cell_type": "markdown",
   "metadata": {},
   "source": [
    "[Return to top](#topcell)"
   ]
  },
  {
   "cell_type": "markdown",
   "metadata": {},
   "source": [
    "Things to implement:\n",
    "imports\n",
    "-numpy/scipy\n",
    "-matplotlib\n",
    "-possibly astro/units\n",
    "iterators (https://www.w3schools.com/python/python_iterators.asp), \n",
    "machine learning (scikitlearn, pytorch, tf, pandas)\n",
    "polymorphism"
   ]
  },
  {
   "cell_type": "code",
   "execution_count": null,
   "metadata": {},
   "outputs": [],
   "source": []
  }
 ],
 "metadata": {
  "kernelspec": {
   "display_name": "Python 3",
   "language": "python",
   "name": "python3"
  },
  "language_info": {
   "codemirror_mode": {
    "name": "ipython",
    "version": 3
   },
   "file_extension": ".py",
   "mimetype": "text/x-python",
   "name": "python",
   "nbconvert_exporter": "python",
   "pygments_lexer": "ipython3",
   "version": "3.7.3"
  }
 },
 "nbformat": 4,
 "nbformat_minor": 2
}
